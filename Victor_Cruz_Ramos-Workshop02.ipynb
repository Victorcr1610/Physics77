{
 "cells": [
  {
   "cell_type": "markdown",
   "metadata": {},
   "source": [
    "Victor Cruz Ramos \n",
    "Section 101"
   ]
  },
  {
   "cell_type": "markdown",
   "metadata": {},
   "source": [
    "# Workshop 2: Control Structures"
   ]
  },
  {
   "cell_type": "markdown",
   "metadata": {},
   "source": [
    "**Submit this notebook to bCourses to receive a grade for this Workshop.**\n",
    "\n",
    "Please complete workshop activities in code cells in this iPython notebook. The activities titled **Practice** are purely for you to explore Python, and no particular output is expected. Some of them have some code written, and you should try to modify it in different ways to understand how it works. Although no particular output is expected at submission time, it is _highly_ recommended that you read and work through the practice activities before or alongside the exercises. However, the activities titled **Exercise** have specific tasks and specific outputs expected. Include comments in your code when necessary. Enter your name in the cell at the top of the notebook. \n",
    "\n",
    "**The workshop should be submitted on bCourses under the Assignments tab (both the .ipynb and .pdf files).**"
   ]
  },
  {
   "cell_type": "markdown",
   "metadata": {},
   "source": [
    "## Practice \n",
    "\n",
    "[Exercises start here](#exercises)"
   ]
  },
  {
   "cell_type": "markdown",
   "metadata": {},
   "source": [
    "### Loops and Lists"
   ]
  },
  {
   "cell_type": "markdown",
   "metadata": {},
   "source": [
    "In Python, we can create a list of things (integers, floats, strings, more lists...) using the following syntax:"
   ]
  },
  {
   "cell_type": "code",
   "execution_count": 2,
   "metadata": {},
   "outputs": [
    {
     "name": "stdout",
     "output_type": "stream",
     "text": [
      "['Rick', 'Morty', 'Beth', 'Summer', 'Jerry', 'Birdperson', 'Mr. Meeseeks'] [2, 3, 4.3, 9000.0, 0.5]\n"
     ]
    }
   ],
   "source": [
    "#Make sure the elements of your list are separated by commas -- and don't forget the brackets!\n",
    "people = ['Rick', 'Morty', 'Beth', 'Summer', 'Jerry', 'Birdperson', 'Mr. Meeseeks']  \n",
    "some_numbers = [2, 3, 4.3, 9e3, 1/2]\n",
    "\n",
    "print(people, some_numbers)"
   ]
  },
  {
   "cell_type": "markdown",
   "metadata": {},
   "source": [
    "You can put a mix of whatever you want into a list, but we mostly only need lists of numbers in computational physics.  If we want to go through each thing in a list (things in lists are called _elements_), we can use a `for` loop.  Note that the first line with the word `for` has a colon at the end, and everything below it is indented."
   ]
  },
  {
   "cell_type": "code",
   "execution_count": 3,
   "metadata": {},
   "outputs": [
    {
     "name": "stdout",
     "output_type": "stream",
     "text": [
      "Rick\n",
      "Morty\n",
      "Beth\n",
      "Summer\n",
      "Jerry\n",
      "Birdperson\n",
      "Mr. Meeseeks\n",
      "4\n",
      "9\n",
      "18.49\n",
      "81000000.0\n",
      "0.25\n"
     ]
    }
   ],
   "source": [
    "'''When Python sees a for loop, it will go through each element in a list (in order) and perform whatever\n",
    "   commands are on the indented lines.  Below, we see that he name of the list (people) is placed after the keyword \"in\".\n",
    "   The variable name (person) between the \"for\" and \"in\" keywords is assigned to the value of each element\n",
    "   as the loop goes through the list.'''\n",
    "   \n",
    "for person in people:\n",
    "    print(person)\n",
    "\n",
    "'''Here, the variable name (number) is assigned to each element of the list (some_numbers) successively.\n",
    "   In each iteration of the loop, the current value of number is squared and printed.'''\n",
    "for number in some_numbers:\n",
    "    print(number**2)"
   ]
  },
  {
   "cell_type": "markdown",
   "metadata": {},
   "source": [
    "We can grab a specific element of the list by referencing its index (the first element has an index of 0, the second is 1, the third is 2, etc.). "
   ]
  },
  {
   "cell_type": "code",
   "execution_count": 4,
   "metadata": {},
   "outputs": [
    {
     "name": "stdout",
     "output_type": "stream",
     "text": [
      "Rick Summer 3\n"
     ]
    }
   ],
   "source": [
    "print(people[0], people[3], some_numbers[1])"
   ]
  },
  {
   "cell_type": "markdown",
   "metadata": {},
   "source": [
    "There's another really common way of going through lists in Python.  We'll use a `for` loop again, but this time we'll grab the elements by referencing indices.  To do this, we'll use the pre-defined `range(N)` which gives us a list of numbers from 0 to N - 1. <a id='range_syntax'></a>\n"
   ]
  },
  {
   "cell_type": "code",
   "execution_count": 5,
   "metadata": {},
   "outputs": [
    {
     "name": "stdout",
     "output_type": "stream",
     "text": [
      "0\n",
      "1\n",
      "2\n",
      "3\n",
      "4\n"
     ]
    }
   ],
   "source": [
    "#range(5) is equivalent to [0, 1, 2, 3, 4]\n",
    "for i in range(5):\n",
    "    print(i)"
   ]
  },
  {
   "cell_type": "code",
   "execution_count": 6,
   "metadata": {},
   "outputs": [
    {
     "name": "stdout",
     "output_type": "stream",
     "text": [
      "2\n",
      "3\n",
      "4.3\n",
      "9000.0\n",
      "0.5\n"
     ]
    }
   ],
   "source": [
    "for i in range(5):\n",
    "    print(some_numbers[i])"
   ]
  },
  {
   "cell_type": "markdown",
   "metadata": {},
   "source": [
    "If you want to go through every element of a list using this `for x in range(N)` syntax, it's useful to know the length of the list."
   ]
  },
  {
   "cell_type": "code",
   "execution_count": 7,
   "metadata": {},
   "outputs": [
    {
     "name": "stdout",
     "output_type": "stream",
     "text": [
      "Rick\n",
      "Morty\n",
      "Beth\n",
      "Summer\n",
      "Jerry\n",
      "Birdperson\n",
      "Mr. Meeseeks\n"
     ]
    }
   ],
   "source": [
    "#len(list) returns the integer-valued length of the list\n",
    "for i in range(len(people)):\n",
    "    print(people[i])"
   ]
  },
  {
   "cell_type": "markdown",
   "metadata": {},
   "source": [
    "Another useful thing you can do is check if an element is in a list using the `in` keyword.  If the element is in the list, Python returns the Boolean value `True`.  If not, it returns `False`."
   ]
  },
  {
   "cell_type": "code",
   "execution_count": 8,
   "metadata": {},
   "outputs": [
    {
     "data": {
      "text/plain": [
       "False"
      ]
     },
     "execution_count": 8,
     "metadata": {},
     "output_type": "execute_result"
    }
   ],
   "source": [
    "'Squanchy' in people"
   ]
  },
  {
   "cell_type": "code",
   "execution_count": 9,
   "metadata": {},
   "outputs": [
    {
     "data": {
      "text/plain": [
       "True"
      ]
     },
     "execution_count": 9,
     "metadata": {},
     "output_type": "execute_result"
    }
   ],
   "source": [
    "'Morty' in people"
   ]
  },
  {
   "cell_type": "code",
   "execution_count": 10,
   "metadata": {},
   "outputs": [
    {
     "data": {
      "text/plain": [
       "True"
      ]
     },
     "execution_count": 10,
     "metadata": {},
     "output_type": "execute_result"
    }
   ],
   "source": [
    "'Squanchy' not in people"
   ]
  },
  {
   "cell_type": "markdown",
   "metadata": {},
   "source": [
    "### Conditional statements"
   ]
  },
  {
   "cell_type": "markdown",
   "metadata": {},
   "source": [
    "We can check if two things are equivalent using `==` (equal to) in Python."
   ]
  },
  {
   "cell_type": "code",
   "execution_count": 11,
   "metadata": {},
   "outputs": [
    {
     "data": {
      "text/plain": [
       "True"
      ]
     },
     "execution_count": 11,
     "metadata": {},
     "output_type": "execute_result"
    }
   ],
   "source": [
    "5 == 5"
   ]
  },
  {
   "cell_type": "code",
   "execution_count": 12,
   "metadata": {},
   "outputs": [
    {
     "data": {
      "text/plain": [
       "False"
      ]
     },
     "execution_count": 12,
     "metadata": {},
     "output_type": "execute_result"
    }
   ],
   "source": [
    "5 == 4"
   ]
  },
  {
   "cell_type": "markdown",
   "metadata": {},
   "source": [
    "If they are equivalent, the expression returns `True`, otherwise it returns `False`.  We can then use these `True` and `False` expressions to write something called an `if` statement.  \n",
    "\n",
    "The syntax of an `if` statement is `if conditional:` where `conditional` is some expression that will either be `True` or `False`.  The (indented) code below an `if` statement will only run if the **conditional expression** is `True`.  For example, run the code below with two equal numbers and then two different numbers."
   ]
  },
  {
   "cell_type": "code",
   "execution_count": 13,
   "metadata": {},
   "outputs": [
    {
     "name": "stdout",
     "output_type": "stream",
     "text": [
      "This is true\n"
     ]
    }
   ],
   "source": [
    "if 5 == 5:\n",
    "    print(\"This is true\")"
   ]
  },
  {
   "cell_type": "markdown",
   "metadata": {},
   "source": [
    "We also have the option of adding an `else` statement *after* any `if` statement.  The (indented) code below an `else` statement will only run if the conditional expression of the `if` statement is `False`."
   ]
  },
  {
   "cell_type": "code",
   "execution_count": 14,
   "metadata": {},
   "outputs": [
    {
     "name": "stdout",
     "output_type": "stream",
     "text": [
      "This is false\n"
     ]
    }
   ],
   "source": [
    "if 5 == 4:\n",
    "    print(\"This is true\")\n",
    "else:\n",
    "    print(\"This is false\")"
   ]
  },
  {
   "cell_type": "markdown",
   "metadata": {},
   "source": [
    "There's also something called an `else if` statement, written as `elif` in Python code.  But first, let's look at a few more ways we can compare things using `<` (less than), `>` (greater than), `<=` (less than or equal to), `>=` (greater than or equal to), and `!=` (not equal to).  All of these comparisons return either `True` or `False`."
   ]
  },
  {
   "cell_type": "code",
   "execution_count": 15,
   "metadata": {},
   "outputs": [
    {
     "data": {
      "text/plain": [
       "False"
      ]
     },
     "execution_count": 15,
     "metadata": {},
     "output_type": "execute_result"
    }
   ],
   "source": [
    "5 < 4"
   ]
  },
  {
   "cell_type": "code",
   "execution_count": 16,
   "metadata": {},
   "outputs": [
    {
     "data": {
      "text/plain": [
       "True"
      ]
     },
     "execution_count": 16,
     "metadata": {},
     "output_type": "execute_result"
    }
   ],
   "source": [
    "5 > 4"
   ]
  },
  {
   "cell_type": "code",
   "execution_count": 17,
   "metadata": {},
   "outputs": [
    {
     "data": {
      "text/plain": [
       "False"
      ]
     },
     "execution_count": 17,
     "metadata": {},
     "output_type": "execute_result"
    }
   ],
   "source": [
    "5 >= 6"
   ]
  },
  {
   "cell_type": "code",
   "execution_count": 18,
   "metadata": {},
   "outputs": [
    {
     "data": {
      "text/plain": [
       "True"
      ]
     },
     "execution_count": 18,
     "metadata": {},
     "output_type": "execute_result"
    }
   ],
   "source": [
    "5 <= 5"
   ]
  },
  {
   "cell_type": "code",
   "execution_count": 19,
   "metadata": {},
   "outputs": [
    {
     "data": {
      "text/plain": [
       "True"
      ]
     },
     "execution_count": 19,
     "metadata": {},
     "output_type": "execute_result"
    }
   ],
   "source": [
    "5 != 6"
   ]
  },
  {
   "cell_type": "markdown",
   "metadata": {},
   "source": [
    "Alright, so suppose we want to compare the number `a` to multiples of the number `b`.  I'm not sure why we'd want to do this, but it's a good way to demonstrate `elif` statements.  If we just write a bunch of `if` statements, it's possible that all of them are `True`."
   ]
  },
  {
   "cell_type": "code",
   "execution_count": 20,
   "metadata": {},
   "outputs": [
    {
     "name": "stdout",
     "output_type": "stream",
     "text": [
      "5 is less than 6\n",
      "5 is less than 2*6\n",
      "5 is less than 3*6\n"
     ]
    }
   ],
   "source": [
    "a = 5\n",
    "b = 6\n",
    "\n",
    "if a < b:\n",
    "  print(\"{} is less than {}\".format(a, b))\n",
    "\n",
    "if a < 2*b:\n",
    "  print(\"{} is less than 2*{}\".format(a, b))\n",
    "\n",
    "if a < 3*b:\n",
    "  print(\"{} is less than 3*{}\".format(a, b))"
   ]
  },
  {
   "cell_type": "markdown",
   "metadata": {},
   "source": [
    "If we only want one thing to be printed, we can use `elif` statements after the first `if` statement -- you always need to start with an `if` statement.  The syntax is `elif conditional:`, followed by some indented code that runs if the conditional expression is `True`.  The difference: once an `elif` (or the first `if`) conditional expression is `True`, the following `elif` statements and their code are ignored."
   ]
  },
  {
   "cell_type": "code",
   "execution_count": 21,
   "metadata": {},
   "outputs": [
    {
     "name": "stdout",
     "output_type": "stream",
     "text": [
      "5 is less than 2*4\n"
     ]
    }
   ],
   "source": [
    "a = 5\n",
    "b = 4\n",
    "\n",
    "if a < b:  #False, Python moves on to the next elif statement\n",
    "  print(\"{} is less than {}\".format(a, b))\n",
    "\n",
    "elif a < 2*b: #True, Python runs the indented code below\n",
    "  print(\"{} is less than 2*{}\".format(a, b))\n",
    "\n",
    "elif a < 3*b: #The above elif statement was True, so this is ignored\n",
    "  print(\"{} is less than 3*{}\".format(a, b))"
   ]
  },
  {
   "cell_type": "markdown",
   "metadata": {},
   "source": [
    "You can put as many `elif` statements as you'd like after the first `if` statement.  As always, you're free to throw on an `else` statement at the end."
   ]
  },
  {
   "cell_type": "code",
   "execution_count": 22,
   "metadata": {},
   "outputs": [
    {
     "name": "stdout",
     "output_type": "stream",
     "text": [
      "Everything above the else statement is False\n"
     ]
    }
   ],
   "source": [
    "a = 5\n",
    "b = 1\n",
    "\n",
    "if a < b:  #False, move on to the next one\n",
    "  print(\"{} is less than {}\".format(a, b))\n",
    "\n",
    "elif a < 2*b:  #False, move on to the next one\n",
    "  print(\"{} is less than 2*{}\".format(a, b))\n",
    "\n",
    "elif a < 3*b:  #False, move on to the next one\n",
    "  print(\"{} is less than 3*{}\".format(a, b))\n",
    "\n",
    "else:  #If all the above if and elif conditionals are False, then we run the indented code below\n",
    "  print(\"Everything above the else statement is False\")"
   ]
  },
  {
   "cell_type": "markdown",
   "metadata": {},
   "source": [
    "### Combining Loops and Conditionals"
   ]
  },
  {
   "cell_type": "markdown",
   "metadata": {},
   "source": [
    "Sometimes we want to go through the elements of a list and do something only if a certain condition is met.  In this case, we'll want to combine `if` statements with `for` loops."
   ]
  },
  {
   "cell_type": "code",
   "execution_count": 23,
   "metadata": {},
   "outputs": [
    {
     "name": "stdout",
     "output_type": "stream",
     "text": [
      "Hi, I'm Rick\n",
      "Hi, I'm Morty\n",
      "Hi, I'm Beth\n",
      "Hi, I'm Summer\n",
      "Hi, I'm Jerry\n",
      "Hi, I'm Birdperson\n",
      "I'm Mr. Meeseeks, look at me!!!\n"
     ]
    }
   ],
   "source": [
    "people = ['Rick', 'Morty', 'Beth', 'Summer', 'Jerry', 'Birdperson', 'Mr. Meeseeks']\n",
    "\n",
    "for name in people:\n",
    "    if name == 'Mr. Meeseeks':\n",
    "        print(\"I'm {}, look at me!!!\".format(name))\n",
    "    else:\n",
    "        print(\"Hi, I'm {}\".format(name))"
   ]
  },
  {
   "cell_type": "markdown",
   "metadata": {},
   "source": [
    "For a more practical example, suppose we want to only print the even numbers in a list."
   ]
  },
  {
   "cell_type": "code",
   "execution_count": 24,
   "metadata": {},
   "outputs": [
    {
     "name": "stdout",
     "output_type": "stream",
     "text": [
      "4\n",
      "2\n"
     ]
    }
   ],
   "source": [
    "numbers = [3, 4, 11, 2, 7]\n",
    "\n",
    "for number in numbers:\n",
    "    if (number % 2) == 0:  #The % (modulus) operator gives the remainder after integer division; a number is even if it has a remainder of 0 after division by 2\n",
    "        print(number)"
   ]
  },
  {
   "cell_type": "markdown",
   "metadata": {},
   "source": [
    "Now suppose we want to create two new lists containing the even and odd numbers.  We can use `.append()` to add things to an existing list."
   ]
  },
  {
   "cell_type": "code",
   "execution_count": 25,
   "metadata": {},
   "outputs": [
    {
     "name": "stdout",
     "output_type": "stream",
     "text": [
      "[4, 2]\n",
      "[3, 11, 7]\n"
     ]
    }
   ],
   "source": [
    "even_numbers = []  #Create an empty list\n",
    "odd_numbers = []\n",
    "\n",
    "for number in numbers:\n",
    "    if (number % 2) == 0:            # If the number is even,\n",
    "        even_numbers.append(number)  # put it in the even list\n",
    "    else:                            # otherwise\n",
    "        odd_numbers.append(number)   # put it in the odd list\n",
    "        \n",
    "print(even_numbers)\n",
    "print(odd_numbers)"
   ]
  },
  {
   "cell_type": "markdown",
   "metadata": {},
   "source": [
    "<a id='exercises'></a>\n",
    "## Exercises\n",
    "\n",
    "Write your solutions to these exercises in code cells in this notebook, and submit your finished notebook to bCourses.\n",
    "\n",
    "In your file, separate and label each solution with a comment or a markdown cell marking the exercise.\n",
    "\n",
    "Here are the exercises. Each one will require you to use conditionals, loops, and/or list comprehensions to solve a problem and print a solution. Many of these programs are short and don't require much if any commenting to explain them. For longer or trickier solutions, however, comments may be appropriate to make your code and thought process clear. Use your best judgment.\n",
    "\n"
   ]
  },
  {
   "cell_type": "markdown",
   "metadata": {},
   "source": [
    "### Short Conditional and Loop Exercises\n",
    "\n",
    "**Exercise 1** Write a program that prints multiples of 5 which are evenly divisible by 7 (zero remainder after division), between 1500 and 2700 (both included). \n",
    "\n",
    "Hint: Try seeing what `range(10, 30)` and `range(10, 30, 4)` gives you; remember [this](#range_syntax) `for i in range(...)` syntax."
   ]
  },
  {
   "cell_type": "code",
   "execution_count": 26,
   "metadata": {},
   "outputs": [
    {
     "name": "stdout",
     "output_type": "stream",
     "text": [
      "10\n",
      "14\n",
      "18\n",
      "22\n",
      "26\n",
      "1505\n",
      "1540\n",
      "1575\n",
      "1610\n",
      "1645\n",
      "1680\n",
      "1715\n",
      "1750\n",
      "1785\n",
      "1820\n",
      "1855\n",
      "1890\n",
      "1925\n",
      "1960\n",
      "1995\n",
      "2030\n",
      "2065\n",
      "2100\n",
      "2135\n",
      "2170\n",
      "2205\n",
      "2240\n",
      "2275\n",
      "2310\n",
      "2345\n",
      "2380\n",
      "2415\n",
      "2450\n",
      "2485\n",
      "2520\n",
      "2555\n",
      "2590\n",
      "2625\n",
      "2660\n",
      "2695\n"
     ]
    }
   ],
   "source": [
    "#The for loop below prints numbers between 10 (inclusive) and 30 (exclusive), skipping by 4's\n",
    "for i in range(10, 30, 4):\n",
    "    print(i)\n",
    "\n",
    "numbers = []\n",
    "\n",
    "for i in range(1500, 2700):\n",
    "    if (i % 5) == 0:\n",
    "         if(i% 7) == 0:\n",
    "            print(i)\n",
    "   "
   ]
  },
  {
   "cell_type": "markdown",
   "metadata": {},
   "source": [
    "**Exercise 2** Write a Python program to construct the following pattern, using a `for` loop.\n",
    "\n",
    "    * \n",
    "    * * \n",
    "    * * * \n",
    "    * * * * \n",
    "    * * * * * \n",
    "    * * * * * *\n"
   ]
  },
  {
   "cell_type": "code",
   "execution_count": 27,
   "metadata": {},
   "outputs": [
    {
     "name": "stdout",
     "output_type": "stream",
     "text": [
      "* \n",
      "* * \n",
      "* * * \n",
      "* * * * \n",
      "* * * * * \n",
      "* * * * * * \n",
      "\n",
      "* \n",
      "* * \n",
      "* * * \n",
      "* * * * \n",
      "* * * * * \n",
      "* * * * * * \n"
     ]
    }
   ],
   "source": [
    "star = '* '\n",
    "\n",
    "print(1*star)\n",
    "print(2*star)\n",
    "print(3*star)\n",
    "\n",
    "for i in range(4,5):\n",
    "    print(i*star)\n",
    "for i in range(5,7):\n",
    "    print(i*star)\n",
    "\n",
    "    \n",
    "for i in range(7): #this also works\n",
    "    print(i*star)"
   ]
  },
  {
   "cell_type": "markdown",
   "metadata": {},
   "source": [
    "**Exercise 3** Use a `for` loop to reverse the string `'!scisyhP'` (don't just use `'!scisyhP'[::-1]`), and print the result.  Remember you can think of a string as a list of characters."
   ]
  },
  {
   "cell_type": "code",
   "execution_count": 28,
   "metadata": {},
   "outputs": [
    {
     "name": "stdout",
     "output_type": "stream",
     "text": [
      "range(0, 8)\n",
      "!\n",
      "s!\n",
      "cs!\n",
      "ics!\n",
      "sics!\n",
      "ysics!\n",
      "hysics!\n",
      "Physics!\n"
     ]
    }
   ],
   "source": [
    "string = '!scisyhP'\n",
    "\n",
    "#new_string = ''  #This is just an empty string\n",
    "#new_string = new_string + string[7] + string[6] + string[5]  #I can add characters to my empty string using the index number of each character \n",
    "#print(new_string)\n",
    "\n",
    "newstring=''\n",
    "\n",
    "print(range(len(string)))\n",
    "\n",
    "for i in string:\n",
    "    newstring = i + newstring\n",
    "    print(newstring)\n",
    "# I don't understand why the code did this all of a sudden"
   ]
  },
  {
   "cell_type": "markdown",
   "metadata": {},
   "source": [
    "**Exercise 4** Write a program to count the number of even and odd numbers in the list `numbers = [1, 2, 3, 4, 5, 6, 7, 8, 9]`.\n",
    "Expected Output : \n",
    "        \n",
    "    Number of even numbers : 4\n",
    "    Number of odd numbers : 5"
   ]
  },
  {
   "cell_type": "code",
   "execution_count": 29,
   "metadata": {},
   "outputs": [
    {
     "name": "stdout",
     "output_type": "stream",
     "text": [
      "1\n",
      "1\n",
      "2\n",
      "2\n",
      "3\n",
      "3\n",
      "4\n",
      "4\n",
      "5\n",
      "Number of even numbers : 4.0\n",
      "Number of odd numbers : 5.00\n"
     ]
    }
   ],
   "source": [
    "numbers = [1, 2, 3, 4, 5, 6, 7, 8, 9] \n",
    "\n",
    "#Use these variables to store the number of even and odd numbers\n",
    "number_even = 0\n",
    "number_odd  = 0\n",
    "\n",
    "for i in numbers:\n",
    "    if i%2 == 0:\n",
    "        number_even += 1\n",
    "        print(number_even)\n",
    "    else:\n",
    "        number_odd += 1\n",
    "        print(number_odd)\n",
    "        \n",
    "print(\"Number of even numbers : {:.1f}\".format(float(number_even)))\n",
    "print(\"Number of odd numbers : {:.2f}\".format(float(number_odd)))"
   ]
  },
  {
   "cell_type": "markdown",
   "metadata": {},
   "source": [
    "**Exercise 5** Write a program that prints all the numbers from 0 to 6 except 3 and 6. Use the `continue` statement.  When using a loop in Python, if the `continue` statement is reached, Python then skips to the next iteration of the loop."
   ]
  },
  {
   "cell_type": "code",
   "execution_count": 30,
   "metadata": {},
   "outputs": [
    {
     "name": "stdout",
     "output_type": "stream",
     "text": [
      "1\n",
      "3\n",
      "5\n",
      "7\n",
      "9\n"
     ]
    }
   ],
   "source": [
    "#Example: only print odd numbers from 1 to 10\n",
    "for number in range(1,11):\n",
    "    if number % 2 == 0:  #if this is True (i.e. number is even),\n",
    "        continue         #then skip to the next iteration of the loop\n",
    "\n",
    "    print(number)        #the number is only printed when the continue statement is not reached"
   ]
  },
  {
   "cell_type": "code",
   "execution_count": 31,
   "metadata": {},
   "outputs": [
    {
     "name": "stdout",
     "output_type": "stream",
     "text": [
      "1\n",
      "2\n",
      "4\n",
      "5\n"
     ]
    }
   ],
   "source": [
    "for number in range (0,6):\n",
    "    if number%3 == 0: \n",
    "        continue\n",
    "        \n",
    "    print(number)"
   ]
  },
  {
   "cell_type": "markdown",
   "metadata": {},
   "source": [
    "**Exercise 6: Fibonacci Sequence**\n",
    "The Fibonacci sequence is a sequence of integers defined by the following recursion relation. The $n$-th integer $a_n$ is defined in terms of previous integers of the sequence as\n",
    "\n",
    "$$a_n = a_{n-1} + a_{n-2}$$\n",
    "\n",
    "and $a_0 = 0$ and $a_1 = 1$. So the first few numbers are 0, 1, 1, 2, 3, 5, 8, 13, 21, .... Write a program to print the first 10 numbers in the Fibonacci series. Expected output:\n",
    "    \n",
    "    0 1 1 2 3 5 8 13 21 34\n",
    "Hint: Two (or more) variables can be assigned simultaneously. For instance, to swap the values of `a` and `b`, you can write `a, b = b, a`."
   ]
  },
  {
   "cell_type": "code",
   "execution_count": 44,
   "metadata": {},
   "outputs": [
    {
     "name": "stdout",
     "output_type": "stream",
     "text": [
      "0 1 1 2\n",
      "0\n",
      "1\n",
      "1\n",
      "2\n",
      "3\n",
      "5\n",
      "8\n",
      "13\n",
      "21\n",
      "34\n"
     ]
    }
   ],
   "source": [
    "a0, a1 = 0, 1\n",
    "a2 = a0 + a1\n",
    "a3 = a1 + a2\n",
    "print(a0, a1, a2, a3)\n",
    "\n",
    "def fib (a0, a1):\n",
    "    while a0 < 50:\n",
    "        print(a0)\n",
    "        a2 = a0 + a1\n",
    "        a0 = a1\n",
    "        a1 = a2\n",
    "fib(0, 1)    \n",
    "    \n",
    "    \n",
    "#It's tedious typing out these summations; try automating this process using a for loop\n",
    "#Your code here"
   ]
  },
  {
   "cell_type": "markdown",
   "metadata": {},
   "source": [
    "**Exercise 7** Write a program which takes two digits m (row) and n (column) and generates a two dimensional array. The element value in the i-th row and j-th column of the array should be i\\*j. Print this array.\n",
    "(Note: i = 0,1.., m-1 and j = 0,1, n-1.) Start with this code for a 3x4 array:\n",
    "    \n",
    "Expected output:\n",
    "    \n",
    "    [[0, 0, 0, 0], [0, 1, 2, 3], [0, 2, 4, 6]]\n",
    "Hint: You may use a nested `for` loops (a `for` loop inside another `for` loops) or look up \"nested list comprehension\"."
   ]
  },
  {
   "cell_type": "code",
   "execution_count": 4,
   "metadata": {},
   "outputs": [
    {
     "name": "stdout",
     "output_type": "stream",
     "text": [
      "[[0, 0, 0, 0], [0, 1, 2, 3], [0, 2, 4, 6]]\n"
     ]
    }
   ],
   "source": [
    "m = 3 # number of rows\n",
    "n = 4 # number of columns\n",
    "\n",
    "def array (m,n):\n",
    "    my_array = []\n",
    "    for row in range(m):\n",
    "        table = []\n",
    "        for col in range(n): \n",
    "            b = row*col\n",
    "            table.append(b)\n",
    "        my_array.append(table)\n",
    "    print(my_array)\n",
    "\n",
    "array(3, 4)\n",
    "        \n",
    "#my_array = [[0 for col in range(n)] for row in range (m)]\n",
    "\n",
    "#for col in range(n):\n",
    "    #for row in range(m):\n",
    "        #c = n*m\n",
    "    #print(my_array)"
   ]
  },
  {
   "cell_type": "markdown",
   "metadata": {},
   "source": [
    "## Exercise 8: Sinc Function\n",
    "\n",
    "[Adapted from Ayaras, Problem 1-4] The mathematical function $\\text{sinc}(x)$ appears when deriving the theory for [double-slit experiments](https://en.wikipedia.org/wiki/Double-slit_experiment).\n",
    "\n",
    "$$ \\text{sinc}(x) \\equiv \\frac{\\sin x}{x} $$\n",
    "\n",
    "Write a python function for Make sure that your function handles $x=0$ correctly. Type your code in a code cell in this iPython notebook. You can use the template below to get started."
   ]
  },
  {
   "cell_type": "markdown",
   "metadata": {},
   "source": [
    "Once you are happy with your function, write code to plot it. Use `numpy.linspace` to generate 1001 $x$ values between -50 and 50 (inclusive), and use your `sinc` function to generate corresponding $y$ values. Then plot the results on a new figure with appropriate limits and labels."
   ]
  },
  {
   "cell_type": "markdown",
   "metadata": {},
   "source": [
    "#### Hint\n",
    "\n",
    "At $x=0$, $\\text{sinc}(x)$ should give the value of $\\lim_{x \\to 0} \\frac{\\sin x}{x}$ so that the function is continuous.  You'll probably used an if statement in your definition of $\\text{sinc}(x)$, so be careful when finding the y values to make the plot.  Doing something like `y_values = sinc(x_values)` won't work in this case, so you'll need to evaluate each element of `x_values` individually."
   ]
  },
  {
   "cell_type": "code",
   "execution_count": 7,
   "metadata": {},
   "outputs": [
    {
     "data": {
      "text/plain": [
       "[<matplotlib.lines.Line2D at 0x7f680afdb520>]"
      ]
     },
     "execution_count": 7,
     "metadata": {},
     "output_type": "execute_result"
    },
    {
     "data": {
      "image/png": "[encoded data removed]",
      "text/plain": [
       "<Figure size 432x288 with 1 Axes>"
      ]
     },
     "metadata": {
      "needs_background": "light"
     },
     "output_type": "display_data"
    }
   ],
   "source": [
    "import numpy as np\n",
    "import matplotlib.pyplot as plt\n",
    "\n",
    "def sinc(x):\n",
    "#\"\"\" Takes a real number x and returns the continuous function\n",
    "        #sinc(x) = sin(x)/x. \"\"\"\n",
    "\n",
    "    if abs(x) >= 1e-6:\n",
    "        real = (np.sin(x))/x\n",
    "    else: \n",
    "        real = 1  \n",
    "    return real \n",
    "\n",
    "x_values = np.linspace(-50, 50, 1001)\n",
    "\n",
    "'''y_values = sinc(x_values) would give an error; numpy arrays don't play nicely with conditional statements\n",
    "   Instead, we have to fill a list of y_values one element at a time.'''\n",
    "\n",
    "y_values = []\n",
    "\n",
    "for x in x_values:\n",
    "    y = sinc(x)\n",
    "    y_values.append(y)\n",
    "    \n",
    "plt.plot(x_values, y_values, label = 'sinc(x)')"
   ]
  },
  {
   "cell_type": "markdown",
   "metadata": {},
   "source": [
    "#### Just for fun\n",
    "\n",
    "The `numpy` library also includes a `sinc(x)` function. If you plot it, you'll find that it has the same general shape as yours, but different intercepts. Why is this? Type \"numpy.sinc?\" into your interpreter or Google something like \"numpy sinc\" to find out!"
   ]
  },
  {
   "cell_type": "markdown",
   "metadata": {},
   "source": [
    "## Exercise 9: Prime Numbers\n",
    "\n",
    "[Adapted from Ayars, Problem 1-6] Write a function called `is_prime(n)` that determines whether a number `n` is prime or not, and returns either `True` or `False` accordingly. You can assume that the argument `n` passed to any of your functions will be an integer. Remember to include descriptive doc strings for each function your write!"
   ]
  },
  {
   "cell_type": "markdown",
   "metadata": {},
   "source": [
    "Then, write a function called `list_primes(n)` that uses a `for` loop and returns a list of all primes below a given number.  For fun, you can also try writing this function using a `while` loop and/or list comprehension.\n",
    "\n",
    "(Note: If you accidentally find yourself in an infinite loop, press Control+C or use the Kernel->Interrupt to get out.)"
   ]
  },
  {
   "cell_type": "markdown",
   "metadata": {},
   "source": [
    "Remember to try various test cases: What if the argument passed to `is_prime` or `list_primes` is ...\n",
    "- 20\n",
    "- 2\n",
    "- 1\n",
    "- 0\n",
    "- negative"
   ]
  },
  {
   "cell_type": "markdown",
   "metadata": {},
   "source": [
    "#### Hint\n",
    "\n",
    "Use your `is_prime` function in your various `list_primes` functions so you don't have to rewrite it each time!"
   ]
  },
  {
   "cell_type": "code",
   "execution_count": 61,
   "metadata": {},
   "outputs": [
    {
     "name": "stdout",
     "output_type": "stream",
     "text": [
      "False\n",
      "False\n"
     ]
    },
    {
     "data": {
      "text/plain": [
       "[2, 3, 5, 7, 11, 13, 17, 19, 23, 29, 31, 37, 41, 43, 47, 49, 53, 59]"
      ]
     },
     "execution_count": 61,
     "metadata": {},
     "output_type": "execute_result"
    }
   ],
   "source": [
    "def is_prime(n):\n",
    "    if n < 2: \n",
    "        print (False)\n",
    "    elif n==2:\n",
    "        print (True)\n",
    "    if (n % 2) != 0:\n",
    "        print (True) \n",
    "    elif (n % 2) == 0: \n",
    "        print (False)\n",
    "is_prime(-6)       \n",
    "\n",
    "\n",
    "def list_primes(n):\n",
    "    list_prime = [2, 3, 5]\n",
    "    for i in range(2, n):\n",
    "        if i%2 != 0: \n",
    "            if i%3 != 0:\n",
    "                if i%5 != 0:\n",
    "                    list_prime.append(i)\n",
    "    return list_prime\n",
    "\n",
    "\n",
    "list_primes(60)   \n",
    "    \n",
    "#2, 3, 5, 7, 11, 13, 17, 19, 23, 29, 31, 37, 41, 43, 47.   "
   ]
  },
  {
   "cell_type": "markdown",
   "metadata": {},
   "source": [
    "#### Just for fun\n",
    "If you're curious about (much!) more efficient ways to find primes, check out Newman problem 2.12. Try it out if you'd like!"
   ]
  },
  {
   "cell_type": "markdown",
   "metadata": {},
   "source": [
    "## Practice: Debugging (Optional)\n",
    "\n",
    "[Partly adapted from Langtangen, Exercise 2.55, 2.56]\n",
    "\n",
    "Working alone or with a partner, run each program exactly as you see it and note the errors you get. Figure out why these programs fail and correct the errors. Run your revised programs to make sure they work.\n",
    "\n",
    "*Note: Besides demonstrating errors, some of these programs also demonstrate generally bad coding practices. Try not to emulate these examples in your own code.*\n",
    "\n",
    "**Program 1:**"
   ]
  },
  {
   "cell_type": "code",
   "execution_count": 40,
   "metadata": {},
   "outputs": [],
   "source": [
    "def f(x):\n",
    "    return 1+x**2;"
   ]
  },
  {
   "cell_type": "markdown",
   "metadata": {},
   "source": [
    "**Program 2:**"
   ]
  },
  {
   "cell_type": "code",
   "execution_count": 43,
   "metadata": {},
   "outputs": [],
   "source": [
    "def f(x):\n",
    "    term1 = 1\n",
    "    term2 = x**2\n",
    "    return term1 + term2"
   ]
  },
  {
   "cell_type": "markdown",
   "metadata": {},
   "source": [
    "**Program 3:** Run the code below, then Google something like \"python list copy\" or check out [this page](https://stackoverflow.com/questions/2612802/how-to-clone-or-copy-a-list-in-python) to learn how to fix it. "
   ]
  },
  {
   "cell_type": "code",
   "execution_count": 44,
   "metadata": {},
   "outputs": [
    {
     "name": "stdout",
     "output_type": "stream",
     "text": [
      "[11, 2.0, 'hi', ('bye', 'bye')]\n",
      "[11, 2.0, 'hi', ('bye', 'bye')]\n"
     ]
    }
   ],
   "source": [
    "old_list = [5, 2.0, 'hi', ('bye', 'bye')]\n",
    "    \n",
    "new_list = old_list\n",
    "new_list[0] = 11\n",
    "\n",
    "print(new_list)\n",
    "print(old_list)  # but I didn't want the old list to change!"
   ]
  },
  {
   "cell_type": "markdown",
   "metadata": {},
   "source": [
    "## You're done!\n",
    "\n",
    "Congratulations, you've finished this week's workshop! You're welcome to leave early or get started on this week's homework."
   ]
  },
  {
   "cell_type": "markdown",
   "metadata": {
    "collapsed": true
   },
   "source": [
    "---------------\n",
    "\n",
    "*\"Conditional and Loop Exercises\" in this workshop adapted from [w3resource.com](http://www.w3resource.com/python-exercises/python-conditional-statements-and-loop-exercises.php)*"
   ]
  }
 ],
 "metadata": {
  "history": [
   {
    "code": "#Make sure the elements of your list are separated by commas -- and don't forget the brackets!\npeople = ['Rick', 'Morty', 'Beth', 'Summer', 'Jerry', 'Birdperson', 'Mr. Meeseeks']  \nsome_numbers = [2, 3, 4.3, 9e3, 1/2]\n\nprint(people, some_numbers)",
    "id": "5c565f8b691d40599c993ff75facb700",
    "idx": 6,
    "time": "2021-02-05T22:22:42.925Z",
    "type": "execution"
   },
   {
    "id": "5c565f8b691d40599c993ff75facb700",
    "time": "2021-02-05T22:22:43.473Z",
    "type": "completion"
   },
   {
    "code": "'''When Python sees a for loop, it will go through each element in a list (in order) and perform whatever\n   commands are on the indented lines.  Below, we see that he name of the list (people) is placed after the keyword \"in\".\n   The variable name (person) between the \"for\" and \"in\" keywords is assigned to the value of each element\n   as the loop goes through the list.'''\n   \nfor person in people:\n    print(person)\n\n'''Here, the variable name (number) is assigned to each element of the list (some_numbers) successively.\n   In each iteration of the loop, the current value of number is squared and printed.'''\nfor number in some_numbers:\n    print(number**2)",
    "id": "d1ae5697ab93477c82923b5fa13d4db9",
    "idx": 8,
    "time": "2021-02-05T22:24:33.705Z",
    "type": "execution"
   },
   {
    "id": "d1ae5697ab93477c82923b5fa13d4db9",
    "time": "2021-02-05T22:24:33.820Z",
    "type": "completion"
   },
   {
    "code": "'''When Python sees a for loop, it will go through each element in a list (in order) and perform whatever\n   commands are on the indented lines.  Below, we see that he name of the list (people) is placed after the keyword \"in\".\n   The variable name (person) between the \"for\" and \"in\" keywords is assigned to the value of each element\n   as the loop goes through the list.'''\n   \nfor person in people:\n    print(person)\n\n'''Here, the variable name (number) is assigned to each element of the list (some_numbers) successively.\n   In each iteration of the loop, the current value of number is squared and printed.'''\nfor number in some_numbers:\n    print(number**2)",
    "id": "d1ae5697ab93477c82923b5fa13d4db9",
    "idx": 8,
    "time": "2021-02-05T22:46:06.709Z",
    "type": "execution"
   },
   {
    "code": "print(people[0], people[3], some_numbers[1])",
    "id": "88f1ca4eba2d45c2837ed7df5cab8e31",
    "idx": 10,
    "time": "2021-02-05T22:46:35.606Z",
    "type": "execution"
   },
   {
    "code": "#range(5) is equivalent to [0, 1, 2, 3, 4]\nfor i in range(5):\n    print(i)",
    "id": "ee097afb305a419a8b38149ba8ffd24f",
    "idx": 12,
    "time": "2021-02-05T22:46:55.135Z",
    "type": "execution"
   },
   {
    "id": "d1ae5697ab93477c82923b5fa13d4db9",
    "time": "2021-02-05T22:48:04.892Z",
    "type": "completion"
   },
   {
    "id": "88f1ca4eba2d45c2837ed7df5cab8e31",
    "time": "2021-02-05T22:48:04.899Z",
    "type": "completion"
   },
   {
    "id": "ee097afb305a419a8b38149ba8ffd24f",
    "time": "2021-02-05T22:48:04.943Z",
    "type": "completion"
   },
   {
    "code": "print(people[-1], people[3], some_numbers[1])",
    "id": "88f1ca4eba2d45c2837ed7df5cab8e31",
    "idx": 10,
    "time": "2021-02-05T22:48:26.107Z",
    "type": "execution"
   },
   {
    "id": "88f1ca4eba2d45c2837ed7df5cab8e31",
    "time": "2021-02-05T22:48:26.247Z",
    "type": "completion"
   },
   {
    "code": "print(people[1], people[3], some_numbers[1])",
    "id": "88f1ca4eba2d45c2837ed7df5cab8e31",
    "idx": 10,
    "time": "2021-02-05T22:48:34.654Z",
    "type": "execution"
   },
   {
    "id": "88f1ca4eba2d45c2837ed7df5cab8e31",
    "time": "2021-02-05T22:48:34.987Z",
    "type": "completion"
   },
   {
    "code": "print(people[0], people[3], some_numbers[1])",
    "id": "88f1ca4eba2d45c2837ed7df5cab8e31",
    "idx": 10,
    "time": "2021-02-05T22:48:39.764Z",
    "type": "execution"
   },
   {
    "id": "88f1ca4eba2d45c2837ed7df5cab8e31",
    "time": "2021-02-05T22:48:40.029Z",
    "type": "completion"
   },
   {
    "code": "#range(5) is equivalent to [0, 1, 2, 3, 4]\nfor i in range(5):\n    print(i)",
    "id": "ee097afb305a419a8b38149ba8ffd24f",
    "idx": 12,
    "time": "2021-02-05T22:49:46.936Z",
    "type": "execution"
   },
   {
    "id": "ee097afb305a419a8b38149ba8ffd24f",
    "time": "2021-02-05T22:49:47.241Z",
    "type": "completion"
   },
   {
    "code": "for i in range(5):\n    print(some_numbers[i])",
    "id": "2b6cc32712004499842b3473633055e6",
    "idx": 13,
    "time": "2021-02-05T22:49:50.273Z",
    "type": "execution"
   },
   {
    "id": "2b6cc32712004499842b3473633055e6",
    "time": "2021-02-05T22:49:50.399Z",
    "type": "completion"
   },
   {
    "code": "#len(list) returns the integer-valued length of the list\nfor i in range(len(people)):\n    print(people[i])",
    "id": "166c372cdeb74676bd24f49f4b7bc501",
    "idx": 15,
    "time": "2021-02-05T22:50:56.776Z",
    "type": "execution"
   },
   {
    "id": "166c372cdeb74676bd24f49f4b7bc501",
    "time": "2021-02-05T22:50:56.887Z",
    "type": "completion"
   },
   {
    "code": "'Squanchy' in people",
    "id": "2cc189b4f6eb4b5c8c0ad5850214e8e3",
    "idx": 17,
    "time": "2021-02-05T22:51:24.001Z",
    "type": "execution"
   },
   {
    "id": "2cc189b4f6eb4b5c8c0ad5850214e8e3",
    "time": "2021-02-05T22:51:24.175Z",
    "type": "completion"
   },
   {
    "code": "'Morty' in people",
    "id": "04de9688eed444f49f61409cb5cdd377",
    "idx": 18,
    "time": "2021-02-05T22:51:25.114Z",
    "type": "execution"
   },
   {
    "id": "04de9688eed444f49f61409cb5cdd377",
    "time": "2021-02-05T22:51:25.289Z",
    "type": "completion"
   },
   {
    "code": "'Squanchy' not in people",
    "id": "790dfeeb6f0b41148ded4257c6d42eb7",
    "idx": 19,
    "time": "2021-02-05T22:51:28.922Z",
    "type": "execution"
   },
   {
    "id": "790dfeeb6f0b41148ded4257c6d42eb7",
    "time": "2021-02-05T22:51:29.156Z",
    "type": "completion"
   },
   {
    "code": "5 == 5",
    "id": "ae4bb6628c8e4a868ca7caa735f7e362",
    "idx": 22,
    "time": "2021-02-05T22:51:58.542Z",
    "type": "execution"
   },
   {
    "id": "ae4bb6628c8e4a868ca7caa735f7e362",
    "time": "2021-02-05T22:51:58.672Z",
    "type": "completion"
   },
   {
    "code": "5 == 4",
    "id": "cc40ef5f60684b06bb0250321656c50a",
    "idx": 23,
    "time": "2021-02-05T22:51:59.367Z",
    "type": "execution"
   },
   {
    "id": "cc40ef5f60684b06bb0250321656c50a",
    "time": "2021-02-05T22:51:59.512Z",
    "type": "completion"
   },
   {
    "code": "if 5 == 4:\n    print(\"This is true\")",
    "id": "633660d5a7e940618228838fba31a448",
    "idx": 25,
    "time": "2021-02-05T22:53:36.101Z",
    "type": "execution"
   },
   {
    "id": "633660d5a7e940618228838fba31a448",
    "time": "2021-02-05T22:53:36.203Z",
    "type": "completion"
   },
   {
    "code": "if 5 == 5:\n    print(\"This is true\")",
    "id": "633660d5a7e940618228838fba31a448",
    "idx": 25,
    "time": "2021-02-05T22:53:43.307Z",
    "type": "execution"
   },
   {
    "id": "633660d5a7e940618228838fba31a448",
    "time": "2021-02-05T22:53:43.418Z",
    "type": "completion"
   },
   {
    "code": "if 5 == 4:\n    print(\"This is true\")\nelse:\n    print(\"This is false\")",
    "id": "0fbb165cbd6f48e3bc6300530e6a5d43",
    "idx": 27,
    "time": "2021-02-05T22:54:03.994Z",
    "type": "execution"
   },
   {
    "id": "0fbb165cbd6f48e3bc6300530e6a5d43",
    "time": "2021-02-05T22:54:04.117Z",
    "type": "completion"
   },
   {
    "code": "5 < 4",
    "id": "16877ed3ca1b4f088b17e218289e8b21",
    "idx": 29,
    "time": "2021-02-05T22:54:35.414Z",
    "type": "execution"
   },
   {
    "id": "16877ed3ca1b4f088b17e218289e8b21",
    "time": "2021-02-05T22:54:35.522Z",
    "type": "completion"
   },
   {
    "code": "5 > 4",
    "id": "60091dfe1ff0416fb0e6d4742ee8a66a",
    "idx": 30,
    "time": "2021-02-05T22:54:37.040Z",
    "type": "execution"
   },
   {
    "id": "60091dfe1ff0416fb0e6d4742ee8a66a",
    "time": "2021-02-05T22:54:37.212Z",
    "type": "completion"
   },
   {
    "code": "5 >= 6",
    "id": "c0e3eeda22d94aef8387ce8cf58bbcc2",
    "idx": 31,
    "time": "2021-02-05T22:54:38.138Z",
    "type": "execution"
   },
   {
    "id": "c0e3eeda22d94aef8387ce8cf58bbcc2",
    "time": "2021-02-05T22:54:38.240Z",
    "type": "completion"
   },
   {
    "code": "5 <= 5",
    "id": "b411fdec3c6a48ebae232ebaf3c3752b",
    "idx": 32,
    "time": "2021-02-05T22:54:39.258Z",
    "type": "execution"
   },
   {
    "id": "b411fdec3c6a48ebae232ebaf3c3752b",
    "time": "2021-02-05T22:54:39.411Z",
    "type": "completion"
   },
   {
    "code": "5 != 6",
    "id": "9f73c354fca848bd800355c98ad32714",
    "idx": 33,
    "time": "2021-02-05T22:54:40.096Z",
    "type": "execution"
   },
   {
    "id": "9f73c354fca848bd800355c98ad32714",
    "time": "2021-02-05T22:54:40.268Z",
    "type": "completion"
   },
   {
    "code": "a = 5\nb = 6\n\nif a < b:\n  print(\"{} is less than {}\".format(a, b))\n\nif a < 2*b:\n  print(\"{} is less than 2*{}\".format(a, b))\n\nif a < 3*b:\n  print(\"{} is less than 3*{}\".format(a, b))",
    "id": "eca2b9ba76944ce2b9150ea9ac141806",
    "idx": 35,
    "time": "2021-02-05T22:55:25.762Z",
    "type": "execution"
   },
   {
    "id": "eca2b9ba76944ce2b9150ea9ac141806",
    "time": "2021-02-05T22:55:25.991Z",
    "type": "completion"
   },
   {
    "code": "a = 5\nb = 4\n\nif a < b:  #False, Python moves on to the next elif statement\n  print(\"{} is less than {}\".format(a, b))\n\nelif a < 2*b: #True, Python runs the indented code below\n  print(\"{} is less than 2*{}\".format(a, b))\n\nelif a < 3*b: #The above elif statement was True, so this is ignored\n  print(\"{} is less than 3*{}\".format(a, b))",
    "id": "24d0976f5f0a438d8ce12f49d2617140",
    "idx": 37,
    "time": "2021-02-05T22:58:17.758Z",
    "type": "execution"
   },
   {
    "id": "24d0976f5f0a438d8ce12f49d2617140",
    "time": "2021-02-05T22:58:17.950Z",
    "type": "completion"
   },
   {
    "code": "a = 5\nb = 1\n\nif a < b:  #False, move on to the next one\n  print(\"{} is less than {}\".format(a, b))\n\nelif a < 2*b:  #False, move on to the next one\n  print(\"{} is less than 2*{}\".format(a, b))\n\nelif a < 3*b:  #False, move on to the next one\n  print(\"{} is less than 3*{}\".format(a, b))\n\nelse:  #If all the above if and elif conditionals are False, then we run the indented code below\n  print(\"Everything above the else statement is False\")",
    "id": "5b0a9b9a8a424e1e89bd7dbaf4ddfdfe",
    "idx": 39,
    "time": "2021-02-05T22:58:54.411Z",
    "type": "execution"
   },
   {
    "id": "5b0a9b9a8a424e1e89bd7dbaf4ddfdfe",
    "time": "2021-02-05T22:58:54.631Z",
    "type": "completion"
   },
   {
    "code": "people = ['Rick', 'Morty', 'Beth', 'Summer', 'Jerry', 'Birdperson', 'Mr. Meeseeks']\n\nfor name in people:\n    if name == 'Mr. Meeseeks':\n        print(\"I'm {}, look at me!!!\".format(name))\n    else:\n        print(\"Hi, I'm {}\".format(name))",
    "id": "e09619a5411e466782e0e59f4ad2a1be",
    "idx": 42,
    "time": "2021-02-05T22:59:21.921Z",
    "type": "execution"
   },
   {
    "id": "e09619a5411e466782e0e59f4ad2a1be",
    "time": "2021-02-05T22:59:22.070Z",
    "type": "completion"
   },
   {
    "code": "numbers = [3, 4, 11, 2, 7]\n\nfor number in numbers:\n    if (number % 2) == 0:  #The % (modulus) operator gives the remainder after integer division; a number is even if it has a remainder of 0 after division by 2\n        print(number)",
    "id": "db4f52c9f65f4e8c8efd3482fcc5aceb",
    "idx": 44,
    "time": "2021-02-05T23:00:56.721Z",
    "type": "execution"
   },
   {
    "id": "db4f52c9f65f4e8c8efd3482fcc5aceb",
    "time": "2021-02-05T23:00:56.934Z",
    "type": "completion"
   },
   {
    "code": "even_numbers = []  #Create an empty list\nodd_numbers = []\n\nfor number in numbers:\n    if (number % 2) == 0:            # If the number is even,\n        even_numbers.append(number)  # put it in the even list\n    else:                            # otherwise\n        odd_numbers.append(number)   # put it in the odd list\n        \nprint(even_numbers)\nprint(odd_numbers)",
    "id": "0f04cea789444c2da827ec8118ebdbe4",
    "idx": 46,
    "time": "2021-02-05T23:01:28.901Z",
    "type": "execution"
   },
   {
    "id": "0f04cea789444c2da827ec8118ebdbe4",
    "time": "2021-02-05T23:01:29.207Z",
    "type": "completion"
   },
   {
    "code": "#The for loop below prints numbers between 10 (inclusive) and 30 (exclusive), skipping by 4's\nfor i in range(10, 30, 4):\n    print(i)\n#Try using something similar, but use an 'if' statement to also check if the number is evenly divisible by 7 before printing\n\n#Your code here",
    "id": "1bb4b3806fc645fb8c7bc9db84861974",
    "idx": 49,
    "time": "2021-02-05T23:02:08.253Z",
    "type": "execution"
   },
   {
    "id": "1bb4b3806fc645fb8c7bc9db84861974",
    "time": "2021-02-05T23:02:08.453Z",
    "type": "completion"
   },
   {
    "code": "#The for loop below prints numbers between 10 (inclusive) and 30 (exclusive), skipping by 4's\nfor i in range(10, 30, 4):\n    print(i)\n#Try using something similar, but use an 'if' statement to also check if the number is evenly divisible by 7 before printing\n\n#Your code here",
    "id": "1bb4b3806fc645fb8c7bc9db84861974",
    "idx": 49,
    "time": "2021-02-05T23:03:41.153Z",
    "type": "execution"
   },
   {
    "id": "1bb4b3806fc645fb8c7bc9db84861974",
    "time": "2021-02-05T23:03:41.406Z",
    "type": "completion"
   },
   {
    "code": "#The for loop below prints numbers between 10 (inclusive) and 30 (exclusive), skipping by 4's\nfor i in range(10, 30, 4):\n    print(i)\n#Try using something similar, but use an 'if' statement to also check if the number is evenly divisible by 7 before printing\n\n#Your code here",
    "id": "1bb4b3806fc645fb8c7bc9db84861974",
    "idx": 49,
    "time": "2021-02-05T23:03:44.004Z",
    "type": "execution"
   },
   {
    "id": "1bb4b3806fc645fb8c7bc9db84861974",
    "time": "2021-02-05T23:03:44.124Z",
    "type": "completion"
   },
   {
    "code": "#The for loop below prints numbers between 10 (inclusive) and 30 (exclusive), skipping by 4's\nfor i in range(10, 30, 4):\n    print(i)\n\nif ",
    "id": "1bb4b3806fc645fb8c7bc9db84861974",
    "idx": 49,
    "time": "2021-02-05T23:05:45.238Z",
    "type": "execution"
   },
   {
    "id": "1bb4b3806fc645fb8c7bc9db84861974",
    "time": "2021-02-05T23:05:45.439Z",
    "type": "completion"
   },
   {
    "code": "#The for loop below prints numbers between 10 (inclusive) and 30 (exclusive), skipping by 4's\nfor i in range(10, 30, 4):\n    print(i)\n\nif range(1500, 2700)%7==0:\n    print()",
    "id": "1bb4b3806fc645fb8c7bc9db84861974",
    "idx": 49,
    "time": "2021-02-05T23:08:35.416Z",
    "type": "execution"
   },
   {
    "id": "1bb4b3806fc645fb8c7bc9db84861974",
    "time": "2021-02-05T23:08:36.948Z",
    "type": "completion"
   },
   {
    "code": "#The for loop below prints numbers between 10 (inclusive) and 30 (exclusive), skipping by 4's\nfor i in range(10, 30, 4):\n    print(i)\n\nnumbers = range(1500, 2700)\n\nfor i in range(1500, 2700):\n    if (numbers % 7) == 0:\n        print(\"These are the numbers{}\".format(numbers))",
    "id": "1bb4b3806fc645fb8c7bc9db84861974",
    "idx": 49,
    "time": "2021-02-05T23:12:14.008Z",
    "type": "execution"
   },
   {
    "id": "1bb4b3806fc645fb8c7bc9db84861974",
    "time": "2021-02-05T23:12:14.500Z",
    "type": "completion"
   },
   {
    "code": "#The for loop below prints numbers between 10 (inclusive) and 30 (exclusive), skipping by 4's\nfor i in range(10, 30, 4):\n    print(i)\n\nnumbers = range(1500, 2700, 5)\n\nfor i in range(1500, 2700):\n    if (numbers % 7) == 0:\n        print(\"These are the numbers{}\".format(numbers))",
    "id": "1bb4b3806fc645fb8c7bc9db84861974",
    "idx": 49,
    "time": "2021-02-05T23:12:57.460Z",
    "type": "execution"
   },
   {
    "id": "1bb4b3806fc645fb8c7bc9db84861974",
    "time": "2021-02-05T23:12:57.851Z",
    "type": "completion"
   },
   {
    "code": "#The for loop below prints numbers between 10 (inclusive) and 30 (exclusive), skipping by 4's\nfor i in range(10, 30, 4):\n    print(i)\n\nnumbers = range(1500, 2700, 5)\nprint(numbers)\n\nfor i in range(1500, 2700):\n    if (numbers % 7) == 0:\n        print(\"These are the numbers{}\".format(numbers))",
    "id": "1bb4b3806fc645fb8c7bc9db84861974",
    "idx": 49,
    "time": "2021-02-05T23:13:09.245Z",
    "type": "execution"
   },
   {
    "id": "1bb4b3806fc645fb8c7bc9db84861974",
    "time": "2021-02-05T23:13:16.773Z",
    "type": "completion"
   },
   {
    "code": "#The for loop below prints numbers between 10 (inclusive) and 30 (exclusive), skipping by 4's\nfor i in range(10, 30, 4):\n    print(i)\n\nnumbers = []\n\nfor i in range(1500, 2700):\n    if (i % 7) == 0:\n        print(\"These are the numbers{}\".format(numbers))",
    "id": "1bb4b3806fc645fb8c7bc9db84861974",
    "idx": 49,
    "time": "2021-02-05T23:15:39.748Z",
    "type": "execution"
   },
   {
    "id": "1bb4b3806fc645fb8c7bc9db84861974",
    "time": "2021-02-05T23:15:39.971Z",
    "type": "completion"
   },
   {
    "code": "#The for loop below prints numbers between 10 (inclusive) and 30 (exclusive), skipping by 4's\nfor i in range(10, 30, 4):\n    print(i)\n\nnumbers = []\n\nfor i in range(1500, 2700):\n    if (i % 7) == 0:\n        print(i)",
    "id": "1bb4b3806fc645fb8c7bc9db84861974",
    "idx": 49,
    "time": "2021-02-05T23:16:10.181Z",
    "type": "execution"
   },
   {
    "id": "1bb4b3806fc645fb8c7bc9db84861974",
    "time": "2021-02-05T23:16:10.707Z",
    "type": "completion"
   },
   {
    "code": "#The for loop below prints numbers between 10 (inclusive) and 30 (exclusive), skipping by 4's\nfor i in range(10, 30, 4):\n    print(i)\n\nnumbers = []\n\nfor i in range(1500, 2700):\n    if (i % 7) & (i/5) == 0:\n        print(i)",
    "id": "1bb4b3806fc645fb8c7bc9db84861974",
    "idx": 49,
    "time": "2021-02-05T23:16:32.338Z",
    "type": "execution"
   },
   {
    "id": "1bb4b3806fc645fb8c7bc9db84861974",
    "time": "2021-02-05T23:16:33.690Z",
    "type": "completion"
   },
   {
    "code": "#The for loop below prints numbers between 10 (inclusive) and 30 (exclusive), skipping by 4's\nfor i in range(10, 30, 4):\n    print(i)\n\nnumbers = []\n\nfor i in range(1500, 2700):\n    if (i % 7) == 0  & (i/5) == 0:\n        print(i)",
    "id": "1bb4b3806fc645fb8c7bc9db84861974",
    "idx": 49,
    "time": "2021-02-05T23:16:47.086Z",
    "type": "execution"
   },
   {
    "code": "string = '!scisyhP'\n\nnew_string = ''  #This is just an empty string\nnew_string = new_string + string[7] + string[6] + string[5]  #I can add characters to my empty string using the index number of each character \nprint(new_string)\n\nnewstring=''\nfor i in string:\n    newstring = i + newstring\n    print(newstring)\n\n#Now try automating this reversal process using a for loop\n#Your code here",
    "id": "42cb372c9ad7401d9529d5b79d9dd819",
    "idx": 53,
    "time": "2021-02-06T01:17:25.607Z",
    "type": "execution"
   },
   {
    "id": "42cb372c9ad7401d9529d5b79d9dd819",
    "time": "2021-02-06T01:17:25.816Z",
    "type": "completion"
   },
   {
    "code": "#Make sure the elements of your list are separated by commas -- and don't forget the brackets!\npeople = ['Rick', 'Morty', 'Beth', 'Summer', 'Jerry', 'Birdperson', 'Mr. Meeseeks']  \nsome_numbers = [2, 3, 4.3, 9e3, 1/2]\n\nprint(people, some_numbers)",
    "id": "e9abb201edcd438582d023c7089ac90b",
    "idx": 6,
    "time": "2021-02-06T01:18:51.525Z",
    "type": "execution"
   },
   {
    "id": "e9abb201edcd438582d023c7089ac90b",
    "time": "2021-02-06T01:18:51.674Z",
    "type": "completion"
   },
   {
    "code": "'''When Python sees a for loop, it will go through each element in a list (in order) and perform whatever\n   commands are on the indented lines.  Below, we see that he name of the list (people) is placed after the keyword \"in\".\n   The variable name (person) between the \"for\" and \"in\" keywords is assigned to the value of each element\n   as the loop goes through the list.'''\n   \nfor person in people:\n    print(person)\n\n'''Here, the variable name (number) is assigned to each element of the list (some_numbers) successively.\n   In each iteration of the loop, the current value of number is squared and printed.'''\nfor number in some_numbers:\n    print(number**2)",
    "id": "257ddb02574b415ea89c8e16098ab89b",
    "idx": 8,
    "time": "2021-02-06T01:18:51.891Z",
    "type": "execution"
   },
   {
    "id": "257ddb02574b415ea89c8e16098ab89b",
    "time": "2021-02-06T01:18:52.011Z",
    "type": "completion"
   },
   {
    "code": "print(people[0], people[3], some_numbers[1])",
    "id": "c84649830ee84a9b8d04e63f006aa71a",
    "idx": 10,
    "time": "2021-02-06T01:18:52.255Z",
    "type": "execution"
   },
   {
    "id": "c84649830ee84a9b8d04e63f006aa71a",
    "time": "2021-02-06T01:18:52.390Z",
    "type": "completion"
   },
   {
    "code": "#range(5) is equivalent to [0, 1, 2, 3, 4]\nfor i in range(5):\n    print(i)",
    "id": "6e14eaecd6cd42b393aaf1ec5b58538b",
    "idx": 12,
    "time": "2021-02-06T01:18:52.638Z",
    "type": "execution"
   },
   {
    "id": "6e14eaecd6cd42b393aaf1ec5b58538b",
    "time": "2021-02-06T01:18:52.749Z",
    "type": "completion"
   },
   {
    "code": "for i in range(5):\n    print(some_numbers[i])",
    "id": "ea4a8d893786460baefe04640c7b25a4",
    "idx": 13,
    "time": "2021-02-06T01:18:52.783Z",
    "type": "execution"
   },
   {
    "id": "ea4a8d893786460baefe04640c7b25a4",
    "time": "2021-02-06T01:18:52.962Z",
    "type": "completion"
   },
   {
    "code": "#len(list) returns the integer-valued length of the list\nfor i in range(len(people)):\n    print(people[i])",
    "id": "67cd715dd40e43359fc02f35d1231488",
    "idx": 15,
    "time": "2021-02-06T01:18:53.107Z",
    "type": "execution"
   },
   {
    "id": "67cd715dd40e43359fc02f35d1231488",
    "time": "2021-02-06T01:18:53.211Z",
    "type": "completion"
   },
   {
    "code": "'Squanchy' in people",
    "id": "a4c56a2e795e45739c538e37886ecaa9",
    "idx": 17,
    "time": "2021-02-06T01:18:53.467Z",
    "type": "execution"
   },
   {
    "id": "a4c56a2e795e45739c538e37886ecaa9",
    "time": "2021-02-06T01:18:53.617Z",
    "type": "completion"
   },
   {
    "code": "'Morty' in people",
    "id": "de1429b9499c416e8d3ffd63a3261017",
    "idx": 18,
    "time": "2021-02-06T01:18:53.635Z",
    "type": "execution"
   },
   {
    "code": "'Squanchy' not in people",
    "id": "b164a2bb7c5240a9a963071929e3aa42",
    "idx": 19,
    "time": "2021-02-06T01:18:53.823Z",
    "type": "execution"
   },
   {
    "id": "de1429b9499c416e8d3ffd63a3261017",
    "time": "2021-02-06T01:18:53.889Z",
    "type": "completion"
   },
   {
    "id": "b164a2bb7c5240a9a963071929e3aa42",
    "time": "2021-02-06T01:18:53.964Z",
    "type": "completion"
   },
   {
    "code": "5 == 5",
    "id": "58bd060d90bc469b8b4711f1d9eeef9a",
    "idx": 22,
    "time": "2021-02-06T01:18:54.355Z",
    "type": "execution"
   },
   {
    "code": "5 == 4",
    "id": "bdcd7cafca8f487e94da767059f26943",
    "idx": 23,
    "time": "2021-02-06T01:18:54.515Z",
    "type": "execution"
   },
   {
    "id": "58bd060d90bc469b8b4711f1d9eeef9a",
    "time": "2021-02-06T01:18:54.568Z",
    "type": "completion"
   },
   {
    "id": "bdcd7cafca8f487e94da767059f26943",
    "time": "2021-02-06T01:18:54.649Z",
    "type": "completion"
   },
   {
    "code": "if 5 == 5:\n    print(\"This is true\")",
    "id": "037a1578a4a04ba881119719d814c2da",
    "idx": 25,
    "time": "2021-02-06T01:18:55.573Z",
    "type": "execution"
   },
   {
    "id": "037a1578a4a04ba881119719d814c2da",
    "time": "2021-02-06T01:18:55.680Z",
    "type": "completion"
   },
   {
    "code": "if 5 == 4:\n    print(\"This is true\")\nelse:\n    print(\"This is false\")",
    "id": "30a3ddfa494c4ba38f269227aa0c11e4",
    "idx": 27,
    "time": "2021-02-06T01:18:55.916Z",
    "type": "execution"
   },
   {
    "id": "30a3ddfa494c4ba38f269227aa0c11e4",
    "time": "2021-02-06T01:18:56.014Z",
    "type": "completion"
   },
   {
    "code": "5 < 4",
    "id": "c1aa48837e934d6f82278eca9b60208b",
    "idx": 29,
    "time": "2021-02-06T01:18:56.276Z",
    "type": "execution"
   },
   {
    "id": "c1aa48837e934d6f82278eca9b60208b",
    "time": "2021-02-06T01:18:56.407Z",
    "type": "completion"
   },
   {
    "code": "5 > 4",
    "id": "ed9a411734bc4f588b84167871dee721",
    "idx": 30,
    "time": "2021-02-06T01:18:56.452Z",
    "type": "execution"
   },
   {
    "id": "ed9a411734bc4f588b84167871dee721",
    "time": "2021-02-06T01:18:56.579Z",
    "type": "completion"
   },
   {
    "code": "5 >= 6",
    "id": "c255bf3ad02c4330bc809347bdd1e147",
    "idx": 31,
    "time": "2021-02-06T01:18:56.655Z",
    "type": "execution"
   },
   {
    "id": "c255bf3ad02c4330bc809347bdd1e147",
    "time": "2021-02-06T01:18:56.754Z",
    "type": "completion"
   },
   {
    "code": "5 <= 5",
    "id": "e7043504cc724f829d04c15facf8df85",
    "idx": 32,
    "time": "2021-02-06T01:18:56.845Z",
    "type": "execution"
   },
   {
    "id": "e7043504cc724f829d04c15facf8df85",
    "time": "2021-02-06T01:18:56.976Z",
    "type": "completion"
   },
   {
    "code": "5 != 6",
    "id": "a02c7672aca541dc8da2dcdf72e4f552",
    "idx": 33,
    "time": "2021-02-06T01:18:57.036Z",
    "type": "execution"
   },
   {
    "id": "a02c7672aca541dc8da2dcdf72e4f552",
    "time": "2021-02-06T01:18:57.161Z",
    "type": "completion"
   },
   {
    "code": "a = 5\nb = 6\n\nif a < b:\n  print(\"{} is less than {}\".format(a, b))\n\nif a < 2*b:\n  print(\"{} is less than 2*{}\".format(a, b))\n\nif a < 3*b:\n  print(\"{} is less than 3*{}\".format(a, b))",
    "id": "505b49f2eb77499b87eb6246efe7f90c",
    "idx": 35,
    "time": "2021-02-06T01:18:57.388Z",
    "type": "execution"
   },
   {
    "code": "a = 5\nb = 4\n\nif a < b:  #False, Python moves on to the next elif statement\n  print(\"{} is less than {}\".format(a, b))\n\nelif a < 2*b: #True, Python runs the indented code below\n  print(\"{} is less than 2*{}\".format(a, b))\n\nelif a < 3*b: #The above elif statement was True, so this is ignored\n  print(\"{} is less than 3*{}\".format(a, b))",
    "id": "5417bec96d174f0080b51b78ce5c22ca",
    "idx": 37,
    "time": "2021-02-06T01:18:57.717Z",
    "type": "execution"
   },
   {
    "id": "505b49f2eb77499b87eb6246efe7f90c",
    "time": "2021-02-06T01:18:57.806Z",
    "type": "completion"
   },
   {
    "id": "5417bec96d174f0080b51b78ce5c22ca",
    "time": "2021-02-06T01:18:57.906Z",
    "type": "completion"
   },
   {
    "code": "a = 5\nb = 1\n\nif a < b:  #False, move on to the next one\n  print(\"{} is less than {}\".format(a, b))\n\nelif a < 2*b:  #False, move on to the next one\n  print(\"{} is less than 2*{}\".format(a, b))\n\nelif a < 3*b:  #False, move on to the next one\n  print(\"{} is less than 3*{}\".format(a, b))\n\nelse:  #If all the above if and elif conditionals are False, then we run the indented code below\n  print(\"Everything above the else statement is False\")",
    "id": "0f84911f77d64a46ac8d8e1736f6ea57",
    "idx": 39,
    "time": "2021-02-06T01:18:58.037Z",
    "type": "execution"
   },
   {
    "id": "0f84911f77d64a46ac8d8e1736f6ea57",
    "time": "2021-02-06T01:18:58.139Z",
    "type": "completion"
   },
   {
    "code": "people = ['Rick', 'Morty', 'Beth', 'Summer', 'Jerry', 'Birdperson', 'Mr. Meeseeks']\n\nfor name in people:\n    if name == 'Mr. Meeseeks':\n        print(\"I'm {}, look at me!!!\".format(name))\n    else:\n        print(\"Hi, I'm {}\".format(name))",
    "id": "8550d4914fb34ce88466043f78c2c535",
    "idx": 42,
    "time": "2021-02-06T01:18:58.524Z",
    "type": "execution"
   },
   {
    "id": "8550d4914fb34ce88466043f78c2c535",
    "time": "2021-02-06T01:18:58.632Z",
    "type": "completion"
   },
   {
    "code": "numbers = [3, 4, 11, 2, 7]\n\nfor number in numbers:\n    if (number % 2) == 0:  #The % (modulus) operator gives the remainder after integer division; a number is even if it has a remainder of 0 after division by 2\n        print(number)",
    "id": "34eb72123c204f1b80ec16d810ed3992",
    "idx": 44,
    "time": "2021-02-06T01:18:58.949Z",
    "type": "execution"
   },
   {
    "id": "34eb72123c204f1b80ec16d810ed3992",
    "time": "2021-02-06T01:18:59.070Z",
    "type": "completion"
   },
   {
    "code": "even_numbers = []  #Create an empty list\nodd_numbers = []\n\nfor number in numbers:\n    if (number % 2) == 0:            # If the number is even,\n        even_numbers.append(number)  # put it in the even list\n    else:                            # otherwise\n        odd_numbers.append(number)   # put it in the odd list\n        \nprint(even_numbers)\nprint(odd_numbers)",
    "id": "e607380e14304895b8a5543f2f7f1ee1",
    "idx": 46,
    "time": "2021-02-06T01:18:59.309Z",
    "type": "execution"
   },
   {
    "id": "e607380e14304895b8a5543f2f7f1ee1",
    "time": "2021-02-06T01:18:59.446Z",
    "type": "completion"
   },
   {
    "code": "#The for loop below prints numbers between 10 (inclusive) and 30 (exclusive), skipping by 4's\nfor i in range(10, 30, 4):\n    print(i)\n\nnumbers = []\n\nfor i in range(1500, 2700):\n    if (i % 7) == 0  & (i/5) == 0:\n        print(i)",
    "id": "03b07731dca343e1b59e7b23342434e2",
    "idx": 49,
    "time": "2021-02-06T01:18:59.935Z",
    "type": "execution"
   },
   {
    "id": "03b07731dca343e1b59e7b23342434e2",
    "time": "2021-02-06T01:19:00.193Z",
    "type": "completion"
   },
   {
    "code": "star = '* '\n\nprint(1*star)\nprint(2*star)\nprint(3*star)\n\n\n\n#Now try automating this printing process using a for loop\n#Your code here",
    "id": "15bec461815e478b9ddec6ee8ceaf993",
    "idx": 51,
    "time": "2021-02-06T01:19:00.280Z",
    "type": "execution"
   },
   {
    "id": "15bec461815e478b9ddec6ee8ceaf993",
    "time": "2021-02-06T01:19:00.392Z",
    "type": "completion"
   },
   {
    "code": "#The for loop below prints numbers between 10 (inclusive) and 30 (exclusive), skipping by 4's\nfor i in range(10, 30, 4):\n    print(i)\n\nnumbers = []\n\nfor i in range(1500, 2700):\n    if (i % 7) == 0:\n         if(i/5) == 0:\n        print(i)\n   ",
    "id": "03b07731dca343e1b59e7b23342434e2",
    "idx": 49,
    "time": "2021-02-06T01:19:25.816Z",
    "type": "execution"
   },
   {
    "id": "03b07731dca343e1b59e7b23342434e2",
    "time": "2021-02-06T01:19:25.940Z",
    "type": "completion"
   },
   {
    "code": "#The for loop below prints numbers between 10 (inclusive) and 30 (exclusive), skipping by 4's\nfor i in range(10, 30, 4):\n    print(i)\n\nnumbers = []\n\nfor i in range(1500, 2700):\n    if (i % 7) == 0:\n         if(i/5) == 0:\n            print(i)\n   ",
    "id": "03b07731dca343e1b59e7b23342434e2",
    "idx": 49,
    "time": "2021-02-06T01:19:30.389Z",
    "type": "execution"
   },
   {
    "id": "03b07731dca343e1b59e7b23342434e2",
    "time": "2021-02-06T01:19:30.496Z",
    "type": "completion"
   },
   {
    "code": "#The for loop below prints numbers between 10 (inclusive) and 30 (exclusive), skipping by 4's\nfor i in range(10, 30, 4):\n    print(i)\n\nnumbers = []\n\nfor i in range(1500, 2700):\n    if (i % 5) == 0:\n         if(i% 7) == 0:\n            print(i)\n   ",
    "id": "03b07731dca343e1b59e7b23342434e2",
    "idx": 49,
    "time": "2021-02-06T01:19:54.387Z",
    "type": "execution"
   },
   {
    "id": "03b07731dca343e1b59e7b23342434e2",
    "time": "2021-02-06T01:19:54.532Z",
    "type": "completion"
   },
   {
    "code": "#The for loop below prints numbers between 10 (inclusive) and 30 (exclusive), skipping by 4's\nfor i in range(10, 30, 4):\n    print(i)\n\nnumbers = []\n\nfor i in range(1500, 2700):\n    if (i % 5) == 0:\n         if(i% 7) == 0:\n            print(i)\n   ",
    "id": "03b07731dca343e1b59e7b23342434e2",
    "idx": 49,
    "time": "2021-02-06T01:20:04.012Z",
    "type": "execution"
   },
   {
    "id": "03b07731dca343e1b59e7b23342434e2",
    "time": "2021-02-06T01:20:04.184Z",
    "type": "completion"
   },
   {
    "code": "star = '* '\n\nprint(1*star)\nprint(2*star)\nprint(3*star)\n\n\n\n#Now try automating this printing process using a for loop\n#Your code here",
    "id": "15bec461815e478b9ddec6ee8ceaf993",
    "idx": 51,
    "time": "2021-02-06T01:20:05.397Z",
    "type": "execution"
   },
   {
    "id": "15bec461815e478b9ddec6ee8ceaf993",
    "time": "2021-02-06T01:20:05.513Z",
    "type": "completion"
   },
   {
    "code": "string = '!scisyhP'\n\nnew_string = ''  #This is just an empty string\nnew_string = new_string + string[7] + string[6] + string[5]  #I can add characters to my empty string using the index number of each character \nprint(new_string)\n\nnewstring=''\nfor i in string:\n    newstring = i + newstring\n    print(newstring)\n",
    "id": "42cb372c9ad7401d9529d5b79d9dd819",
    "idx": 53,
    "time": "2021-02-06T01:20:06.885Z",
    "type": "execution"
   },
   {
    "id": "42cb372c9ad7401d9529d5b79d9dd819",
    "time": "2021-02-06T01:20:07.009Z",
    "type": "completion"
   },
   {
    "code": "string = '!scisyhP'\n\nnew_string = ''  #This is just an empty string\nnew_string = new_string + string[7] + string[6] + string[5]  #I can add characters to my empty string using the index number of each character \nprint(new_string)\n\nnewstring=''\nfor i in range(len(string)):\n    newstring = string[i] + newstring\n    print(newstring)\n",
    "id": "42cb372c9ad7401d9529d5b79d9dd819",
    "idx": 53,
    "time": "2021-02-06T01:20:37.042Z",
    "type": "execution"
   },
   {
    "id": "42cb372c9ad7401d9529d5b79d9dd819",
    "time": "2021-02-06T01:20:37.159Z",
    "type": "completion"
   },
   {
    "code": "star = '* '\n\nprint(1*star)\nprint(2*star)\nprint(3*star)\n\nif i in range (3,6):\n    print(4*star)\n    \n\n#Now try automating this printing process using a for loop\n#Your code here",
    "id": "15bec461815e478b9ddec6ee8ceaf993",
    "idx": 51,
    "time": "2021-02-06T01:21:41.785Z",
    "type": "execution"
   },
   {
    "id": "15bec461815e478b9ddec6ee8ceaf993",
    "time": "2021-02-06T01:21:41.906Z",
    "type": "completion"
   },
   {
    "code": "star = '* '\n\nprint(1*star)\nprint(2*star)\nprint(3*star)\n\nif i in range (3,6):\n    print(4*star)\nif i in range (4,6)\n    print(5*star)\n    \n",
    "id": "15bec461815e478b9ddec6ee8ceaf993",
    "idx": 51,
    "time": "2021-02-06T01:22:56.564Z",
    "type": "execution"
   },
   {
    "id": "15bec461815e478b9ddec6ee8ceaf993",
    "time": "2021-02-06T01:22:56.704Z",
    "type": "completion"
   },
   {
    "code": "star = '* '\n\nprint(1*star)\nprint(2*star)\nprint(3*star)\n\nif i in range (3,6):\n    print(4*star)\nif i in range (4,6):\n    print(5*star)\n    \n",
    "id": "15bec461815e478b9ddec6ee8ceaf993",
    "idx": 51,
    "time": "2021-02-06T01:23:02.029Z",
    "type": "execution"
   },
   {
    "id": "15bec461815e478b9ddec6ee8ceaf993",
    "time": "2021-02-06T01:23:02.152Z",
    "type": "completion"
   },
   {
    "code": "string = '!scisyhP'\n\nnew_string = ''  #This is just an empty string\nnew_string = new_string + string[7] + string[6] + string[5]  #I can add characters to my empty string using the index number of each character \nprint(new_string)\n\nnewstring=''\nfor i in len(string):\n    newstring = string[i] + newstring\n    print(newstring)\n",
    "id": "42cb372c9ad7401d9529d5b79d9dd819",
    "idx": 53,
    "time": "2021-02-06T01:24:15.118Z",
    "type": "execution"
   },
   {
    "id": "42cb372c9ad7401d9529d5b79d9dd819",
    "time": "2021-02-06T01:24:15.249Z",
    "type": "completion"
   },
   {
    "code": "string = '!scisyhP'\n\nnew_string = ''  #This is just an empty string\nnew_string = new_string + string[7] + string[6] + string[5]  #I can add characters to my empty string using the index number of each character \nprint(new_string)\n\nnewstring=''\nfor i in (string):\n    newstring = string[i] + newstring\n    print(newstring)\n",
    "id": "42cb372c9ad7401d9529d5b79d9dd819",
    "idx": 53,
    "time": "2021-02-06T01:24:19.623Z",
    "type": "execution"
   },
   {
    "id": "42cb372c9ad7401d9529d5b79d9dd819",
    "time": "2021-02-06T01:24:19.786Z",
    "type": "completion"
   },
   {
    "code": "string = '!scisyhP'\n\nnew_string = ''  #This is just an empty string\nnew_string = new_string + string[7] + string[6] + string[5]  #I can add characters to my empty string using the index number of each character \nprint(new_string)\n\nnewstring=''\nfor i in string:\n    newstring = string[i] + newstring\n    print(newstring)\n",
    "id": "42cb372c9ad7401d9529d5b79d9dd819",
    "idx": 53,
    "time": "2021-02-06T01:24:24.295Z",
    "type": "execution"
   },
   {
    "id": "42cb372c9ad7401d9529d5b79d9dd819",
    "time": "2021-02-06T01:24:24.598Z",
    "type": "completion"
   },
   {
    "code": "string = '!scisyhP'\n\nnew_string = ''  #This is just an empty string\nnew_string = new_string + string[7] + string[6] + string[5]  #I can add characters to my empty string using the index number of each character \nprint(new_string)\n\nnewstring=''\nfor i in string:\n    newstring = i + newstring\n    print(newstring)\n",
    "id": "42cb372c9ad7401d9529d5b79d9dd819",
    "idx": 53,
    "time": "2021-02-06T01:24:33.769Z",
    "type": "execution"
   },
   {
    "id": "42cb372c9ad7401d9529d5b79d9dd819",
    "time": "2021-02-06T01:24:33.888Z",
    "type": "completion"
   },
   {
    "code": "star = '* '\n\nprint(1*star)\nprint(2*star)\nprint(3*star)\n\nif i in range (1,6):\n    print(4*star)\nif i in range (4,6):\n    print(5*star)\n    \n",
    "id": "15bec461815e478b9ddec6ee8ceaf993",
    "idx": 51,
    "time": "2021-02-06T01:25:39.455Z",
    "type": "execution"
   },
   {
    "id": "15bec461815e478b9ddec6ee8ceaf993",
    "time": "2021-02-06T01:25:39.583Z",
    "type": "completion"
   },
   {
    "code": "star = '* '\n\nprint(1*star)\nprint(2*star)\nprint(3*star)\n\nif i in range (1,6):\n    print(4*star)",
    "id": "15bec461815e478b9ddec6ee8ceaf993",
    "idx": 51,
    "time": "2021-02-06T01:25:48.819Z",
    "type": "execution"
   },
   {
    "id": "15bec461815e478b9ddec6ee8ceaf993",
    "time": "2021-02-06T01:25:48.963Z",
    "type": "completion"
   },
   {
    "code": "star = '* '\n\nprint(1*star)\nprint(2*star)\nprint(3*star)\n\nif i in range (6):\n    print(4*star)",
    "id": "15bec461815e478b9ddec6ee8ceaf993",
    "idx": 51,
    "time": "2021-02-06T01:26:18.236Z",
    "type": "execution"
   },
   {
    "id": "15bec461815e478b9ddec6ee8ceaf993",
    "time": "2021-02-06T01:26:18.346Z",
    "type": "completion"
   },
   {
    "code": "star = '* '\n\n#print(1*star)\n#print(2*star)\n#print(3*star)\n\nif i in range (6):\n    print(4*star)",
    "id": "15bec461815e478b9ddec6ee8ceaf993",
    "idx": 51,
    "time": "2021-02-06T01:26:40.744Z",
    "type": "execution"
   },
   {
    "id": "15bec461815e478b9ddec6ee8ceaf993",
    "time": "2021-02-06T01:26:40.872Z",
    "type": "completion"
   },
   {
    "code": "star = '* '\n\nprint(1*star)\nprint(2*star)\nprint(3*star)\n\nif i in range (6):\n    print(4*star)",
    "id": "15bec461815e478b9ddec6ee8ceaf993",
    "idx": 51,
    "time": "2021-02-06T01:26:59.970Z",
    "type": "execution"
   },
   {
    "id": "15bec461815e478b9ddec6ee8ceaf993",
    "time": "2021-02-06T01:27:00.141Z",
    "type": "completion"
   },
   {
    "code": "string = '!scisyhP'\n\nnew_string = ''  #This is just an empty string\nnew_string = new_string + string[7] + string[6] + string[5]  #I can add characters to my empty string using the index number of each character \nprint(new_string)\n\nnewstring=' '\nfor i in string:\n    newstring = i + newstring\n    print(newstring)\n",
    "id": "42cb372c9ad7401d9529d5b79d9dd819",
    "idx": 53,
    "time": "2021-02-06T01:27:22.570Z",
    "type": "execution"
   },
   {
    "id": "42cb372c9ad7401d9529d5b79d9dd819",
    "time": "2021-02-06T01:27:22.676Z",
    "type": "completion"
   },
   {
    "code": "string = '!scisyhP'\n\nnew_string = ''  #This is just an empty string\nnew_string = new_string + string[7] + string[6] + string[5]  #I can add characters to my empty string using the index number of each character \nprint(new_string)\n\nnewstring=[]\nfor i in string:\n    newstring = i + newstring\n    print(newstring)\n",
    "id": "42cb372c9ad7401d9529d5b79d9dd819",
    "idx": 53,
    "time": "2021-02-06T01:27:32.223Z",
    "type": "execution"
   },
   {
    "id": "42cb372c9ad7401d9529d5b79d9dd819",
    "time": "2021-02-06T01:27:32.420Z",
    "type": "completion"
   },
   {
    "code": "string = '!scisyhP'\n\nnew_string = ''  #This is just an empty string\nnew_string = new_string + string[7] + string[6] + string[5]  #I can add characters to my empty string using the index number of each character \nprint(new_string)\n\nnewstring=()\nfor i in string:\n    newstring = i + newstring\n    print(newstring)\n",
    "id": "42cb372c9ad7401d9529d5b79d9dd819",
    "idx": 53,
    "time": "2021-02-06T01:27:38.436Z",
    "type": "execution"
   },
   {
    "id": "42cb372c9ad7401d9529d5b79d9dd819",
    "time": "2021-02-06T01:27:38.652Z",
    "type": "completion"
   },
   {
    "code": "string = '!scisyhP'\n\nnew_string = ''  #This is just an empty string\nnew_string = new_string + string[7] + string[6] + string[5]  #I can add characters to my empty string using the index number of each character \nprint(new_string)\n\nnewstring=('')\nfor i in string:\n    newstring = i + newstring\n    print(newstring)\n",
    "id": "42cb372c9ad7401d9529d5b79d9dd819",
    "idx": 53,
    "time": "2021-02-06T01:27:41.509Z",
    "type": "execution"
   },
   {
    "id": "42cb372c9ad7401d9529d5b79d9dd819",
    "time": "2021-02-06T01:27:41.907Z",
    "type": "completion"
   },
   {
    "code": "string = '!scisyhP'\n\nnew_string = ''  #This is just an empty string\nnew_string = new_string + string[7] + string[6] + string[5]  #I can add characters to my empty string using the index number of each character \nprint(new_string)\n\nnewstring=('')\nfor i in string:\n    newstring = 8 + newstring\n    print(newstring)\n",
    "id": "42cb372c9ad7401d9529d5b79d9dd819",
    "idx": 53,
    "time": "2021-02-06T01:28:06.272Z",
    "type": "execution"
   },
   {
    "id": "42cb372c9ad7401d9529d5b79d9dd819",
    "time": "2021-02-06T01:28:06.419Z",
    "type": "completion"
   },
   {
    "code": "string = '!scisyhP'\n\nnew_string = ''  #This is just an empty string\nnew_string = new_string + string[7] + string[6] + string[5]  #I can add characters to my empty string using the index number of each character \nprint(new_string)\n\nnewstring=('')\nfor i in string:\n    newstring = newstring + i\n    print(newstring)\n",
    "id": "42cb372c9ad7401d9529d5b79d9dd819",
    "idx": 53,
    "time": "2021-02-06T01:28:22.307Z",
    "type": "execution"
   },
   {
    "id": "42cb372c9ad7401d9529d5b79d9dd819",
    "time": "2021-02-06T01:28:22.433Z",
    "type": "completion"
   },
   {
    "code": "string = '!scisyhP'\n\nnew_string = ''  #This is just an empty string\nnew_string = new_string + string[7] + string[6] + string[5]  #I can add characters to my empty string using the index number of each character \nprint(new_string)\n\nnewstring=('')\nfor i in string:\n    newstring = i + newstring \n    print(newstring)\n",
    "id": "42cb372c9ad7401d9529d5b79d9dd819",
    "idx": 53,
    "time": "2021-02-06T01:28:35.000Z",
    "type": "execution"
   },
   {
    "id": "42cb372c9ad7401d9529d5b79d9dd819",
    "time": "2021-02-06T01:28:35.114Z",
    "type": "completion"
   },
   {
    "code": "string = '!scisyhP'\n\nnew_string = ''  #This is just an empty string\nnew_string = new_string + string[7] + string[6] + string[5]  #I can add characters to my empty string using the index number of each character \nprint(new_string)\n\nnewstring=('')\nfor i in string:\n    newstring = i + newstring - i\n    print(newstring)\n",
    "id": "42cb372c9ad7401d9529d5b79d9dd819",
    "idx": 53,
    "time": "2021-02-06T01:28:41.322Z",
    "type": "execution"
   },
   {
    "id": "42cb372c9ad7401d9529d5b79d9dd819",
    "time": "2021-02-06T01:28:41.448Z",
    "type": "completion"
   },
   {
    "code": "string = '!scisyhP'\n\nnew_string = ''  #This is just an empty string\nnew_string = new_string + string[7] + string[6] + string[5]  #I can add characters to my empty string using the index number of each character \nprint(new_string)\n\nnewstring=('')\nfor i in string:\n    newstring = i + newstring i\n    print(newstring)\n",
    "id": "42cb372c9ad7401d9529d5b79d9dd819",
    "idx": 53,
    "time": "2021-02-06T01:28:47.029Z",
    "type": "execution"
   },
   {
    "id": "42cb372c9ad7401d9529d5b79d9dd819",
    "time": "2021-02-06T01:28:47.157Z",
    "type": "completion"
   },
   {
    "code": "string = '!scisyhP'\n\nnew_string = ''  #This is just an empty string\nnew_string = new_string + string[7] + string[6] + string[5]  #I can add characters to my empty string using the index number of each character \nprint(new_string)\n\nnewstring=('')\nfor i in string:\n    newstring = i + newstring\n    print(newstring)\n",
    "id": "42cb372c9ad7401d9529d5b79d9dd819",
    "idx": 53,
    "time": "2021-02-06T01:28:51.208Z",
    "type": "execution"
   },
   {
    "id": "42cb372c9ad7401d9529d5b79d9dd819",
    "time": "2021-02-06T01:28:51.410Z",
    "type": "completion"
   },
   {
    "code": "string = '!scisyhP'\n\nnew_string = ''  #This is just an empty string\nnew_string = new_string + string[7] + string[6] + string[5]  #I can add characters to my empty string using the index number of each character \nprint(new_string)\n\nnewstring=('')\nfor i in string[-1]:\n    newstring = i + newstring\n    print(newstring)\n",
    "id": "42cb372c9ad7401d9529d5b79d9dd819",
    "idx": 53,
    "time": "2021-02-06T01:29:27.003Z",
    "type": "execution"
   },
   {
    "id": "42cb372c9ad7401d9529d5b79d9dd819",
    "time": "2021-02-06T01:29:27.152Z",
    "type": "completion"
   },
   {
    "code": "string = '!scisyhP'\n\nnew_string = ''  #This is just an empty string\nnew_string = new_string + string[7] + string[6] + string[5]  #I can add characters to my empty string using the index number of each character \nprint(new_string)\n\nnewstring=('')\nfor i in string[-8]:\n    newstring = i + newstring\n    print(newstring)\n",
    "id": "42cb372c9ad7401d9529d5b79d9dd819",
    "idx": 53,
    "time": "2021-02-06T01:29:32.866Z",
    "type": "execution"
   },
   {
    "id": "42cb372c9ad7401d9529d5b79d9dd819",
    "time": "2021-02-06T01:29:32.985Z",
    "type": "completion"
   },
   {
    "code": "string = '!scisyhP'\n\nnew_string = ''  #This is just an empty string\nnew_string = new_string + string[7] + string[6] + string[5]  #I can add characters to my empty string using the index number of each character \nprint(new_string)\n\nnewstring=('')\nfor i in string[:]:\n    newstring = i + newstring\n    print(newstring)\n",
    "id": "42cb372c9ad7401d9529d5b79d9dd819",
    "idx": 53,
    "time": "2021-02-06T01:29:40.726Z",
    "type": "execution"
   },
   {
    "id": "42cb372c9ad7401d9529d5b79d9dd819",
    "time": "2021-02-06T01:29:40.848Z",
    "type": "completion"
   },
   {
    "code": "string = '!scisyhP'\n\nnew_string = ''  #This is just an empty string\nnew_string = new_string + string[7] + string[6] + string[5]  #I can add characters to my empty string using the index number of each character \nprint(new_string)\n\nnewstring=('')\nfor i in string[::-8]:\n    newstring = i + newstring\n    print(newstring)\n",
    "id": "42cb372c9ad7401d9529d5b79d9dd819",
    "idx": 53,
    "time": "2021-02-06T01:29:49.615Z",
    "type": "execution"
   },
   {
    "id": "42cb372c9ad7401d9529d5b79d9dd819",
    "time": "2021-02-06T01:29:49.827Z",
    "type": "completion"
   },
   {
    "code": "string = '!scisyhP'\n\nnew_string = ''  #This is just an empty string\nnew_string = new_string + string[7] + string[6] + string[5]  #I can add characters to my empty string using the index number of each character \nprint(new_string)\n\nnewstring=('')\nfor i in string[]:\n    newstring = i + newstring\n    print(newstring)\n",
    "id": "42cb372c9ad7401d9529d5b79d9dd819",
    "idx": 53,
    "time": "2021-02-06T01:29:56.452Z",
    "type": "execution"
   },
   {
    "id": "42cb372c9ad7401d9529d5b79d9dd819",
    "time": "2021-02-06T01:29:56.554Z",
    "type": "completion"
   },
   {
    "code": "string = '!scisyhP'\n\nnew_string = ''  #This is just an empty string\nnew_string = new_string + string[7] + string[6] + string[5]  #I can add characters to my empty string using the index number of each character \nprint(new_string)\n\nnewstring=('')\nfor i in string[0]:\n    newstring = i + newstring\n    print(newstring)\n",
    "id": "42cb372c9ad7401d9529d5b79d9dd819",
    "idx": 53,
    "time": "2021-02-06T01:30:00.434Z",
    "type": "execution"
   },
   {
    "id": "42cb372c9ad7401d9529d5b79d9dd819",
    "time": "2021-02-06T01:30:00.589Z",
    "type": "completion"
   },
   {
    "code": "string = '!scisyhP'\n\nnew_string = ''  #This is just an empty string\nnew_string = new_string + string[7] + string[6] + string[5]  #I can add characters to my empty string using the index number of each character \nprint(new_string)\n\nnewstring=('')\nfor i in string:\n    newstring = i + newstring\n    print(newstring)\n",
    "id": "42cb372c9ad7401d9529d5b79d9dd819",
    "idx": 53,
    "time": "2021-02-06T01:30:05.694Z",
    "type": "execution"
   },
   {
    "id": "42cb372c9ad7401d9529d5b79d9dd819",
    "time": "2021-02-06T01:30:05.815Z",
    "type": "completion"
   },
   {
    "code": "star = '* '\n\nprint(1*star)\nprint(2*star)\nprint(3*star)\n\nif i in range (3,6):\n    print(4*star)\n",
    "id": "15bec461815e478b9ddec6ee8ceaf993",
    "idx": 51,
    "time": "2021-02-06T01:30:21.225Z",
    "type": "execution"
   },
   {
    "id": "15bec461815e478b9ddec6ee8ceaf993",
    "time": "2021-02-06T01:30:21.356Z",
    "type": "completion"
   },
   {
    "code": "star = '* '\n\nprint(1*star)\nprint(2*star)\nprint(3*star)\n\nif i in range (3,6):\n    print(4*star)/\n    \n",
    "id": "15bec461815e478b9ddec6ee8ceaf993",
    "idx": 51,
    "time": "2021-02-06T01:30:35.484Z",
    "type": "execution"
   },
   {
    "id": "15bec461815e478b9ddec6ee8ceaf993",
    "time": "2021-02-06T01:30:35.599Z",
    "type": "completion"
   },
   {
    "code": "star = '* '\n\nprint(1*star)\nprint(2*star)\nprint(3*star)\n\nrange(1,6)\nif i in range (3,6):\n    print(4*star)\n    \n",
    "id": "15bec461815e478b9ddec6ee8ceaf993",
    "idx": 51,
    "time": "2021-02-06T01:30:47.277Z",
    "type": "execution"
   },
   {
    "id": "15bec461815e478b9ddec6ee8ceaf993",
    "time": "2021-02-06T01:30:48.360Z",
    "type": "completion"
   },
   {
    "code": "star = '* '\n\nprint(1*star)\nprint(2*star)\nprint(3*star)\n\ny = range(6)\nif i in y:\n    print(4*star)\n    \n",
    "id": "15bec461815e478b9ddec6ee8ceaf993",
    "idx": 51,
    "time": "2021-02-06T01:31:04.852Z",
    "type": "execution"
   },
   {
    "id": "15bec461815e478b9ddec6ee8ceaf993",
    "time": "2021-02-06T01:31:05.018Z",
    "type": "completion"
   },
   {
    "code": "star = '* '\n\nprint(1*star)\nprint(2*star)\nprint(3*star)\n\ny = range(6)\nif i in y(3,6):\n    print(4*star)\n    \n",
    "id": "15bec461815e478b9ddec6ee8ceaf993",
    "idx": 51,
    "time": "2021-02-06T01:31:24.728Z",
    "type": "execution"
   },
   {
    "id": "15bec461815e478b9ddec6ee8ceaf993",
    "time": "2021-02-06T01:31:24.864Z",
    "type": "completion"
   },
   {
    "code": "star = '* '\n\nprint(1*star)\nprint(2*star)\nprint(3*star)\n\ny = range(6)\nif i in y:\n    print(4*star)\n    \n",
    "id": "15bec461815e478b9ddec6ee8ceaf993",
    "idx": 51,
    "time": "2021-02-06T01:31:31.230Z",
    "type": "execution"
   },
   {
    "id": "15bec461815e478b9ddec6ee8ceaf993",
    "time": "2021-02-06T01:31:31.341Z",
    "type": "completion"
   },
   {
    "code": "#Make sure the elements of your list are separated by commas -- and don't forget the brackets!\npeople = ['Rick', 'Morty', 'Beth', 'Summer', 'Jerry', 'Birdperson', 'Mr. Meeseeks']  \nsome_numbers = [2, 3, 4.3, 9e3, 1/2]\n\nprint(people, some_numbers)",
    "id": "cdc2cdf8bae8436b95c915c9126ea94d",
    "idx": 6,
    "time": "2021-02-06T01:32:17.352Z",
    "type": "execution"
   },
   {
    "id": "cdc2cdf8bae8436b95c915c9126ea94d",
    "time": "2021-02-06T01:32:17.570Z",
    "type": "completion"
   },
   {
    "code": "'''When Python sees a for loop, it will go through each element in a list (in order) and perform whatever\n   commands are on the indented lines.  Below, we see that he name of the list (people) is placed after the keyword \"in\".\n   The variable name (person) between the \"for\" and \"in\" keywords is assigned to the value of each element\n   as the loop goes through the list.'''\n   \nfor person in people:\n    print(person)\n\n'''Here, the variable name (number) is assigned to each element of the list (some_numbers) successively.\n   In each iteration of the loop, the current value of number is squared and printed.'''\nfor number in some_numbers:\n    print(number**2)",
    "id": "7e922af2ab6f452999faef43864be888",
    "idx": 8,
    "time": "2021-02-06T01:32:17.665Z",
    "type": "execution"
   },
   {
    "code": "print(people[0], people[3], some_numbers[1])",
    "id": "ac9113bbe6fb41f9b1e4e41500742b7b",
    "idx": 10,
    "time": "2021-02-06T01:32:17.967Z",
    "type": "execution"
   },
   {
    "id": "7e922af2ab6f452999faef43864be888",
    "time": "2021-02-06T01:32:18.249Z",
    "type": "completion"
   },
   {
    "code": "#range(5) is equivalent to [0, 1, 2, 3, 4]\nfor i in range(5):\n    print(i)",
    "id": "3215b33a668143138d675707d51a2b2b",
    "idx": 12,
    "time": "2021-02-06T01:32:18.267Z",
    "type": "execution"
   },
   {
    "code": "for i in range(5):\n    print(some_numbers[i])",
    "id": "a56f497734a649f488de7d3d5a8f76f2",
    "idx": 13,
    "time": "2021-02-06T01:32:18.376Z",
    "type": "execution"
   },
   {
    "id": "ac9113bbe6fb41f9b1e4e41500742b7b",
    "time": "2021-02-06T01:32:18.429Z",
    "type": "completion"
   },
   {
    "id": "3215b33a668143138d675707d51a2b2b",
    "time": "2021-02-06T01:32:18.518Z",
    "type": "completion"
   },
   {
    "id": "a56f497734a649f488de7d3d5a8f76f2",
    "time": "2021-02-06T01:32:18.559Z",
    "type": "completion"
   },
   {
    "code": "#len(list) returns the integer-valued length of the list\nfor i in range(len(people)):\n    print(people[i])",
    "id": "1c9862b08e954ab2b1166722978d60b9",
    "idx": 15,
    "time": "2021-02-06T01:32:19.161Z",
    "type": "execution"
   },
   {
    "id": "1c9862b08e954ab2b1166722978d60b9",
    "time": "2021-02-06T01:32:19.357Z",
    "type": "completion"
   },
   {
    "code": "'Squanchy' in people",
    "id": "c7341ad222db434a8de3da56c370c3e9",
    "idx": 17,
    "time": "2021-02-06T01:32:19.580Z",
    "type": "execution"
   },
   {
    "code": "'Morty' in people",
    "id": "7d0a0a1e28524a188f3b3ab4d465f492",
    "idx": 18,
    "time": "2021-02-06T01:32:19.735Z",
    "type": "execution"
   },
   {
    "id": "c7341ad222db434a8de3da56c370c3e9",
    "time": "2021-02-06T01:32:19.809Z",
    "type": "completion"
   },
   {
    "id": "7d0a0a1e28524a188f3b3ab4d465f492",
    "time": "2021-02-06T01:32:19.844Z",
    "type": "completion"
   },
   {
    "code": "'Squanchy' not in people",
    "id": "d7176648e7054f1f890b60c83c5d7b78",
    "idx": 19,
    "time": "2021-02-06T01:32:19.906Z",
    "type": "execution"
   },
   {
    "id": "d7176648e7054f1f890b60c83c5d7b78",
    "time": "2021-02-06T01:32:20.062Z",
    "type": "completion"
   },
   {
    "code": "5 == 5",
    "id": "c81d6e122bf0452f8a5d5f5aac016d00",
    "idx": 22,
    "time": "2021-02-06T01:32:20.441Z",
    "type": "execution"
   },
   {
    "id": "c81d6e122bf0452f8a5d5f5aac016d00",
    "time": "2021-02-06T01:32:20.578Z",
    "type": "completion"
   },
   {
    "code": "5 == 4",
    "id": "bc3d471004724c2381c842f9c03a4fd8",
    "idx": 23,
    "time": "2021-02-06T01:32:20.616Z",
    "type": "execution"
   },
   {
    "id": "bc3d471004724c2381c842f9c03a4fd8",
    "time": "2021-02-06T01:32:20.789Z",
    "type": "completion"
   },
   {
    "code": "if 5 == 5:\n    print(\"This is true\")",
    "id": "031a7e649195429f9b9464b273f75e0a",
    "idx": 25,
    "time": "2021-02-06T01:32:20.969Z",
    "type": "execution"
   },
   {
    "id": "031a7e649195429f9b9464b273f75e0a",
    "time": "2021-02-06T01:32:21.106Z",
    "type": "completion"
   },
   {
    "code": "if 5 == 4:\n    print(\"This is true\")\nelse:\n    print(\"This is false\")",
    "id": "b42e7892d179419dac5836790226f24e",
    "idx": 27,
    "time": "2021-02-06T01:32:21.281Z",
    "type": "execution"
   },
   {
    "id": "b42e7892d179419dac5836790226f24e",
    "time": "2021-02-06T01:32:21.402Z",
    "type": "completion"
   },
   {
    "code": "5 < 4",
    "id": "94ab6f7489a345b78d6444b3624a81db",
    "idx": 29,
    "time": "2021-02-06T01:32:21.986Z",
    "type": "execution"
   },
   {
    "code": "5 > 4",
    "id": "2e39ab49f0a146f4bd8a90ccff105c8c",
    "idx": 30,
    "time": "2021-02-06T01:32:22.097Z",
    "type": "execution"
   },
   {
    "id": "94ab6f7489a345b78d6444b3624a81db",
    "time": "2021-02-06T01:32:22.353Z",
    "type": "completion"
   },
   {
    "id": "2e39ab49f0a146f4bd8a90ccff105c8c",
    "time": "2021-02-06T01:32:22.388Z",
    "type": "completion"
   },
   {
    "code": "5 >= 6",
    "id": "c93efbca1eaf424b9eebe7bc0fcd124e",
    "idx": 31,
    "time": "2021-02-06T01:32:22.402Z",
    "type": "execution"
   },
   {
    "code": "5 <= 5",
    "id": "9d6bcbad590b4a399899ad05d83a396f",
    "idx": 32,
    "time": "2021-02-06T01:32:22.529Z",
    "type": "execution"
   },
   {
    "code": "5 != 6",
    "id": "af07b8a6a091499b8b8f4e646afcc9d3",
    "idx": 33,
    "time": "2021-02-06T01:32:22.625Z",
    "type": "execution"
   },
   {
    "code": "a = 5\nb = 6\n\nif a < b:\n  print(\"{} is less than {}\".format(a, b))\n\nif a < 2*b:\n  print(\"{} is less than 2*{}\".format(a, b))\n\nif a < 3*b:\n  print(\"{} is less than 3*{}\".format(a, b))",
    "id": "353507086ccf44d59064c062ecc3e9eb",
    "idx": 35,
    "time": "2021-02-06T01:32:22.858Z",
    "type": "execution"
   },
   {
    "id": "c93efbca1eaf424b9eebe7bc0fcd124e",
    "time": "2021-02-06T01:32:22.908Z",
    "type": "completion"
   },
   {
    "id": "9d6bcbad590b4a399899ad05d83a396f",
    "time": "2021-02-06T01:32:22.932Z",
    "type": "completion"
   },
   {
    "id": "af07b8a6a091499b8b8f4e646afcc9d3",
    "time": "2021-02-06T01:32:23.039Z",
    "type": "completion"
   },
   {
    "id": "353507086ccf44d59064c062ecc3e9eb",
    "time": "2021-02-06T01:32:23.049Z",
    "type": "completion"
   },
   {
    "code": "a = 5\nb = 4\n\nif a < b:  #False, Python moves on to the next elif statement\n  print(\"{} is less than {}\".format(a, b))\n\nelif a < 2*b: #True, Python runs the indented code below\n  print(\"{} is less than 2*{}\".format(a, b))\n\nelif a < 3*b: #The above elif statement was True, so this is ignored\n  print(\"{} is less than 3*{}\".format(a, b))",
    "id": "336b9df002d944499accdc1c5edeb2eb",
    "idx": 37,
    "time": "2021-02-06T01:32:23.194Z",
    "type": "execution"
   },
   {
    "id": "336b9df002d944499accdc1c5edeb2eb",
    "time": "2021-02-06T01:32:23.362Z",
    "type": "completion"
   },
   {
    "code": "a = 5\nb = 1\n\nif a < b:  #False, move on to the next one\n  print(\"{} is less than {}\".format(a, b))\n\nelif a < 2*b:  #False, move on to the next one\n  print(\"{} is less than 2*{}\".format(a, b))\n\nelif a < 3*b:  #False, move on to the next one\n  print(\"{} is less than 3*{}\".format(a, b))\n\nelse:  #If all the above if and elif conditionals are False, then we run the indented code below\n  print(\"Everything above the else statement is False\")",
    "id": "67cb537eba0d4ae98143557ea4a10bc2",
    "idx": 39,
    "time": "2021-02-06T01:32:23.422Z",
    "type": "execution"
   },
   {
    "id": "67cb537eba0d4ae98143557ea4a10bc2",
    "time": "2021-02-06T01:32:23.623Z",
    "type": "completion"
   },
   {
    "code": "people = ['Rick', 'Morty', 'Beth', 'Summer', 'Jerry', 'Birdperson', 'Mr. Meeseeks']\n\nfor name in people:\n    if name == 'Mr. Meeseeks':\n        print(\"I'm {}, look at me!!!\".format(name))\n    else:\n        print(\"Hi, I'm {}\".format(name))",
    "id": "48b18ba34b374d5bb82189af0c0f4b4f",
    "idx": 42,
    "time": "2021-02-06T01:32:24.186Z",
    "type": "execution"
   },
   {
    "id": "48b18ba34b374d5bb82189af0c0f4b4f",
    "time": "2021-02-06T01:32:24.319Z",
    "type": "completion"
   },
   {
    "code": "numbers = [3, 4, 11, 2, 7]\n\nfor number in numbers:\n    if (number % 2) == 0:  #The % (modulus) operator gives the remainder after integer division; a number is even if it has a remainder of 0 after division by 2\n        print(number)",
    "id": "dcd3bcae1a3145638d71d3307d0f0095",
    "idx": 44,
    "time": "2021-02-06T01:32:24.714Z",
    "type": "execution"
   },
   {
    "id": "dcd3bcae1a3145638d71d3307d0f0095",
    "time": "2021-02-06T01:32:24.833Z",
    "type": "completion"
   },
   {
    "code": "even_numbers = []  #Create an empty list\nodd_numbers = []\n\nfor number in numbers:\n    if (number % 2) == 0:            # If the number is even,\n        even_numbers.append(number)  # put it in the even list\n    else:                            # otherwise\n        odd_numbers.append(number)   # put it in the odd list\n        \nprint(even_numbers)\nprint(odd_numbers)",
    "id": "d430ec98d6d743f1992be8c2b237fe0c",
    "idx": 46,
    "time": "2021-02-06T01:32:25.162Z",
    "type": "execution"
   },
   {
    "id": "d430ec98d6d743f1992be8c2b237fe0c",
    "time": "2021-02-06T01:32:25.278Z",
    "type": "completion"
   },
   {
    "code": "#The for loop below prints numbers between 10 (inclusive) and 30 (exclusive), skipping by 4's\nfor i in range(10, 30, 4):\n    print(i)\n\nnumbers = []\n\nfor i in range(1500, 2700):\n    if (i % 5) == 0:\n         if(i% 7) == 0:\n            print(i)\n   ",
    "id": "113442a5a2144ff4bb8da8f544bfe567",
    "idx": 49,
    "time": "2021-02-06T01:32:26.546Z",
    "type": "execution"
   },
   {
    "id": "113442a5a2144ff4bb8da8f544bfe567",
    "time": "2021-02-06T01:32:26.787Z",
    "type": "completion"
   },
   {
    "code": "star = '* '\n\nprint(1*star)\nprint(2*star)\nprint(3*star)\n\ny = range(6)\nif i in y:\n    print(4*star)\n    \n",
    "id": "c955db2e322f4252bf58364c04da38f8",
    "idx": 51,
    "time": "2021-02-06T01:32:27.948Z",
    "type": "execution"
   },
   {
    "id": "c955db2e322f4252bf58364c04da38f8",
    "time": "2021-02-06T01:32:28.072Z",
    "type": "completion"
   },
   {
    "code": "star = '* '\n\nprint(1*star)\nprint(2*star)\nprint(3*star)\n\ny = range(6)\nif i in y:\n    4*star\n    \n",
    "id": "c955db2e322f4252bf58364c04da38f8",
    "idx": 51,
    "time": "2021-02-06T01:32:35.999Z",
    "type": "execution"
   },
   {
    "id": "c955db2e322f4252bf58364c04da38f8",
    "time": "2021-02-06T01:32:36.708Z",
    "type": "completion"
   },
   {
    "code": "star = '* '\n\nprint(1*star)\nprint(2*star)\nprint(3*star)\n\ny = range(6)\nif i in y:\n    print(4*star)\n    \n",
    "id": "c955db2e322f4252bf58364c04da38f8",
    "idx": 51,
    "time": "2021-02-06T01:32:57.970Z",
    "type": "execution"
   },
   {
    "id": "c955db2e322f4252bf58364c04da38f8",
    "time": "2021-02-06T01:32:58.115Z",
    "type": "completion"
   },
   {
    "code": "star = '* '\n\nprint(1*star)\nprint(2*star)\nprint(3*star)\n\nrange(6)\nif i in range(3,6):\n    print(4*star)\n    \n",
    "id": "c955db2e322f4252bf58364c04da38f8",
    "idx": 51,
    "time": "2021-02-06T01:33:21.132Z",
    "type": "execution"
   },
   {
    "id": "c955db2e322f4252bf58364c04da38f8",
    "time": "2021-02-06T01:33:21.289Z",
    "type": "completion"
   },
   {
    "code": "star = '* '\n\nprint(1*star)\nprint(2*star)\nprint(3*star)\n\nrange(6)\nif i in range(3,6):\n    print(4*star)\nif i in range(4,6):\n    print(5*star)\n",
    "id": "c955db2e322f4252bf58364c04da38f8",
    "idx": 51,
    "time": "2021-02-06T01:33:45.019Z",
    "type": "execution"
   },
   {
    "id": "c955db2e322f4252bf58364c04da38f8",
    "time": "2021-02-06T01:33:45.175Z",
    "type": "completion"
   },
   {
    "code": "star = '* '\n\nprint(1*star)\nprint(2*star)\nprint(3*star)\n\nif i in range(3,6):\n    print(4*star)\nif i in range(4,6):\n    print(5*star)\n",
    "id": "c955db2e322f4252bf58364c04da38f8",
    "idx": 51,
    "time": "2021-02-06T01:33:56.893Z",
    "type": "execution"
   },
   {
    "id": "c955db2e322f4252bf58364c04da38f8",
    "time": "2021-02-06T01:33:57.057Z",
    "type": "completion"
   },
   {
    "code": "star = '* '\n\nprint(1*star)\nprint(2*star)\nprint(3*star)\n\nif i in range(3,6):\n    print(4*star)\nif i in range(4,6):\n    print(5*star)\n",
    "id": "c955db2e322f4252bf58364c04da38f8",
    "idx": 51,
    "time": "2021-02-06T01:33:59.604Z",
    "type": "execution"
   },
   {
    "id": "c955db2e322f4252bf58364c04da38f8",
    "time": "2021-02-06T01:33:59.761Z",
    "type": "completion"
   },
   {
    "code": "star = '* '\n\nprint(1*star)\nprint(2*star)\nprint(3*star)\n\nfor i in range(3,6):\n    print(4*star)\nfor i in range(4,6):\n    print(5*star)\n",
    "id": "c955db2e322f4252bf58364c04da38f8",
    "idx": 51,
    "time": "2021-02-06T01:34:15.246Z",
    "type": "execution"
   },
   {
    "id": "c955db2e322f4252bf58364c04da38f8",
    "time": "2021-02-06T01:34:15.442Z",
    "type": "completion"
   },
   {
    "code": "star = '* '\n\nprint(1*star)\nprint(2*star)\nprint(3*star)\n\nfor i in range(3,6):\n    print(4*star)\nfor i in range(4,5):\n    print(5*star)\n",
    "id": "c955db2e322f4252bf58364c04da38f8",
    "idx": 51,
    "time": "2021-02-06T01:34:41.572Z",
    "type": "execution"
   },
   {
    "id": "c955db2e322f4252bf58364c04da38f8",
    "time": "2021-02-06T01:34:41.698Z",
    "type": "completion"
   },
   {
    "code": "star = '* '\n\nprint(1*star)\nprint(2*star)\nprint(3*star)\n\nfor i in range(3,4):\n    print(4*star)\nfor i in range(4,5):\n    print(5*star)\n",
    "id": "c955db2e322f4252bf58364c04da38f8",
    "idx": 51,
    "time": "2021-02-06T01:34:46.883Z",
    "type": "execution"
   },
   {
    "id": "c955db2e322f4252bf58364c04da38f8",
    "time": "2021-02-06T01:34:47.105Z",
    "type": "completion"
   },
   {
    "code": "star = '* '\n\nprint(1*star)\nprint(2*star)\nprint(3*star)\n\nfor i in range(3,4):\n    print(4*star)\nfor i in range(4,5):\n    print(5*star)\nfor i in range(5,6)\n    print(6*star)",
    "id": "c955db2e322f4252bf58364c04da38f8",
    "idx": 51,
    "time": "2021-02-06T01:35:11.762Z",
    "type": "execution"
   },
   {
    "id": "c955db2e322f4252bf58364c04da38f8",
    "time": "2021-02-06T01:35:11.913Z",
    "type": "completion"
   },
   {
    "code": "star = '* '\n\nprint(1*star)\nprint(2*star)\nprint(3*star)\n\nfor i in range(3,4):\n    print(4*star)\nfor i in range(4,5):\n    print(5*star)\nfor i in range(5,6):\n    print(6*star)",
    "id": "c955db2e322f4252bf58364c04da38f8",
    "idx": 51,
    "time": "2021-02-06T01:35:18.754Z",
    "type": "execution"
   },
   {
    "id": "c955db2e322f4252bf58364c04da38f8",
    "time": "2021-02-06T01:35:18.892Z",
    "type": "completion"
   },
   {
    "code": "star = '* '\n\nprint(1*star)\nprint(2*star)\nprint(3*star)\n\nfor i in range(3,6):\n    print(4*star)\nfor i in range(4,5):\n    print(5*star)\nfor i in range(5,6):\n    print(6*star)",
    "id": "c955db2e322f4252bf58364c04da38f8",
    "idx": 51,
    "time": "2021-02-06T01:35:29.662Z",
    "type": "execution"
   },
   {
    "id": "c955db2e322f4252bf58364c04da38f8",
    "time": "2021-02-06T01:35:29.761Z",
    "type": "completion"
   },
   {
    "code": "star = '* '\n\nprint(1*star)\nprint(2*star)\nprint(3*star)\n\nfor i in range(3,4):\n    print(4*star)\nfor i in range(4,5):\n    print(5*star)\nfor i in range(5,6):\n    print(6*star)",
    "id": "c955db2e322f4252bf58364c04da38f8",
    "idx": 51,
    "time": "2021-02-06T01:35:36.528Z",
    "type": "execution"
   },
   {
    "id": "c955db2e322f4252bf58364c04da38f8",
    "time": "2021-02-06T01:35:36.707Z",
    "type": "completion"
   },
   {
    "code": "star = '* '\n\nprint(1*star)\nprint(2*star)\nprint(3*star)\n\nfor i in range(3,6):\n    print(i*star)\nfor i in range(4,5):\n    print(5*star)\nfor i in range(5,6):\n    print(6*star)",
    "id": "c955db2e322f4252bf58364c04da38f8",
    "idx": 51,
    "time": "2021-02-06T01:35:54.187Z",
    "type": "execution"
   },
   {
    "id": "c955db2e322f4252bf58364c04da38f8",
    "time": "2021-02-06T01:35:54.328Z",
    "type": "completion"
   },
   {
    "code": "star = '* '\n\nprint(1*star)\nprint(2*star)\nprint(3*star)\n\nfor i in range(4,6):\n    print(i*star)\nfor i in range(4,5):\n    print(5*star)\nfor i in range(5,6):\n    print(6*star)",
    "id": "c955db2e322f4252bf58364c04da38f8",
    "idx": 51,
    "time": "2021-02-06T01:35:59.523Z",
    "type": "execution"
   },
   {
    "id": "c955db2e322f4252bf58364c04da38f8",
    "time": "2021-02-06T01:35:59.685Z",
    "type": "completion"
   },
   {
    "code": "star = '* '\n\nprint(1*star)\nprint(2*star)\nprint(3*star)\n\nfor i in range(4,6):\n    print(i*star)\nfor i in range(5,6):\n    print(i*star)\nfor i in range(5,6):\n    print(6*star)",
    "id": "c955db2e322f4252bf58364c04da38f8",
    "idx": 51,
    "time": "2021-02-06T01:36:12.078Z",
    "type": "execution"
   },
   {
    "id": "c955db2e322f4252bf58364c04da38f8",
    "time": "2021-02-06T01:36:12.197Z",
    "type": "completion"
   },
   {
    "code": "star = '* '\n\nprint(1*star)\nprint(2*star)\nprint(3*star)\n\nfor i in range(4,6):\n    print(i*star)\nfor i in range(5,6):\n    print(i*star)\nfor i in range(6):\n    print(6*star)",
    "id": "c955db2e322f4252bf58364c04da38f8",
    "idx": 51,
    "time": "2021-02-06T01:36:23.248Z",
    "type": "execution"
   },
   {
    "id": "c955db2e322f4252bf58364c04da38f8",
    "time": "2021-02-06T01:36:23.612Z",
    "type": "completion"
   },
   {
    "code": "star = '* '\n\nprint(1*star)\nprint(2*star)\nprint(3*star)\n\nfor i in range(4,6):\n    print(i*star)\nfor i in range(5,6):\n    print(i*star)\n#for i in range(6):\n  #  print(6*star)",
    "id": "c955db2e322f4252bf58364c04da38f8",
    "idx": 51,
    "time": "2021-02-06T01:36:31.491Z",
    "type": "execution"
   },
   {
    "id": "c955db2e322f4252bf58364c04da38f8",
    "time": "2021-02-06T01:36:31.766Z",
    "type": "completion"
   },
   {
    "code": "star = '* '\n\nprint(1*star)\nprint(2*star)\nprint(3*star)\n\nfor i in range(4,6):\n    print(i*star)\nfor i in range(5,6):\n    print(i*star)\nfor i in range(6):\n    print(i*star)",
    "id": "c955db2e322f4252bf58364c04da38f8",
    "idx": 51,
    "time": "2021-02-06T01:37:09.037Z",
    "type": "execution"
   },
   {
    "id": "c955db2e322f4252bf58364c04da38f8",
    "time": "2021-02-06T01:37:09.167Z",
    "type": "completion"
   },
   {
    "code": "star = '* '\n\nprint(1*star)\nprint(2*star)\nprint(3*star)\n\nfor i in range(4,6):\n    print(i*star)\nfor i in range(5,6):\n    print(i*star)\nfor i in range(7):\n    print(i*star)",
    "id": "c955db2e322f4252bf58364c04da38f8",
    "idx": 51,
    "time": "2021-02-06T01:37:16.535Z",
    "type": "execution"
   },
   {
    "id": "c955db2e322f4252bf58364c04da38f8",
    "time": "2021-02-06T01:37:16.687Z",
    "type": "completion"
   },
   {
    "code": "star = '* '\n\nprint(1*star)\nprint(2*star)\nprint(3*star)\n\nfor i in range(4,6):\n    print(i*star)\nfor i in range(5,7):\n    print(i*star)\n\n    \nfor i in range(7):\n    print(i*star)",
    "id": "c955db2e322f4252bf58364c04da38f8",
    "idx": 51,
    "time": "2021-02-06T01:37:33.663Z",
    "type": "execution"
   },
   {
    "id": "c955db2e322f4252bf58364c04da38f8",
    "time": "2021-02-06T01:37:33.807Z",
    "type": "completion"
   },
   {
    "code": "star = '* '\n\nprint(1*star)\nprint(2*star)\nprint(3*star)\n\nfor i in range(4,6):\n    print(i*star)\nfor i in range(5,6):\n    print(i*star)\n\n    \nfor i in range(7):\n    print(i*star)",
    "id": "c955db2e322f4252bf58364c04da38f8",
    "idx": 51,
    "time": "2021-02-06T01:37:42.328Z",
    "type": "execution"
   },
   {
    "id": "c955db2e322f4252bf58364c04da38f8",
    "time": "2021-02-06T01:37:42.456Z",
    "type": "completion"
   },
   {
    "code": "star = '* '\n\nprint(1*star)\nprint(2*star)\nprint(3*star)\n\nfor i in range(4,6):\n    print(i*star)\nfor i in range(5,7):\n    print(i*star)\n\n    \nfor i in range(7):\n    print(i*star)",
    "id": "c955db2e322f4252bf58364c04da38f8",
    "idx": 51,
    "time": "2021-02-06T01:37:57.578Z",
    "type": "execution"
   },
   {
    "id": "c955db2e322f4252bf58364c04da38f8",
    "time": "2021-02-06T01:37:57.688Z",
    "type": "completion"
   },
   {
    "code": "star = '* '\n\nprint(1*star)\nprint(2*star)\nprint(3*star)\n\nfor i in range(4,7):\n    print(i*star)\nfor i in range(5,7):\n    print(i*star)\n\n    \nfor i in range(7):\n    print(i*star)",
    "id": "c955db2e322f4252bf58364c04da38f8",
    "idx": 51,
    "time": "2021-02-06T01:38:03.164Z",
    "type": "execution"
   },
   {
    "id": "c955db2e322f4252bf58364c04da38f8",
    "time": "2021-02-06T01:38:03.278Z",
    "type": "completion"
   },
   {
    "code": "star = '* '\n\nprint(1*star)\nprint(2*star)\nprint(3*star)\n\nfor i in range(4,5):\n    print(i*star)\nfor i in range(5,7):\n    print(i*star)\n\n    \nfor i in range(7):\n    print(i*star)",
    "id": "c955db2e322f4252bf58364c04da38f8",
    "idx": 51,
    "time": "2021-02-06T01:38:07.386Z",
    "type": "execution"
   },
   {
    "id": "c955db2e322f4252bf58364c04da38f8",
    "time": "2021-02-06T01:38:07.516Z",
    "type": "completion"
   },
   {
    "code": "star = '* '\n\nprint(1*star)\nprint(2*star)\nprint(3*star)\n\nfor i in range(4,5):\n    print(i*star)\nfor i in range(5,7):\n    print(i*star)\n\n    \nfor i in range(7): #this also works\n    print(i*star)",
    "id": "c955db2e322f4252bf58364c04da38f8",
    "idx": 51,
    "time": "2021-02-06T01:38:21.461Z",
    "type": "execution"
   },
   {
    "id": "c955db2e322f4252bf58364c04da38f8",
    "time": "2021-02-06T01:38:21.712Z",
    "type": "completion"
   },
   {
    "code": "string = '!scisyhP'\n\nnew_string = ''  #This is just an empty string\nnew_string = new_string + string[7] + string[6] + string[5]  #I can add characters to my empty string using the index number of each character \nprint(new_string)\n\nnewstring=('')\nfor i in string:\n    newstring = i + newstring\n    print(newstring)\n",
    "id": "9894a678dd5c40db850cf5ac0d650e8b",
    "idx": 53,
    "time": "2021-02-06T01:38:27.543Z",
    "type": "execution"
   },
   {
    "id": "9894a678dd5c40db850cf5ac0d650e8b",
    "time": "2021-02-06T01:38:27.906Z",
    "type": "completion"
   },
   {
    "code": "string = '!scisyhP'\n\nnew_string = ''  #This is just an empty string\nnew_string = new_string + string[7] + string[6] + string[5]  #I can add characters to my empty string using the index number of each character \nprint(new_string)\n\nnewstring=''\nfor i in string:\n    newstring = i + newstring\n    print(newstring)\n",
    "id": "9894a678dd5c40db850cf5ac0d650e8b",
    "idx": 53,
    "time": "2021-02-06T01:39:44.403Z",
    "type": "execution"
   },
   {
    "id": "9894a678dd5c40db850cf5ac0d650e8b",
    "time": "2021-02-06T01:39:44.562Z",
    "type": "completion"
   },
   {
    "code": "string = '!scisyhP'\n\nnew_string = ''  #This is just an empty string\nnew_string = new_string + string[7] + string[6] + string[5]  #I can add characters to my empty string using the index number of each character \nprint(new_string)\n\nnewstring=''\nfor i in string:\n    newstring = i + new_string\n    print(newstring)\n",
    "id": "9894a678dd5c40db850cf5ac0d650e8b",
    "idx": 53,
    "time": "2021-02-06T01:40:01.253Z",
    "type": "execution"
   },
   {
    "id": "9894a678dd5c40db850cf5ac0d650e8b",
    "time": "2021-02-06T01:40:01.400Z",
    "type": "completion"
   },
   {
    "code": "string = '!scisyhP'\n\nnew_string = ''  #This is just an empty string\nnew_string = new_string + string[7] + string[6] + string[5]  #I can add characters to my empty string using the index number of each character \nprint(new_string)\n\nnewstring=''\nfor i in string:\n    newstring = i + newstring\n    print(newstring)\n",
    "id": "9894a678dd5c40db850cf5ac0d650e8b",
    "idx": 53,
    "time": "2021-02-06T01:40:05.704Z",
    "type": "execution"
   },
   {
    "id": "9894a678dd5c40db850cf5ac0d650e8b",
    "time": "2021-02-06T01:40:05.824Z",
    "type": "completion"
   },
   {
    "code": "string = '!scisyhP'\n\nnew_string = ''  #This is just an empty string\nnew_string = new_string + string[7] + string[6] + string[5]  #I can add characters to my empty string using the index number of each character \nprint(new_string)\n\nnewstring=''\nfor i in string:\n    newstring = i + string\n    print(newstring)\n",
    "id": "9894a678dd5c40db850cf5ac0d650e8b",
    "idx": 53,
    "time": "2021-02-06T01:40:10.072Z",
    "type": "execution"
   },
   {
    "id": "9894a678dd5c40db850cf5ac0d650e8b",
    "time": "2021-02-06T01:40:10.229Z",
    "type": "completion"
   },
   {
    "code": "string = '!scisyhP'\n\nnew_string = ''  #This is just an empty string\nnew_string = new_string + string[7] + string[6] + string[5]  #I can add characters to my empty string using the index number of each character \nprint(new_string)\n\nnewstring=''\nfor i in string:\n    newstring = i + newstring\n    print(newstring)\n",
    "id": "9894a678dd5c40db850cf5ac0d650e8b",
    "idx": 53,
    "time": "2021-02-06T01:40:18.427Z",
    "type": "execution"
   },
   {
    "id": "9894a678dd5c40db850cf5ac0d650e8b",
    "time": "2021-02-06T01:40:18.652Z",
    "type": "completion"
   },
   {
    "code": "string = '!scisyhP'\n\nnew_string = ''  #This is just an empty string\nnew_string = new_string + string[7] + string[6] + string[5]  #I can add characters to my empty string using the index number of each character \nprint(new_string)\n\nnewstring=''\nfor i in string:\n    newstring = i[8] + newstring\n    print(newstring)\n",
    "id": "9894a678dd5c40db850cf5ac0d650e8b",
    "idx": 53,
    "time": "2021-02-06T01:40:31.807Z",
    "type": "execution"
   },
   {
    "id": "9894a678dd5c40db850cf5ac0d650e8b",
    "time": "2021-02-06T01:40:32.155Z",
    "type": "completion"
   },
   {
    "code": "string = '!scisyhP'\n\nnew_string = ''  #This is just an empty string\nnew_string = new_string + string[7] + string[6] + string[5]  #I can add characters to my empty string using the index number of each character \nprint(new_string)\n\nnewstring=''\nfor i in string:\n    newstring = i[7] + newstring\n    print(newstring)\n",
    "id": "9894a678dd5c40db850cf5ac0d650e8b",
    "idx": 53,
    "time": "2021-02-06T01:40:36.610Z",
    "type": "execution"
   },
   {
    "id": "9894a678dd5c40db850cf5ac0d650e8b",
    "time": "2021-02-06T01:40:37.015Z",
    "type": "completion"
   },
   {
    "code": "string = '!scisyhP'\n\nnew_string = ''  #This is just an empty string\nnew_string = new_string + string[7] + string[6] + string[5]  #I can add characters to my empty string using the index number of each character \nprint(new_string)\n\nnewstring=''\nfor i in string:\n    newstring = i[3] + newstring\n    print(newstring)\n",
    "id": "9894a678dd5c40db850cf5ac0d650e8b",
    "idx": 53,
    "time": "2021-02-06T01:40:42.057Z",
    "type": "execution"
   },
   {
    "id": "9894a678dd5c40db850cf5ac0d650e8b",
    "time": "2021-02-06T01:40:43.964Z",
    "type": "completion"
   },
   {
    "code": "string = '!scisyhP'\n\nnew_string = ''  #This is just an empty string\nnew_string = new_string + string[7] + string[6] + string[5]  #I can add characters to my empty string using the index number of each character \nprint(new_string)\n\nnewstring=''\nfor i in string:\n    newstring = i + newstring\n    print(newstring)\n",
    "id": "9894a678dd5c40db850cf5ac0d650e8b",
    "idx": 53,
    "time": "2021-02-06T01:40:48.239Z",
    "type": "execution"
   },
   {
    "id": "9894a678dd5c40db850cf5ac0d650e8b",
    "time": "2021-02-06T01:40:48.490Z",
    "type": "completion"
   },
   {
    "code": "string = '!scisyhP'\n\nnew_string = ''  #This is just an empty string\nnew_string = new_string + string[7] + string[6] + string[5]  #I can add characters to my empty string using the index number of each character \nprint(new_string)\n\nnewstring=''\n\nfor i in string:\n    newstring = i + newstring\n    print(newstring)\n",
    "id": "9894a678dd5c40db850cf5ac0d650e8b",
    "idx": 53,
    "time": "2021-02-06T01:42:36.585Z",
    "type": "execution"
   },
   {
    "id": "9894a678dd5c40db850cf5ac0d650e8b",
    "time": "2021-02-06T01:42:36.734Z",
    "type": "completion"
   },
   {
    "code": "string = '!scisyhP'\n\nnew_string = ''  #This is just an empty string\nnew_string = new_string + string[7] + string[6] + string[5]  #I can add characters to my empty string using the index number of each character \nprint(new_string)\n\nnewstring=''\n\nrange(len(string))\n\nfor i in string:\n    newstring = i + newstring\n    print(newstring)\n",
    "id": "9894a678dd5c40db850cf5ac0d650e8b",
    "idx": 53,
    "time": "2021-02-06T01:43:05.110Z",
    "type": "execution"
   },
   {
    "id": "9894a678dd5c40db850cf5ac0d650e8b",
    "time": "2021-02-06T01:43:05.216Z",
    "type": "completion"
   },
   {
    "code": "string = '!scisyhP'\n\nnew_string = ''  #This is just an empty string\nnew_string = new_string + string[7] + string[6] + string[5]  #I can add characters to my empty string using the index number of each character \nprint(new_string)\n\nnewstring=''\n\nprint(range(len(string)))\n\nfor i in string:\n    newstring = i + newstring\n    print(newstring)\n",
    "id": "9894a678dd5c40db850cf5ac0d650e8b",
    "idx": 53,
    "time": "2021-02-06T01:43:12.448Z",
    "type": "execution"
   },
   {
    "id": "9894a678dd5c40db850cf5ac0d650e8b",
    "time": "2021-02-06T01:43:12.595Z",
    "type": "completion"
   },
   {
    "code": "string = '!scisyhP'\n\nnew_string = ''  #This is just an empty string\nnew_string = new_string + string[7] + string[6] + string[5]  #I can add characters to my empty string using the index number of each character \nprint(new_string)\n\nnewstring=''\n\nprint(range(len(string)))\n\nfor i in range(len(string)):\n    newstring = i + newstring\n    print(newstring)\n",
    "id": "9894a678dd5c40db850cf5ac0d650e8b",
    "idx": 53,
    "time": "2021-02-06T01:43:27.683Z",
    "type": "execution"
   },
   {
    "id": "9894a678dd5c40db850cf5ac0d650e8b",
    "time": "2021-02-06T01:43:27.800Z",
    "type": "completion"
   },
   {
    "code": "string = '!scisyhP'\n\nnew_string = ''  #This is just an empty string\nnew_string = new_string + string[7] + string[6] + string[5]  #I can add characters to my empty string using the index number of each character \nprint(new_string)\n\nnewstring=''\n\nprint(range(len(string)))\n\nfor i in range(len(string)):\n    newstring = string[i] + newstring\n    print(newstring)\n",
    "id": "9894a678dd5c40db850cf5ac0d650e8b",
    "idx": 53,
    "time": "2021-02-06T01:43:43.992Z",
    "type": "execution"
   },
   {
    "id": "9894a678dd5c40db850cf5ac0d650e8b",
    "time": "2021-02-06T01:43:44.114Z",
    "type": "completion"
   },
   {
    "code": "string = '!scisyhP'\n\n#new_string = ''  #This is just an empty string\n#new_string = new_string + string[7] + string[6] + string[5]  #I can add characters to my empty string using the index number of each character \n#print(new_string)\n\nnewstring=''\n\nprint(range(len(string)))\n\nfor i in range(len(string)):\n    newstring = string[i] + newstring\n    print(newstring)\n",
    "id": "9894a678dd5c40db850cf5ac0d650e8b",
    "idx": 53,
    "time": "2021-02-06T01:44:40.331Z",
    "type": "execution"
   },
   {
    "id": "9894a678dd5c40db850cf5ac0d650e8b",
    "time": "2021-02-06T01:44:40.466Z",
    "type": "completion"
   },
   {
    "code": "string = '!scisyhP'\n\n#new_string = ''  #This is just an empty string\n#new_string = new_string + string[7] + string[6] + string[5]  #I can add characters to my empty string using the index number of each character \n#print(new_string)\n\nnewstring=''\n\nprint(range(len(string)))\n\nfor i in range((string)):\n    newstring = string[i] + newstring\n    print(newstring)\n",
    "id": "9894a678dd5c40db850cf5ac0d650e8b",
    "idx": 53,
    "time": "2021-02-06T01:44:51.618Z",
    "type": "execution"
   },
   {
    "id": "9894a678dd5c40db850cf5ac0d650e8b",
    "time": "2021-02-06T01:44:51.733Z",
    "type": "completion"
   },
   {
    "code": "string = '!scisyhP'\n\n#new_string = ''  #This is just an empty string\n#new_string = new_string + string[7] + string[6] + string[5]  #I can add characters to my empty string using the index number of each character \n#print(new_string)\n\nnewstring=''\n\nprint(range(len(string)))\n\nfor i in range((string)):\n    newstring = i + newstring\n    print(newstring)\n",
    "id": "9894a678dd5c40db850cf5ac0d650e8b",
    "idx": 53,
    "time": "2021-02-06T01:44:57.084Z",
    "type": "execution"
   },
   {
    "id": "9894a678dd5c40db850cf5ac0d650e8b",
    "time": "2021-02-06T01:44:57.235Z",
    "type": "completion"
   },
   {
    "code": "string = '!scisyhP'\n\n#new_string = ''  #This is just an empty string\n#new_string = new_string + string[7] + string[6] + string[5]  #I can add characters to my empty string using the index number of each character \n#print(new_string)\n\nnewstring=''\n\nprint(range(len(string)))\n\nfor i in range(string):\n    newstring = i + newstring\n    print(newstring)\n",
    "id": "9894a678dd5c40db850cf5ac0d650e8b",
    "idx": 53,
    "time": "2021-02-06T01:45:06.033Z",
    "type": "execution"
   },
   {
    "id": "9894a678dd5c40db850cf5ac0d650e8b",
    "time": "2021-02-06T01:45:06.236Z",
    "type": "completion"
   },
   {
    "code": "string = '!scisyhP'\n\n#new_string = ''  #This is just an empty string\n#new_string = new_string + string[7] + string[6] + string[5]  #I can add characters to my empty string using the index number of each character \n#print(new_string)\n\nnewstring=''\n\nprint(range(len(string)))\n\nfor i in string:\n    newstring = i + newstring\n    print(newstring)\n",
    "id": "9894a678dd5c40db850cf5ac0d650e8b",
    "idx": 53,
    "time": "2021-02-06T01:45:15.585Z",
    "type": "execution"
   },
   {
    "id": "9894a678dd5c40db850cf5ac0d650e8b",
    "time": "2021-02-06T01:45:15.759Z",
    "type": "completion"
   },
   {
    "code": "string = '!scisyhP'\n\n#new_string = ''  #This is just an empty string\n#new_string = new_string + string[7] + string[6] + string[5]  #I can add characters to my empty string using the index number of each character \n#print(new_string)\n\nnewstring=' '\n\nprint(range(len(string)))\n\nfor i in string:\n    newstring = i + newstring\n    print(newstring)\n# I don't understand why the code did this all of a sudden, it worked when Kenny did it",
    "id": "9894a678dd5c40db850cf5ac0d650e8b",
    "idx": 53,
    "time": "2021-02-06T01:47:55.075Z",
    "type": "execution"
   },
   {
    "id": "9894a678dd5c40db850cf5ac0d650e8b",
    "time": "2021-02-06T01:47:55.251Z",
    "type": "completion"
   },
   {
    "code": "string = '!scisyhP'\n\n#new_string = ''  #This is just an empty string\n#new_string = new_string + string[7] + string[6] + string[5]  #I can add characters to my empty string using the index number of each character \n#print(new_string)\n\nnewstring='    '\n\nprint(range(len(string)))\n\nfor i in string:\n    newstring = i + newstring\n    print(newstring)\n# I don't understand why the code did this all of a sudden, it worked when Kenny did it",
    "id": "9894a678dd5c40db850cf5ac0d650e8b",
    "idx": 53,
    "time": "2021-02-06T01:47:59.620Z",
    "type": "execution"
   },
   {
    "id": "9894a678dd5c40db850cf5ac0d650e8b",
    "time": "2021-02-06T01:47:59.735Z",
    "type": "completion"
   },
   {
    "code": "#Example: only print odd numbers from 1 to 10\nfor number in range(1,11):\n    if number % 2 == 0:  #if this is True (i.e. number is even),\n        continue         #then skip to the next iteration of the loop\n\n    print(number)        #the number is only printed when the continue statement is not reached",
    "id": "25fceef98b5e4cedbad13957678e1caf",
    "idx": 57,
    "time": "2021-02-12T22:23:17.513Z",
    "type": "execution"
   },
   {
    "id": "25fceef98b5e4cedbad13957678e1caf",
    "time": "2021-02-12T22:23:17.651Z",
    "type": "completion"
   },
   {
    "code": "numbers = [1, 2, 3, 4, 5, 6, 7, 8, 9] \n\n#Use these variables to store the number of even and odd numbers\nnumber_even = 0\nnumber_odd  = 0\n\nfor number in numbers:\n    print(number)\n    \n    \nprint(\"Number of even numbers : {}\".format(number_even))\nprint(\"Number of odd numbers : {}\".format(number_odd))",
    "id": "9390db769937465787d115f3b6bcbab3",
    "idx": 55,
    "time": "2021-02-12T22:23:21.714Z",
    "type": "execution"
   },
   {
    "id": "9390db769937465787d115f3b6bcbab3",
    "time": "2021-02-12T22:23:21.968Z",
    "type": "completion"
   },
   {
    "code": "string = '!scisyhP'\n\n#new_string = ''  #This is just an empty string\n#new_string = new_string + string[7] + string[6] + string[5]  #I can add characters to my empty string using the index number of each character \n#print(new_string)\n\nnewstring=''\n\nprint(range(len(string)))\n\nfor i in string:\n    newstring = i + newstring\n    print(newstring)\n# I don't understand why the code did this all of a sudden",
    "id": "6ae797d6484d4cf489916ac92d190f6a",
    "idx": 53,
    "time": "2021-02-12T22:24:21.691Z",
    "type": "execution"
   },
   {
    "id": "6ae797d6484d4cf489916ac92d190f6a",
    "time": "2021-02-12T22:24:21.810Z",
    "type": "completion"
   },
   {
    "code": "numbers = [1, 2, 3, 4, 5, 6, 7, 8, 9] \n\n#Use these variables to store the number of even and odd numbers\nnumber_even = 0\nnumber_odd  = 0\n\nfor number in numbers:\n    print(number)\n    \n    \nprint(\"Number of even numbers : {}\".format(number_even))\nprint(\"Number of odd numbers : {}\".format(number_odd))",
    "id": "9390db769937465787d115f3b6bcbab3",
    "idx": 55,
    "time": "2021-02-12T22:24:25.021Z",
    "type": "execution"
   },
   {
    "id": "9390db769937465787d115f3b6bcbab3",
    "time": "2021-02-12T22:24:25.175Z",
    "type": "completion"
   },
   {
    "code": "numbers = [1, 2, 3, 4, 5, 6, 7, 8, 9] \n\n#Use these variables to store the number of even and odd numbers\nnumber_even = 0\nnumber_odd  = 0\n\nfor number in numbers:\n    if number%2 == 0:\n        print(number)\n    \n    \nprint(\"Number of even numbers : {}\".format(number_even))\nprint(\"Number of odd numbers : {}\".format(number_odd))",
    "id": "9390db769937465787d115f3b6bcbab3",
    "idx": 55,
    "time": "2021-02-12T22:25:30.513Z",
    "type": "execution"
   },
   {
    "id": "9390db769937465787d115f3b6bcbab3",
    "time": "2021-02-12T22:25:30.634Z",
    "type": "completion"
   },
   {
    "code": "numbers = [1, 2, 3, 4, 5, 6, 7, 8, 9] \n\n#Use these variables to store the number of even and odd numbers\nnumber_even = 0\nnumber_odd  = 0\n\nfor number in numbers:\n    if number%2 == 0:\n        print(number)\n    else number%2 != 0:\n        print(number)\n    \nprint(\"Number of even numbers : {}\".format(number_even))\nprint(\"Number of odd numbers : {}\".format(number_odd))",
    "id": "9390db769937465787d115f3b6bcbab3",
    "idx": 55,
    "time": "2021-02-12T22:26:58.849Z",
    "type": "execution"
   },
   {
    "id": "9390db769937465787d115f3b6bcbab3",
    "time": "2021-02-12T22:26:59.008Z",
    "type": "completion"
   },
   {
    "code": "numbers = [1, 2, 3, 4, 5, 6, 7, 8, 9] \n\n#Use these variables to store the number of even and odd numbers\nnumber_even = 0\nnumber_odd  = 0\n\nfor number in numbers:\n    if number%2 == 0:\n        print(number)\n    else number%2 != 0:\n        print(number)\n    \nprint(\"Number of even numbers : {}\".format(number_even))\nprint(\"Number of odd numbers : {}\".format(number_odd))",
    "id": "9390db769937465787d115f3b6bcbab3",
    "idx": 55,
    "time": "2021-02-12T22:27:15.051Z",
    "type": "execution"
   },
   {
    "id": "9390db769937465787d115f3b6bcbab3",
    "time": "2021-02-12T22:27:15.171Z",
    "type": "completion"
   },
   {
    "code": "numbers = [1, 2, 3, 4, 5, 6, 7, 8, 9] \n\n#Use these variables to store the number of even and odd numbers\nnumber_even = 0\nnumber_odd  = 0\n\nfor number in numbers:\n    if number%2 == 0:\n        print(number)\n    else:\n        print(number)\n    \nprint(\"Number of even numbers : {}\".format(number_even))\nprint(\"Number of odd numbers : {}\".format(number_odd))",
    "id": "9390db769937465787d115f3b6bcbab3",
    "idx": 55,
    "time": "2021-02-12T22:27:53.515Z",
    "type": "execution"
   },
   {
    "id": "9390db769937465787d115f3b6bcbab3",
    "time": "2021-02-12T22:27:53.680Z",
    "type": "completion"
   },
   {
    "code": "numbers = [1, 2, 3, 4, 5, 6, 7, 8, 9] \n\n#Use these variables to store the number of even and odd numbers\nnumber_even = 0\nnumber_odd  = 0\n\nfor number in numbers:\n    if number%2 == 0:\n        append.number_even()\n        print(number_even)\n    else:\n        print(number)\n    \nprint(\"Number of even numbers : {}\".format(number_even))\nprint(\"Number of odd numbers : {}\".format(number_odd))",
    "id": "9390db769937465787d115f3b6bcbab3",
    "idx": 55,
    "time": "2021-02-12T22:28:58.968Z",
    "type": "execution"
   },
   {
    "id": "9390db769937465787d115f3b6bcbab3",
    "time": "2021-02-12T22:28:59.188Z",
    "type": "completion"
   },
   {
    "code": "numbers = [1, 2, 3, 4, 5, 6, 7, 8, 9] \n\n#Use these variables to store the number of even and odd numbers\nnumber_even = 0\nnumber_odd  = 0\n\nfor number in numbers:\n    if number%2 == 0:\n        number_even.append(2, 4, 6, 8)\n        print(number_even)\n    else:\n        print(number)\n    \nprint(\"Number of even numbers : {}\".format(number_even))\nprint(\"Number of odd numbers : {}\".format(number_odd))",
    "id": "9390db769937465787d115f3b6bcbab3",
    "idx": 55,
    "time": "2021-02-12T22:30:27.042Z",
    "type": "execution"
   },
   {
    "id": "9390db769937465787d115f3b6bcbab3",
    "time": "2021-02-12T22:30:27.171Z",
    "type": "completion"
   },
   {
    "code": "numbers = [1, 2, 3, 4, 5, 6, 7, 8, 9] \n\n#Use these variables to store the number of even and odd numbers\nnumber_even = 0\nnumber_odd  = 0\n\nfor number in numbers:\n    if number%2 == 0:\n        number_even.append('2, 4, 6, 8')\n        print(number_even)\n    else:\n        print(number)\n    \nprint(\"Number of even numbers : {}\".format(number_even))\nprint(\"Number of odd numbers : {}\".format(number_odd))",
    "id": "9390db769937465787d115f3b6bcbab3",
    "idx": 55,
    "time": "2021-02-12T22:30:34.359Z",
    "type": "execution"
   },
   {
    "id": "9390db769937465787d115f3b6bcbab3",
    "time": "2021-02-12T22:30:34.475Z",
    "type": "completion"
   },
   {
    "code": "numbers = [1, 2, 3, 4, 5, 6, 7, 8, 9] \n\n#Use these variables to store the number of even and odd numbers\nnumber_even = ['']\nnumber_odd  = ['']\n\nfor number in numbers:\n    if number%2 == 0:\n        number_even.append('2, 4, 6, 8')\n        print(number_even)\n    else:\n        print(number)\n    \nprint(\"Number of even numbers : {}\".format(number_even))\nprint(\"Number of odd numbers : {}\".format(number_odd))",
    "id": "9390db769937465787d115f3b6bcbab3",
    "idx": 55,
    "time": "2021-02-12T22:30:51.115Z",
    "type": "execution"
   },
   {
    "id": "9390db769937465787d115f3b6bcbab3",
    "time": "2021-02-12T22:30:51.229Z",
    "type": "completion"
   },
   {
    "code": "numbers = [1, 2, 3, 4, 5, 6, 7, 8, 9] \n\n#Use these variables to store the number of even and odd numbers\nnumber_even = ['']\nnumber_odd  = ['']\n\nfor number in numbers:\n    if number%2 == 0:\n        number_even.append('2, 4, 6, 8')\n        print(number_even)\n    else:\n        print(number)\n        number_even.append('1, 3, 7, 9')\nprint(\"Number of even numbers : {}\".format(number_even))\nprint(\"Number of odd numbers : {}\".format(number_odd))",
    "id": "9390db769937465787d115f3b6bcbab3",
    "idx": 55,
    "time": "2021-02-12T22:31:30.547Z",
    "type": "execution"
   },
   {
    "id": "9390db769937465787d115f3b6bcbab3",
    "time": "2021-02-12T22:31:30.666Z",
    "type": "completion"
   },
   {
    "code": "numbers = [1, 2, 3, 4, 5, 6, 7, 8, 9] \n\n#Use these variables to store the number of even and odd numbers\nnumber_even = ['']\nnumber_odd  = ['']\n\nfor number in numbers:\n    if number%2 == 0:\n        number_even.append('2, 4, 6, 8')\n        print(number_even)\n    else:\n        print(number_odd)\n        number_odd.append('1, 3, 7, 9')\nprint(\"Number of even numbers : {}\".format(number_even))\nprint(\"Number of odd numbers : {}\".format(number_odd))",
    "id": "9390db769937465787d115f3b6bcbab3",
    "idx": 55,
    "time": "2021-02-12T22:31:44.789Z",
    "type": "execution"
   },
   {
    "id": "9390db769937465787d115f3b6bcbab3",
    "time": "2021-02-12T22:31:44.919Z",
    "type": "completion"
   },
   {
    "code": "numbers = [1, 2, 3, 4, 5, 6, 7, 8, 9] \n\n#Use these variables to store the number of even and odd numbers\nnumber_even = ''\nnumber_odd  = ''\n\nfor number in numbers:\n    if number%2 == 0:\n        number_even.append('2, 4, 6, 8')\n        print(number_even)\n    else:\n        print(number_odd)\n        number_odd.append('1, 3, 7, 9')\nprint(\"Number of even numbers : {}\".format(number_even))\nprint(\"Number of odd numbers : {}\".format(number_odd))",
    "id": "9390db769937465787d115f3b6bcbab3",
    "idx": 55,
    "time": "2021-02-12T22:31:57.563Z",
    "type": "execution"
   },
   {
    "id": "9390db769937465787d115f3b6bcbab3",
    "time": "2021-02-12T22:31:57.683Z",
    "type": "completion"
   },
   {
    "code": "numbers = [1, 2, 3, 4, 5, 6, 7, 8, 9] \n\n#Use these variables to store the number of even and odd numbers\nnumber_even = []\nnumber_odd  = []\n\nfor number in numbers:\n    if number%2 == 0:\n        number_even.append('2, 4, 6, 8')\n        print(number_even)\n    else:\n        print(number_odd)\n        number_odd.append('1, 3, 7, 9')\nprint(\"Number of even numbers : {}\".format(number_even))\nprint(\"Number of odd numbers : {}\".format(number_odd))",
    "id": "9390db769937465787d115f3b6bcbab3",
    "idx": 55,
    "time": "2021-02-12T22:32:13.359Z",
    "type": "execution"
   },
   {
    "id": "9390db769937465787d115f3b6bcbab3",
    "time": "2021-02-12T22:32:13.871Z",
    "type": "completion"
   },
   {
    "code": "numbers = [1, 2, 3, 4, 5, 6, 7, 8, 9] \n\n#Use these variables to store the number of even and odd numbers\nnumber_even = []\nnumber_odd  = []\n\nfor number in numbers:\n    if number%2 == 0:\n        number_even.append('2, 4, 6, 8')\n        print(number_even)\n    else:\n        number_odd.append('1, 3, 7, 9')\n        print(number_odd)\nprint(\"Number of even numbers : {}\".format(number_even))\nprint(\"Number of odd numbers : {}\".format(number_odd))",
    "id": "9390db769937465787d115f3b6bcbab3",
    "idx": 55,
    "time": "2021-02-12T22:32:41.152Z",
    "type": "execution"
   },
   {
    "id": "9390db769937465787d115f3b6bcbab3",
    "time": "2021-02-12T22:32:41.289Z",
    "type": "completion"
   },
   {
    "code": "numbers = [1, 2, 3, 4, 5, 6, 7, 8, 9] \n\n#Use these variables to store the number of even and odd numbers\nnumber_even = []\nnumber_odd  = []\n\nfor number in numbers:\n    if number%2 == 0:\n        number_even.append('2, 4, 6, 8')\n        print(number_even)\n    else:\n        number_odd.append('1, 3, 5, 7, 9')\n        print(number_odd)\n        \nprint(\"Number of even numbers : {}\".format(number_even))\nprint(\"Number of odd numbers : {}\".format(number_odd))",
    "id": "9390db769937465787d115f3b6bcbab3",
    "idx": 55,
    "time": "2021-02-12T22:33:20.648Z",
    "type": "execution"
   },
   {
    "id": "9390db769937465787d115f3b6bcbab3",
    "time": "2021-02-12T22:33:23.554Z",
    "type": "completion"
   },
   {
    "code": "numbers = [1, 2, 3, 4, 5, 6, 7, 8, 9] \n\n#Use these variables to store the number of even and odd numbers\nnumber_even = []\nnumber_odd  = []\n\nfor number in numbers:\n    if number%2 == 0:\n        number_even.append('2, 4, 6, 8')\n        print(number_even)\n    else:\n        number_odd.append('1, 3, 5, 7, 9')\n        print(number_odd)\n        \nprint(\"Number of even numbers : {:1.1f}\".format(number_even))\nprint(\"Number of odd numbers : {:1.2f}\".format(number_odd))",
    "id": "9390db769937465787d115f3b6bcbab3",
    "idx": 55,
    "time": "2021-02-12T22:34:32.040Z",
    "type": "execution"
   },
   {
    "id": "9390db769937465787d115f3b6bcbab3",
    "time": "2021-02-12T22:34:32.153Z",
    "type": "completion"
   },
   {
    "code": "numbers = [1, 2, 3, 4, 5, 6, 7, 8, 9] \n\n#Use these variables to store the number of even and odd numbers\nnumber_even = []\nnumber_odd  = []\n\nfor number in numbers:\n    if number%2 == 0:\n        number_even.append('2, 4, 6, 8')\n        print(number_even)\n    else:\n        number_odd.append('1, 3, 5, 7, 9')\n        print(number_odd)\n        \nprint(\"Number of even numbers : {:1.1f}\".format(float(number_even)))\nprint(\"Number of odd numbers : {:1.2f}\".format(float(number_odd)))",
    "id": "9390db769937465787d115f3b6bcbab3",
    "idx": 55,
    "time": "2021-02-12T22:35:05.388Z",
    "type": "execution"
   },
   {
    "id": "9390db769937465787d115f3b6bcbab3",
    "time": "2021-02-12T22:35:05.505Z",
    "type": "completion"
   },
   {
    "code": "numbers = [1, 2, 3, 4, 5, 6, 7, 8, 9] \n\n#Use these variables to store the number of even and odd numbers\nnumber_even = []\nnumber_odd  = []\n\nfor number in numbers:\n    if number%2 == 0:\n        number_even.append(2, 4, 6, 8)\n        print(number_even)\n    else:\n        number_odd.append(1, 3, 5, 7, 9)\n        print(number_odd)\n        \nprint(\"Number of even numbers : {:1.1f}\".format(float(number_even)))\nprint(\"Number of odd numbers : {:1.2f}\".format(float(number_odd)))",
    "id": "9390db769937465787d115f3b6bcbab3",
    "idx": 55,
    "time": "2021-02-12T22:36:29.190Z",
    "type": "execution"
   },
   {
    "id": "9390db769937465787d115f3b6bcbab3",
    "time": "2021-02-12T22:36:29.342Z",
    "type": "completion"
   },
   {
    "code": "numbers = [1, 2, 3, 4, 5, 6, 7, 8, 9] \n\n#Use these variables to store the number of even and odd numbers\nnumber_even = []\nnumber_odd  = []\n\nfor number in numbers:\n    if number%2 == 0:\n        number_even.append('2, 4, 6, 8')\n        print(number_even)\n    else:\n        number_odd.append('1, 3, 5, 7, 9')\n        print(number_odd)\n        \nprint(\"Number of even numbers : {:1.1f}\".format(float(number_even)))\nprint(\"Number of odd numbers : {:1.2f}\".format(float(number_odd)))",
    "id": "9390db769937465787d115f3b6bcbab3",
    "idx": 55,
    "time": "2021-02-12T22:36:45.883Z",
    "type": "execution"
   },
   {
    "id": "9390db769937465787d115f3b6bcbab3",
    "time": "2021-02-12T22:36:46.084Z",
    "type": "completion"
   },
   {
    "code": "numbers = [1, 2, 3, 4, 5, 6, 7, 8, 9] \n\n#Use these variables to store the number of even and odd numbers\nnumber_even = []\nnumber_odd  = []\n\nfor number in numbers:\n    if number%2 == 0:\n        number_even.append('2, 4, 6, 8')\n        print(number_even)\n    else:\n        number_odd.append('1, 3, 5, 7, 9')\n        print(number_odd)\n        \nprint(\"Number of even numbers : {:1.1f}\".format(float(number_even)))\nprint(\"Number of odd numbers : {:9.2f}\".format(float(number_odd)))",
    "id": "9390db769937465787d115f3b6bcbab3",
    "idx": 55,
    "time": "2021-02-12T22:37:45.418Z",
    "type": "execution"
   },
   {
    "id": "9390db769937465787d115f3b6bcbab3",
    "time": "2021-02-12T22:37:45.541Z",
    "type": "completion"
   },
   {
    "code": "numbers = [1, 2, 3, 4, 5, 6, 7, 8, 9] \n\n#Use these variables to store the number of even and odd numbers\nnumber_even = []\nnumber_odd  = []\n\nfor number in numbers:\n    if number%2 == 0:\n        number_even.append('2, 4, 6, 8')\n        print(number_even)\n    else:\n        number_odd.append('1, 3, 5, 7, 9')\n        print(number_odd)\n        \nprint(\"Number of even numbers : {:1.1f}\".format(float(number_even)))\nprint(\"Number of odd numbers : {:6.2f}\".format(float(number_odd)))",
    "id": "9390db769937465787d115f3b6bcbab3",
    "idx": 55,
    "time": "2021-02-12T22:37:49.800Z",
    "type": "execution"
   },
   {
    "id": "9390db769937465787d115f3b6bcbab3",
    "time": "2021-02-12T22:37:49.996Z",
    "type": "completion"
   },
   {
    "code": "numbers = [1, 2, 3, 4, 5, 6, 7, 8, 9] \n\n#Use these variables to store the number of even and odd numbers\nnumber_even = []\nnumber_odd  = []\n\nfor number in numbers:\n    if number%2 == 0:\n        number_even.append('2, 4, 6, 8')\n        print(number_even)\n    else:\n        number_odd.append('1, 3, 5, 7, 9')\n        print(number_odd)\n        \nprint(\"Number of even numbers : {:4.1f}\".format(float(number_even)))\nprint(\"Number of odd numbers : {:6.2f}\".format(float(number_odd)))",
    "id": "9390db769937465787d115f3b6bcbab3",
    "idx": 55,
    "time": "2021-02-12T22:37:54.933Z",
    "type": "execution"
   },
   {
    "id": "9390db769937465787d115f3b6bcbab3",
    "time": "2021-02-12T22:37:55.062Z",
    "type": "completion"
   },
   {
    "code": "numbers = [1, 2, 3, 4, 5, 6, 7, 8, 9] \n\n#Use these variables to store the number of even and odd numbers\nnumber_even = 0\nnumber_odd  = 0\n\nfor number in numbers:\n    if number%2 == 0:\n        number_even + 1\n        print(number_even)\n    else:\n        number_odd.append('1, 3, 5, 7, 9')\n        print(number_odd)\n        \nprint(\"Number of even numbers : {:4.1f}\".format(float(number_even)))\nprint(\"Number of odd numbers : {:6.2f}\".format(float(number_odd)))",
    "id": "9390db769937465787d115f3b6bcbab3",
    "idx": 55,
    "time": "2021-02-12T22:45:45.742Z",
    "type": "execution"
   },
   {
    "id": "9390db769937465787d115f3b6bcbab3",
    "time": "2021-02-12T22:45:53.527Z",
    "type": "completion"
   },
   {
    "code": "numbers = [1, 2, 3, 4, 5, 6, 7, 8, 9] \n\n#Use these variables to store the number of even and odd numbers\nnumber_even = 0\nnumber_odd  = 0\n\nfor number in numbers:\n    if number%2 == 0:\n        number_even + 1\n        print(number_even)\n    else:\n        number_odd + 1\n        print(number_odd)\n        \nprint(\"Number of even numbers : {:4.1f}\".format(float(number_even)))\nprint(\"Number of odd numbers : {:6.2f}\".format(float(number_odd)))",
    "id": "9390db769937465787d115f3b6bcbab3",
    "idx": 55,
    "time": "2021-02-12T22:46:13.537Z",
    "type": "execution"
   },
   {
    "id": "9390db769937465787d115f3b6bcbab3",
    "time": "2021-02-12T22:46:13.660Z",
    "type": "completion"
   },
   {
    "code": "numbers = [1, 2, 3, 4, 5, 6, 7, 8, 9] \n\n#Use these variables to store the number of even and odd numbers\nnumber_even = 0\nnumber_odd  = 0\n\nfor number in numbers:\n    if number%2 == 0:\n        number_even =+ 1\n        print(number_even)\n    else:\n        number_odd =+ 1\n        print(number_odd)\n        \nprint(\"Number of even numbers : {:4.1f}\".format(float(number_even)))\nprint(\"Number of odd numbers : {:6.2f}\".format(float(number_odd)))",
    "id": "9390db769937465787d115f3b6bcbab3",
    "idx": 55,
    "time": "2021-02-12T22:46:26.640Z",
    "type": "execution"
   },
   {
    "id": "9390db769937465787d115f3b6bcbab3",
    "time": "2021-02-12T22:46:26.845Z",
    "type": "completion"
   },
   {
    "code": "numbers = [1, 2, 3, 4, 5, 6, 7, 8, 9] \n\n#Use these variables to store the number of even and odd numbers\nnumber_even = 0\nnumber_odd  = 0\n\nfor i in numbers:\n    if i%2 == 0:\n        number_even =+ 1\n        print(number_even)\n    else:\n        number_odd =+ 1\n        print(number_odd)\n        \nprint(\"Number of even numbers : {:4.1f}\".format(float(number_even)))\nprint(\"Number of odd numbers : {:6.2f}\".format(float(number_odd)))",
    "id": "9390db769937465787d115f3b6bcbab3",
    "idx": 55,
    "time": "2021-02-12T22:46:55.414Z",
    "type": "execution"
   },
   {
    "id": "9390db769937465787d115f3b6bcbab3",
    "time": "2021-02-12T22:46:56.935Z",
    "type": "completion"
   },
   {
    "code": "numbers = [1, 2, 3, 4, 5, 6, 7, 8, 9] \n\n#Use these variables to store the number of even and odd numbers\nnumber_even = 0\nnumber_odd  = 0\n\nfor i in numbers:\n    if i%2 == 0:\n        number_even =+ 1\n        print(number_even)\n    else:\n        number_odd =+ 1\n        print(number_odd)\n        \nprint(\"Number of even numbers : {:.1f}\".format(float(number_even)))\nprint(\"Number of odd numbers : {:6.2f}\".format(float(number_odd)))",
    "id": "9390db769937465787d115f3b6bcbab3",
    "idx": 55,
    "time": "2021-02-12T22:47:38.833Z",
    "type": "execution"
   },
   {
    "id": "9390db769937465787d115f3b6bcbab3",
    "time": "2021-02-12T22:47:38.983Z",
    "type": "completion"
   },
   {
    "code": "numbers = [1, 2, 3, 4, 5, 6, 7, 8, 9] \n\n#Use these variables to store the number of even and odd numbers\nnumber_even = 0\nnumber_odd  = 0\n\nfor i in numbers:\n    if i%2 == 0:\n        number_even =+ 1\n        print(number_even)\n    else:\n        number_odd =+ 1\n        print(number_odd)\n        \nprint(\"Number of even numbers : {:.1f}\".format(float(number_even)))\nprint(\"Number of odd numbers : {:.2f}\".format(float(number_odd)))",
    "id": "9390db769937465787d115f3b6bcbab3",
    "idx": 55,
    "time": "2021-02-12T22:47:42.986Z",
    "type": "execution"
   },
   {
    "id": "9390db769937465787d115f3b6bcbab3",
    "time": "2021-02-12T22:47:43.134Z",
    "type": "completion"
   },
   {
    "code": "numbers = [1, 2, 3, 4, 5, 6, 7, 8, 9] \n\n#Use these variables to store the number of even and odd numbers\nnumber_even = 0\nnumber_odd  = 0\n\nfor i in numbers:\n    if i%2 == 0:\n        number_even =+ 1\n        print(number_even)\n    else:\n        number_odd =+ 1\n        print(number_odd)\n        \nprint(\"Number of even numbers : {:.1f}\".format(float(number_even)))\nprint(\"Number of odd numbers : {:.6f}\".format(float(number_odd)))",
    "id": "9390db769937465787d115f3b6bcbab3",
    "idx": 55,
    "time": "2021-02-12T22:47:48.251Z",
    "type": "execution"
   },
   {
    "id": "9390db769937465787d115f3b6bcbab3",
    "time": "2021-02-12T22:47:48.392Z",
    "type": "completion"
   },
   {
    "code": "numbers = [1, 2, 3, 4, 5, 6, 7, 8, 9] \n\n#Use these variables to store the number of even and odd numbers\nnumber_even = 0\nnumber_odd  = 0\n\nfor i in numbers:\n    if i%2 == 0:\n        number_even =+ 1\n        print(number_even)\n    else:\n        number_odd =+ 1\n        print(number_odd)\n        \nprint(\"Number of even numbers : {:.1f}\".format(float(number_even)))\nprint(\"Number of odd numbers : {3:.f}\".format(float(number_odd)))",
    "id": "9390db769937465787d115f3b6bcbab3",
    "idx": 55,
    "time": "2021-02-12T22:47:53.169Z",
    "type": "execution"
   },
   {
    "id": "9390db769937465787d115f3b6bcbab3",
    "time": "2021-02-12T22:47:58.403Z",
    "type": "completion"
   },
   {
    "code": "numbers = [1, 2, 3, 4, 5, 6, 7, 8, 9] \n\n#Use these variables to store the number of even and odd numbers\nnumber_even = 0\nnumber_odd  = 0\n\nfor i in numbers:\n    if i%2 == 0:\n        number_even =+ 1\n        print(number_even)\n    else:\n        number_odd =+ 1\n        print(number_odd)\n        \nprint(\"Number of even numbers : {:.1f}\".format(float(number_even)))\nprint(\"Number of odd numbers : {:.f}\".format(float(number_odd)))",
    "id": "9390db769937465787d115f3b6bcbab3",
    "idx": 55,
    "time": "2021-02-12T22:48:02.494Z",
    "type": "execution"
   },
   {
    "id": "9390db769937465787d115f3b6bcbab3",
    "time": "2021-02-12T22:48:02.632Z",
    "type": "completion"
   },
   {
    "code": "numbers = [1, 2, 3, 4, 5, 6, 7, 8, 9] \n\n#Use these variables to store the number of even and odd numbers\nnumber_even = 0\nnumber_odd  = 0\n\nfor i in numbers:\n    if i%2 == 0:\n        number_even =+ 1\n        print(number_even)\n    else:\n        number_odd =+ 1\n        print(number_odd)\n        \nprint(\"Number of even numbers : {:.1f}\".format(float(number_even)))\nprint(\"Number of odd numbers : {:.2f}\".format(float(number_odd)))",
    "id": "9390db769937465787d115f3b6bcbab3",
    "idx": 55,
    "time": "2021-02-12T22:48:08.917Z",
    "type": "execution"
   },
   {
    "id": "9390db769937465787d115f3b6bcbab3",
    "time": "2021-02-12T22:48:09.058Z",
    "type": "completion"
   },
   {
    "code": "numbers = [1, 2, 3, 4, 5, 6, 7, 8, 9] \n\n#Use these variables to store the number of even and odd numbers\nnumber_even = 0\nnumber_odd  = 0\n\nfor i in numbers:\n    if i%2 == 0:\n        number_even += 1\n        print(number_even)\n    else:\n        number_odd += 1\n        print(number_odd)\n        \nprint(\"Number of even numbers : {:.1f}\".format(float(number_even)))\nprint(\"Number of odd numbers : {:.2f}\".format(float(number_odd)))",
    "id": "9390db769937465787d115f3b6bcbab3",
    "idx": 55,
    "time": "2021-02-12T22:49:52.010Z",
    "type": "execution"
   },
   {
    "id": "9390db769937465787d115f3b6bcbab3",
    "time": "2021-02-12T22:49:52.571Z",
    "type": "completion"
   },
   {
    "code": "#Example: only print odd numbers from 1 to 10\nfor number in range(1,11):\n    if number % 2 == 0:  #if this is True (i.e. number is even),\n        continue         #then skip to the next iteration of the loop\n\n    print(number)        #the number is only printed when the continue statement is not reached",
    "id": "25fceef98b5e4cedbad13957678e1caf",
    "idx": 57,
    "time": "2021-02-12T22:50:40.970Z",
    "type": "execution"
   },
   {
    "id": "25fceef98b5e4cedbad13957678e1caf",
    "time": "2021-02-12T22:50:41.103Z",
    "type": "completion"
   },
   {
    "code": "import numpy as np\nimport matplotlib.pyplot as plt\n\ndef sinc(x):\n    \"\"\" Takes a real number x and returns the continuous function\n        sinc(x) = sin(x)/x. \"\"\"\n\n    # Your code here!\n\nx_values = np.linspace(-50, 50, 1001)\n\n'''y_values = sinc(x_values) would give an error; numpy arrays don't play nicely with conditional statements\n   Instead, we have to fill a list of y_values one element at a time.'''\n\ny_values = []\n\nfor x in x_values:\n    y = sinc(x)\n    y_values.append(y)\n    \n# Plotting the sinc function\n\n# Your code here!\n",
    "id": "6ff547f6ad504c64861355f2499e9fdc",
    "idx": 66,
    "time": "2021-02-12T22:51:56.556Z",
    "type": "execution"
   },
   {
    "id": "6ff547f6ad504c64861355f2499e9fdc",
    "time": "2021-02-12T22:51:57.387Z",
    "type": "completion"
   },
   {
    "code": "def f(x)\n    return 1+x**2;",
    "id": "d3d17530ff6a49cfa929a819a9611627",
    "idx": 75,
    "time": "2021-02-12T22:52:34.320Z",
    "type": "execution"
   },
   {
    "id": "d3d17530ff6a49cfa929a819a9611627",
    "time": "2021-02-12T22:52:34.427Z",
    "type": "completion"
   },
   {
    "code": "def f(x):\n    return 1+x**2;",
    "id": "d3d17530ff6a49cfa929a819a9611627",
    "idx": 75,
    "time": "2021-02-12T22:52:38.558Z",
    "type": "execution"
   },
   {
    "id": "d3d17530ff6a49cfa929a819a9611627",
    "time": "2021-02-12T22:52:38.661Z",
    "type": "completion"
   },
   {
    "code": "def f(x):\n     term1 = 1\n    term2 = x**2\n    return term1 + term2",
    "id": "c911342c2c8c4da89583c3df388d3653",
    "idx": 77,
    "time": "2021-02-12T22:52:41.548Z",
    "type": "execution"
   },
   {
    "id": "c911342c2c8c4da89583c3df388d3653",
    "time": "2021-02-12T22:52:41.657Z",
    "type": "completion"
   },
   {
    "code": "def f(x):\n    term1 = 1\n    term2 = x**2\n    return term1 + term2",
    "id": "c911342c2c8c4da89583c3df388d3653",
    "idx": 77,
    "time": "2021-02-12T22:52:46.544Z",
    "type": "execution"
   },
   {
    "id": "c911342c2c8c4da89583c3df388d3653",
    "time": "2021-02-12T22:52:46.652Z",
    "type": "completion"
   },
   {
    "code": "old_list = [5, 2.0, 'hi', ('bye', 'bye')]\n    \nnew_list = old_list\nnew_list[0] = 11\n\nprint(new_list)\nprint(old_list)  # but I didn't want the old list to change!",
    "id": "8c73de8753bd49b880d386285c14343d",
    "idx": 79,
    "time": "2021-02-12T22:52:51.236Z",
    "type": "execution"
   },
   {
    "id": "8c73de8753bd49b880d386285c14343d",
    "time": "2021-02-12T22:52:51.594Z",
    "type": "completion"
   },
   {
    "code": "for number in range (1,11):\n    if number%3 == 0: \n        print(number)",
    "id": "c104c6cc840746c9a1d8772bf1c7705c",
    "idx": 58,
    "time": "2021-02-12T22:56:26.447Z",
    "type": "execution"
   },
   {
    "id": "c104c6cc840746c9a1d8772bf1c7705c",
    "time": "2021-02-12T22:56:26.566Z",
    "type": "completion"
   },
   {
    "code": "#Example: only print odd numbers from 1 to 10\nfor number in range(1,11):\n    if number % 2 != 0:  #if this is True (i.e. number is even),\n        continue         #then skip to the next iteration of the loop\n\n    print(number)        #the number is only printed when the continue statement is not reached",
    "id": "25fceef98b5e4cedbad13957678e1caf",
    "idx": 57,
    "time": "2021-02-12T22:56:49.493Z",
    "type": "execution"
   },
   {
    "id": "25fceef98b5e4cedbad13957678e1caf",
    "time": "2021-02-12T22:56:49.630Z",
    "type": "completion"
   },
   {
    "code": "#Example: only print odd numbers from 1 to 10\nfor number in range(1,11):\n    if number % 2 == 0:  #if this is True (i.e. number is even),\n        continue         #then skip to the next iteration of the loop\n\n    print(number)        #the number is only printed when the continue statement is not reached",
    "id": "25fceef98b5e4cedbad13957678e1caf",
    "idx": 57,
    "time": "2021-02-12T22:57:00.612Z",
    "type": "execution"
   },
   {
    "id": "25fceef98b5e4cedbad13957678e1caf",
    "time": "2021-02-12T22:57:00.727Z",
    "type": "completion"
   },
   {
    "code": "for number in range (1,11):\n    if number%3 != 0: \n        print(number)",
    "id": "c104c6cc840746c9a1d8772bf1c7705c",
    "idx": 58,
    "time": "2021-02-12T22:57:05.045Z",
    "type": "execution"
   },
   {
    "id": "c104c6cc840746c9a1d8772bf1c7705c",
    "time": "2021-02-12T22:57:05.154Z",
    "type": "completion"
   },
   {
    "code": "for number in range (1,11):\n    if number%3 != 0: \n        continue\n        \n    print(number)",
    "id": "c104c6cc840746c9a1d8772bf1c7705c",
    "idx": 58,
    "time": "2021-02-12T22:57:19.019Z",
    "type": "execution"
   },
   {
    "id": "c104c6cc840746c9a1d8772bf1c7705c",
    "time": "2021-02-12T22:57:19.130Z",
    "type": "completion"
   },
   {
    "code": "for number in range (1,11):\n    if number%3 == 0: \n        continue\n        \n    print(number)",
    "id": "c104c6cc840746c9a1d8772bf1c7705c",
    "idx": 58,
    "time": "2021-02-12T22:57:41.462Z",
    "type": "execution"
   },
   {
    "id": "c104c6cc840746c9a1d8772bf1c7705c",
    "time": "2021-02-12T22:57:41.688Z",
    "type": "completion"
   },
   {
    "code": "for number in range (0,6):\n    if number%3 == 0: \n        continue\n        \n    print(number)",
    "id": "c104c6cc840746c9a1d8772bf1c7705c",
    "idx": 58,
    "time": "2021-02-12T22:58:08.047Z",
    "type": "execution"
   },
   {
    "id": "c104c6cc840746c9a1d8772bf1c7705c",
    "time": "2021-02-12T22:58:08.158Z",
    "type": "completion"
   },
   {
    "code": "for number in range (-1,6):\n    if number%3 == 0: \n        continue\n        \n    print(number)",
    "id": "c104c6cc840746c9a1d8772bf1c7705c",
    "idx": 58,
    "time": "2021-02-12T22:58:15.799Z",
    "type": "execution"
   },
   {
    "id": "c104c6cc840746c9a1d8772bf1c7705c",
    "time": "2021-02-12T22:58:15.905Z",
    "type": "completion"
   },
   {
    "code": "for number in range (0,6):\n    if number%3 == 0: \n        continue\n        \n    print(number)",
    "id": "c104c6cc840746c9a1d8772bf1c7705c",
    "idx": 58,
    "time": "2021-02-12T22:58:20.165Z",
    "type": "execution"
   },
   {
    "id": "c104c6cc840746c9a1d8772bf1c7705c",
    "time": "2021-02-12T22:58:20.369Z",
    "type": "completion"
   },
   {
    "code": "for number in range (0,6):\n    if number%3 == 0: \n        continue\n        \n    print(number)",
    "id": "c104c6cc840746c9a1d8772bf1c7705c",
    "idx": 58,
    "time": "2021-02-12T22:58:34.409Z",
    "type": "execution"
   },
   {
    "id": "c104c6cc840746c9a1d8772bf1c7705c",
    "time": "2021-02-12T22:58:34.992Z",
    "type": "completion"
   },
   {
    "code": "a0 = 0\na1 = 1\na2 = a0 + a1\na3 = a1 + a2\nprint(a0, a1, a2, a3)\n\n\n#It's tedious typing out these summations; try automating this process using a for loop\n#Your code here",
    "id": "a53925c3130d434394b61fe05fd61c64",
    "idx": 60,
    "time": "2021-02-16T02:49:56.001Z",
    "type": "execution"
   },
   {
    "code": "#Make sure the elements of your list are separated by commas -- and don't forget the brackets!\npeople = ['Rick', 'Morty', 'Beth', 'Summer', 'Jerry', 'Birdperson', 'Mr. Meeseeks']  \nsome_numbers = [2, 3, 4.3, 9e3, 1/2]\n\nprint(people, some_numbers)",
    "id": "cbf0494a79fb40eb86d504224e2dad96",
    "idx": 6,
    "time": "2021-02-16T03:35:05.227Z",
    "type": "execution"
   },
   {
    "id": "cbf0494a79fb40eb86d504224e2dad96",
    "time": "2021-02-16T03:35:05.351Z",
    "type": "completion"
   },
   {
    "code": "'''When Python sees a for loop, it will go through each element in a list (in order) and perform whatever\n   commands are on the indented lines.  Below, we see that he name of the list (people) is placed after the keyword \"in\".\n   The variable name (person) between the \"for\" and \"in\" keywords is assigned to the value of each element\n   as the loop goes through the list.'''\n   \nfor person in people:\n    print(person)\n\n'''Here, the variable name (number) is assigned to each element of the list (some_numbers) successively.\n   In each iteration of the loop, the current value of number is squared and printed.'''\nfor number in some_numbers:\n    print(number**2)",
    "id": "2fcb2c83464e4d328f89d1f695d16698",
    "idx": 8,
    "time": "2021-02-16T03:35:05.614Z",
    "type": "execution"
   },
   {
    "id": "2fcb2c83464e4d328f89d1f695d16698",
    "time": "2021-02-16T03:35:05.720Z",
    "type": "completion"
   },
   {
    "code": "print(people[0], people[3], some_numbers[1])",
    "id": "a65808814f834daba0a91b1245808474",
    "idx": 10,
    "time": "2021-02-16T03:35:05.971Z",
    "type": "execution"
   },
   {
    "id": "a65808814f834daba0a91b1245808474",
    "time": "2021-02-16T03:35:06.097Z",
    "type": "completion"
   },
   {
    "code": "#range(5) is equivalent to [0, 1, 2, 3, 4]\nfor i in range(5):\n    print(i)",
    "id": "ee056bcc7f204017852f3ef4058b5245",
    "idx": 12,
    "time": "2021-02-16T03:35:06.361Z",
    "type": "execution"
   },
   {
    "id": "ee056bcc7f204017852f3ef4058b5245",
    "time": "2021-02-16T03:35:06.464Z",
    "type": "completion"
   },
   {
    "code": "for i in range(5):\n    print(some_numbers[i])",
    "id": "e32a4bf201e5403fb0fdfb11256db9ae",
    "idx": 13,
    "time": "2021-02-16T03:35:06.540Z",
    "type": "execution"
   },
   {
    "id": "e32a4bf201e5403fb0fdfb11256db9ae",
    "time": "2021-02-16T03:35:06.639Z",
    "type": "completion"
   },
   {
    "code": "#len(list) returns the integer-valued length of the list\nfor i in range(len(people)):\n    print(people[i])",
    "id": "947cfd6c29024870817000ce32f19cd3",
    "idx": 15,
    "time": "2021-02-16T03:35:06.919Z",
    "type": "execution"
   },
   {
    "id": "947cfd6c29024870817000ce32f19cd3",
    "time": "2021-02-16T03:35:07.017Z",
    "type": "completion"
   },
   {
    "code": "'Squanchy' in people",
    "id": "5a6f48636b694c48830b4a563ac09176",
    "idx": 17,
    "time": "2021-02-16T03:35:07.988Z",
    "type": "execution"
   },
   {
    "id": "5a6f48636b694c48830b4a563ac09176",
    "time": "2021-02-16T03:35:08.097Z",
    "type": "completion"
   },
   {
    "code": "'Morty' in people",
    "id": "9ae1c19d3a464d4781aed391bb4ae695",
    "idx": 18,
    "time": "2021-02-16T03:35:08.478Z",
    "type": "execution"
   },
   {
    "id": "9ae1c19d3a464d4781aed391bb4ae695",
    "time": "2021-02-16T03:35:08.598Z",
    "type": "completion"
   },
   {
    "code": "'Squanchy' not in people",
    "id": "743118694dfb44aaae26d9ac054e8618",
    "idx": 19,
    "time": "2021-02-16T03:35:08.839Z",
    "type": "execution"
   },
   {
    "id": "743118694dfb44aaae26d9ac054e8618",
    "time": "2021-02-16T03:35:08.938Z",
    "type": "completion"
   },
   {
    "code": "5 == 5",
    "id": "1d0274fc63b74887970c9acb13d7c31e",
    "idx": 22,
    "time": "2021-02-16T03:35:09.523Z",
    "type": "execution"
   },
   {
    "id": "1d0274fc63b74887970c9acb13d7c31e",
    "time": "2021-02-16T03:35:09.622Z",
    "type": "completion"
   },
   {
    "code": "5 == 4",
    "id": "87dd863e75944f8d9f12b7daeb1a94bf",
    "idx": 23,
    "time": "2021-02-16T03:35:09.752Z",
    "type": "execution"
   },
   {
    "id": "87dd863e75944f8d9f12b7daeb1a94bf",
    "time": "2021-02-16T03:35:09.853Z",
    "type": "completion"
   },
   {
    "code": "if 5 == 5:\n    print(\"This is true\")",
    "id": "b8e84633fda44c828f001e3309096324",
    "idx": 25,
    "time": "2021-02-16T03:35:10.250Z",
    "type": "execution"
   },
   {
    "id": "b8e84633fda44c828f001e3309096324",
    "time": "2021-02-16T03:35:10.350Z",
    "type": "completion"
   },
   {
    "code": "if 5 == 4:\n    print(\"This is true\")\nelse:\n    print(\"This is false\")",
    "id": "e014754857c3474e8130a7c62236bc05",
    "idx": 27,
    "time": "2021-02-16T03:35:10.703Z",
    "type": "execution"
   },
   {
    "id": "e014754857c3474e8130a7c62236bc05",
    "time": "2021-02-16T03:35:10.811Z",
    "type": "completion"
   },
   {
    "code": "5 < 4",
    "id": "3927fc6c6e5646c884af377d60a27ef8",
    "idx": 29,
    "time": "2021-02-16T03:35:11.179Z",
    "type": "execution"
   },
   {
    "id": "3927fc6c6e5646c884af377d60a27ef8",
    "time": "2021-02-16T03:35:11.285Z",
    "type": "completion"
   },
   {
    "code": "5 > 4",
    "id": "7e72d68f245c4c7589749a9d93e1e756",
    "idx": 30,
    "time": "2021-02-16T03:35:11.431Z",
    "type": "execution"
   },
   {
    "id": "7e72d68f245c4c7589749a9d93e1e756",
    "time": "2021-02-16T03:35:11.535Z",
    "type": "completion"
   },
   {
    "code": "5 >= 6",
    "id": "17e80614e0f84f74b766f1ff13561456",
    "idx": 31,
    "time": "2021-02-16T03:35:11.669Z",
    "type": "execution"
   },
   {
    "id": "17e80614e0f84f74b766f1ff13561456",
    "time": "2021-02-16T03:35:11.799Z",
    "type": "completion"
   },
   {
    "code": "5 <= 5",
    "id": "1238c1701c024bb389af6ade4dbe3e59",
    "idx": 32,
    "time": "2021-02-16T03:35:11.927Z",
    "type": "execution"
   },
   {
    "id": "1238c1701c024bb389af6ade4dbe3e59",
    "time": "2021-02-16T03:35:12.045Z",
    "type": "completion"
   },
   {
    "code": "5 != 6",
    "id": "512bb7a3260c433ea5113fb551e3d304",
    "idx": 33,
    "time": "2021-02-16T03:35:12.181Z",
    "type": "execution"
   },
   {
    "id": "512bb7a3260c433ea5113fb551e3d304",
    "time": "2021-02-16T03:35:12.307Z",
    "type": "completion"
   },
   {
    "code": "a = 5\nb = 6\n\nif a < b:\n  print(\"{} is less than {}\".format(a, b))\n\nif a < 2*b:\n  print(\"{} is less than 2*{}\".format(a, b))\n\nif a < 3*b:\n  print(\"{} is less than 3*{}\".format(a, b))",
    "id": "8084eda6b5a742d6874bc153e034c0ae",
    "idx": 35,
    "time": "2021-02-16T03:35:12.648Z",
    "type": "execution"
   },
   {
    "id": "8084eda6b5a742d6874bc153e034c0ae",
    "time": "2021-02-16T03:35:12.756Z",
    "type": "completion"
   },
   {
    "code": "a = 5\nb = 4\n\nif a < b:  #False, Python moves on to the next elif statement\n  print(\"{} is less than {}\".format(a, b))\n\nelif a < 2*b: #True, Python runs the indented code below\n  print(\"{} is less than 2*{}\".format(a, b))\n\nelif a < 3*b: #The above elif statement was True, so this is ignored\n  print(\"{} is less than 3*{}\".format(a, b))",
    "id": "6d58081a9a124d93960c5c3205bbfa06",
    "idx": 37,
    "time": "2021-02-16T03:35:13.017Z",
    "type": "execution"
   },
   {
    "id": "6d58081a9a124d93960c5c3205bbfa06",
    "time": "2021-02-16T03:35:13.148Z",
    "type": "completion"
   },
   {
    "code": "a = 5\nb = 1\n\nif a < b:  #False, move on to the next one\n  print(\"{} is less than {}\".format(a, b))\n\nelif a < 2*b:  #False, move on to the next one\n  print(\"{} is less than 2*{}\".format(a, b))\n\nelif a < 3*b:  #False, move on to the next one\n  print(\"{} is less than 3*{}\".format(a, b))\n\nelse:  #If all the above if and elif conditionals are False, then we run the indented code below\n  print(\"Everything above the else statement is False\")",
    "id": "0dd9addfa1b1410aac205a138155104c",
    "idx": 39,
    "time": "2021-02-16T03:35:13.425Z",
    "type": "execution"
   },
   {
    "id": "0dd9addfa1b1410aac205a138155104c",
    "time": "2021-02-16T03:35:13.529Z",
    "type": "completion"
   },
   {
    "code": "people = ['Rick', 'Morty', 'Beth', 'Summer', 'Jerry', 'Birdperson', 'Mr. Meeseeks']\n\nfor name in people:\n    if name == 'Mr. Meeseeks':\n        print(\"I'm {}, look at me!!!\".format(name))\n    else:\n        print(\"Hi, I'm {}\".format(name))",
    "id": "b1f45cf088e34567b64000c34dc9f761",
    "idx": 42,
    "time": "2021-02-16T03:35:14.207Z",
    "type": "execution"
   },
   {
    "id": "b1f45cf088e34567b64000c34dc9f761",
    "time": "2021-02-16T03:35:14.311Z",
    "type": "completion"
   },
   {
    "code": "numbers = [3, 4, 11, 2, 7]\n\nfor number in numbers:\n    if (number % 2) == 0:  #The % (modulus) operator gives the remainder after integer division; a number is even if it has a remainder of 0 after division by 2\n        print(number)",
    "id": "cc6d9706bfba433d81add91c43f71ea2",
    "idx": 44,
    "time": "2021-02-16T03:35:14.674Z",
    "type": "execution"
   },
   {
    "id": "cc6d9706bfba433d81add91c43f71ea2",
    "time": "2021-02-16T03:35:14.784Z",
    "type": "completion"
   },
   {
    "code": "even_numbers = []  #Create an empty list\nodd_numbers = []\n\nfor number in numbers:\n    if (number % 2) == 0:            # If the number is even,\n        even_numbers.append(number)  # put it in the even list\n    else:                            # otherwise\n        odd_numbers.append(number)   # put it in the odd list\n        \nprint(even_numbers)\nprint(odd_numbers)",
    "id": "ca7d5334a51f443780370d575f8f59ca",
    "idx": 46,
    "time": "2021-02-16T03:35:15.175Z",
    "type": "execution"
   },
   {
    "id": "ca7d5334a51f443780370d575f8f59ca",
    "time": "2021-02-16T03:35:15.284Z",
    "type": "completion"
   },
   {
    "code": "#The for loop below prints numbers between 10 (inclusive) and 30 (exclusive), skipping by 4's\nfor i in range(10, 30, 4):\n    print(i)\n\nnumbers = []\n\nfor i in range(1500, 2700):\n    if (i % 5) == 0:\n         if(i% 7) == 0:\n            print(i)\n   ",
    "id": "92e07c870743413486e1efc6b9cf3b77",
    "idx": 49,
    "time": "2021-02-16T03:35:22.087Z",
    "type": "execution"
   },
   {
    "id": "92e07c870743413486e1efc6b9cf3b77",
    "time": "2021-02-16T03:35:22.231Z",
    "type": "completion"
   },
   {
    "code": "star = '* '\n\nprint(1*star)\nprint(2*star)\nprint(3*star)\n\nfor i in range(4,5):\n    print(i*star)\nfor i in range(5,7):\n    print(i*star)\n\n    \nfor i in range(7): #this also works\n    print(i*star)",
    "id": "e48a6f1652844c9f8d9590cdab9661f8",
    "idx": 51,
    "time": "2021-02-16T03:35:23.965Z",
    "type": "execution"
   },
   {
    "id": "e48a6f1652844c9f8d9590cdab9661f8",
    "time": "2021-02-16T03:35:24.070Z",
    "type": "completion"
   },
   {
    "code": "string = '!scisyhP'\n\n#new_string = ''  #This is just an empty string\n#new_string = new_string + string[7] + string[6] + string[5]  #I can add characters to my empty string using the index number of each character \n#print(new_string)\n\nnewstring=''\n\nprint(range(len(string)))\n\nfor i in string:\n    newstring = i + newstring\n    print(newstring)\n# I don't understand why the code did this all of a sudden",
    "id": "e451f1dffce14a8f8266e5ca95f0237c",
    "idx": 53,
    "time": "2021-02-16T03:35:25.689Z",
    "type": "execution"
   },
   {
    "id": "e451f1dffce14a8f8266e5ca95f0237c",
    "time": "2021-02-16T03:35:25.817Z",
    "type": "completion"
   },
   {
    "code": "numbers = [1, 2, 3, 4, 5, 6, 7, 8, 9] \n\n#Use these variables to store the number of even and odd numbers\nnumber_even = 0\nnumber_odd  = 0\n\nfor i in numbers:\n    if i%2 == 0:\n        number_even += 1\n        print(number_even)\n    else:\n        number_odd += 1\n        print(number_odd)\n        \nprint(\"Number of even numbers : {:.1f}\".format(float(number_even)))\nprint(\"Number of odd numbers : {:.2f}\".format(float(number_odd)))",
    "id": "88379e7fe40d498d85eddd7aeb847d01",
    "idx": 55,
    "time": "2021-02-16T03:35:26.585Z",
    "type": "execution"
   },
   {
    "id": "88379e7fe40d498d85eddd7aeb847d01",
    "time": "2021-02-16T03:35:26.693Z",
    "type": "completion"
   },
   {
    "code": "#Example: only print odd numbers from 1 to 10\nfor number in range(1,11):\n    if number % 2 == 0:  #if this is True (i.e. number is even),\n        continue         #then skip to the next iteration of the loop\n\n    print(number)        #the number is only printed when the continue statement is not reached",
    "id": "6f5e4a743b494f6e8a24e7b22e851632",
    "idx": 57,
    "time": "2021-02-16T03:35:27.603Z",
    "type": "execution"
   },
   {
    "id": "6f5e4a743b494f6e8a24e7b22e851632",
    "time": "2021-02-16T03:35:27.776Z",
    "type": "completion"
   },
   {
    "code": "for number in range (0,6):\n    if number%3 == 0: \n        continue\n        \n    print(number)",
    "id": "f3bb653a529447cd88d8b3a447adfb78",
    "idx": 58,
    "time": "2021-02-16T03:35:28.168Z",
    "type": "execution"
   },
   {
    "id": "f3bb653a529447cd88d8b3a447adfb78",
    "time": "2021-02-16T03:35:28.278Z",
    "type": "completion"
   },
   {
    "code": "a0 = 0\na1 = 1\na2 = a0 + a1\na3 = a1 + a2\nprint(a0, a1, a2, a3)\n\ndef fib (a0, a1)\n    while a1 < 50:\n        print(a0)\n        \n    \n    \n    \n#It's tedious typing out these summations; try automating this process using a for loop\n#Your code here",
    "id": "cf4bc1f4aa0745ea8ef12d89eeb5eff7",
    "idx": 60,
    "time": "2021-02-16T04:03:44.164Z",
    "type": "execution"
   },
   {
    "id": "cf4bc1f4aa0745ea8ef12d89eeb5eff7",
    "time": "2021-02-16T04:03:44.284Z",
    "type": "completion"
   },
   {
    "code": "a0 = 0\na1 = 1\na2 = a0 + a1\na3 = a1 + a2\nprint(a0, a1, a2, a3)\n\ndef fib (a0, a1):\n    while a1 < 50:\n        print(a0)\n        \n    \n    \n    \n#It's tedious typing out these summations; try automating this process using a for loop\n#Your code here",
    "id": "cf4bc1f4aa0745ea8ef12d89eeb5eff7",
    "idx": 60,
    "time": "2021-02-16T04:03:49.771Z",
    "type": "execution"
   },
   {
    "id": "cf4bc1f4aa0745ea8ef12d89eeb5eff7",
    "time": "2021-02-16T04:03:49.883Z",
    "type": "completion"
   },
   {
    "code": "a0 = 0\na1 = 1\na2 = a0 + a1\na3 = a1 + a2\nprint(a0, a1, a2, a3)\n\ndef fib (a0, a1):\n    while a1 < 50:\n        print(a3)\n        \n    \n    \n    \n#It's tedious typing out these summations; try automating this process using a for loop\n#Your code here",
    "id": "cf4bc1f4aa0745ea8ef12d89eeb5eff7",
    "idx": 60,
    "time": "2021-02-16T04:04:02.758Z",
    "type": "execution"
   },
   {
    "id": "cf4bc1f4aa0745ea8ef12d89eeb5eff7",
    "time": "2021-02-16T04:04:02.892Z",
    "type": "completion"
   },
   {
    "code": "a0 = 0\na1 = 1\na2 = a0 + a1\na3 = a1 + a2\nprint(a0, a1, a2, a3)\n\ndef fib (a0, a1):\n    while a1 < 50:\n        print(a3)\n        \nfib(a0, a1)    \n    \n    \n#It's tedious typing out these summations; try automating this process using a for loop\n#Your code here",
    "id": "cf4bc1f4aa0745ea8ef12d89eeb5eff7",
    "idx": 60,
    "time": "2021-02-16T04:04:24.147Z",
    "type": "execution"
   },
   {
    "code": "a0 = 0\na1 = 1\na2 = a0 + a1\na3 = a1 + a2\nprint(a0, a1, a2, a3)\n\ndef fib (a0, a1):\n    while a1 < 50:\n        print(a0)\n        \nfib(a0, a1)    \n    \n    \n#It's tedious typing out these summations; try automating this process using a for loop\n#Your code here",
    "id": "cf4bc1f4aa0745ea8ef12d89eeb5eff7",
    "idx": 60,
    "time": "2021-02-16T04:04:49.990Z",
    "type": "execution"
   },
   {
    "id": "cf4bc1f4aa0745ea8ef12d89eeb5eff7",
    "time": "2021-02-16T04:05:02.567Z",
    "type": "completion"
   },
   {
    "id": "cf4bc1f4aa0745ea8ef12d89eeb5eff7",
    "time": "2021-02-16T04:05:02.567Z",
    "type": "completion"
   },
   {
    "code": "a0 = 0\na1 = 1\na2 = a0 + a1\na3 = a1 + a2\nprint(a0, a1, a2, a3)\n\ndef fib (a0, a1):\n    while a1 < 50:\n        print(a1)\n        \nfib(a0, a1)    \n    \n    \n#It's tedious typing out these summations; try automating this process using a for loop\n#Your code here",
    "id": "cf4bc1f4aa0745ea8ef12d89eeb5eff7",
    "idx": 60,
    "time": "2021-02-16T04:05:08.871Z",
    "type": "execution"
   },
   {
    "code": "a0 = 0\na1 = 1\na2 = a0 + a1\na3 = a1 + a2\nprint(a0, a1, a2, a3)\n\ndef fib (a0, a1):\n    while a0 < 50:\n        print(a1)\n        \nfib(a0, a1)    \n    \n    \n#It's tedious typing out these summations; try automating this process using a for loop\n#Your code here",
    "id": "cf4bc1f4aa0745ea8ef12d89eeb5eff7",
    "idx": 60,
    "time": "2021-02-16T04:05:17.432Z",
    "type": "execution"
   },
   {
    "id": "cf4bc1f4aa0745ea8ef12d89eeb5eff7",
    "time": "2021-02-16T04:05:47.872Z",
    "type": "completion"
   },
   {
    "id": "cf4bc1f4aa0745ea8ef12d89eeb5eff7",
    "time": "2021-02-16T04:05:47.873Z",
    "type": "completion"
   },
   {
    "code": "a0 = 0\na1 = 1\na2 = a0 + a1\na3 = a1 + a2\nprint(a0, a1, a2, a3)\n\ndef fib (a0, a1):\n    while a0 < 50:\n        print(a1)\n        \nfib(a0, a1)    \n    \n    \n#It's tedious typing out these summations; try automating this process using a for loop\n#Your code here",
    "id": "cf4bc1f4aa0745ea8ef12d89eeb5eff7",
    "idx": 60,
    "time": "2021-02-16T04:05:51.075Z",
    "type": "execution"
   },
   {
    "code": "a0 = 0\na1 = 1\na2 = a0 + a1\na3 = a1 + a2\nprint(a0, a1, a2, a3)\n\ndef fib (a0, a1):\n    while a0 < 50:\n        print(a1)\n        a0 = 0\n        a1 = 1\n        a2 = a0 + a1\n        a3 = a1 + a2\nfib(a0, a1)    \n    \n    \n#It's tedious typing out these summations; try automating this process using a for loop\n#Your code here",
    "id": "cf4bc1f4aa0745ea8ef12d89eeb5eff7",
    "idx": 60,
    "time": "2021-02-16T04:06:55.835Z",
    "type": "execution"
   },
   {
    "id": "cf4bc1f4aa0745ea8ef12d89eeb5eff7",
    "time": "2021-02-16T04:07:08.509Z",
    "type": "completion"
   },
   {
    "id": "cf4bc1f4aa0745ea8ef12d89eeb5eff7",
    "time": "2021-02-16T04:07:08.509Z",
    "type": "completion"
   },
   {
    "code": "a0 = 0\na1 = 1\na2 = a0 + a1\na3 = a1 + a2\nprint(a0, a1, a2, a3)\n\ndef fib (a0, a1):\n    while a0 < 50:\n        print(a1)\n        a0 = 0\n        a1 = 1\n        a2 = a0 + a1\n        a3 = a1 + a2\nfib(a0, a1)    \n    \n    \n#It's tedious typing out these summations; try automating this process using a for loop\n#Your code here",
    "id": "cf4bc1f4aa0745ea8ef12d89eeb5eff7",
    "idx": 60,
    "time": "2021-02-16T04:07:11.521Z",
    "type": "execution"
   },
   {
    "code": "a0 = 0\na1 = 1\na2 = a0 + a1\na3 = a1 + a2\nprint(a0, a1, a2, a3)\n\ndef fib (a0, a1):\n    a0 = 0\n    a1 = 1\n    while a0 < 50:\n        print(a1)\n        a2 = a0 + a1\n        a3 = a1 + a2\nfib(a0, a1)    \n    \n    \n#It's tedious typing out these summations; try automating this process using a for loop\n#Your code here",
    "id": "cf4bc1f4aa0745ea8ef12d89eeb5eff7",
    "idx": 60,
    "time": "2021-02-16T04:07:40.248Z",
    "type": "execution"
   },
   {
    "id": "cf4bc1f4aa0745ea8ef12d89eeb5eff7",
    "time": "2021-02-16T04:08:37.957Z",
    "type": "completion"
   },
   {
    "id": "cf4bc1f4aa0745ea8ef12d89eeb5eff7",
    "time": "2021-02-16T04:08:37.962Z",
    "type": "completion"
   },
   {
    "code": "a0 = 0\na1 = 1\na2 = a0 + a1\na3 = a1 + a2\nprint(a0, a1, a2, a3)\n\ndef fib (a0, a1):\n    a0 = 0\n    a1 = 1\n    while a0 < 50:\n        print(a1)\n        a2 = a0 + a1\n        a3 = a1 + a2\nfib(a0, a1)    \n    \n    \n#It's tedious typing out these summations; try automating this process using a for loop\n#Your code here",
    "id": "cf4bc1f4aa0745ea8ef12d89eeb5eff7",
    "idx": 60,
    "time": "2021-02-16T04:08:39.856Z",
    "type": "execution"
   },
   {
    "id": "cf4bc1f4aa0745ea8ef12d89eeb5eff7",
    "time": "2021-02-16T04:15:25.726Z",
    "type": "completion"
   },
   {
    "code": "a0 = 0\na1 = 1\na2 = a0 + a1\na3 = a1 + a2\nprint(a0, a1, a2, a3)\n\n#def fib (a0, a1):\n    a0 = 0\n    a1 = 1\n    while a0 < 50:\n        print(a1)\n        a2 = a0 + a1\n        a3 = a1 + a2\n#fib(a0, a1)    \n    \n    \n#It's tedious typing out these summations; try automating this process using a for loop\n#Your code here",
    "id": "cf4bc1f4aa0745ea8ef12d89eeb5eff7",
    "idx": 60,
    "time": "2021-02-16T04:15:35.554Z",
    "type": "execution"
   },
   {
    "id": "cf4bc1f4aa0745ea8ef12d89eeb5eff7",
    "time": "2021-02-16T04:15:36.229Z",
    "type": "completion"
   },
   {
    "code": "a0 = 0\na1 = 1\na2 = a0 + a1\na3 = a1 + a2\nprint(a0, a1, a2, a3)\n\ndef fib (a0, a1):\n    a0 = 0\n    a1 = 1\n    while a0 < 50:\n        print(a0)\n        a2 = a0 + a1\n        a3 = a2\nfib(a0, a1)    \n    \n    \n#It's tedious typing out these summations; try automating this process using a for loop\n#Your code here",
    "id": "cf4bc1f4aa0745ea8ef12d89eeb5eff7",
    "idx": 60,
    "time": "2021-02-16T04:17:02.807Z",
    "type": "execution"
   },
   {
    "id": "cf4bc1f4aa0745ea8ef12d89eeb5eff7",
    "time": "2021-02-16T04:17:14.985Z",
    "type": "completion"
   },
   {
    "code": "a0, a1 = 0, 1\na2 = a0 + a1\na3 = a1 + a2\nprint(a0, a1, a2, a3)\n\ndef fib (a0, a1):\n    a0 = 0\n    a1 = 1\n    while a0 < 50:\n        print(a0)\n        a2 = a0 + a1\n        a3 = a2\nfib(a0, a1)    \n    \n    \n#It's tedious typing out these summations; try automating this process using a for loop\n#Your code here",
    "id": "cf4bc1f4aa0745ea8ef12d89eeb5eff7",
    "idx": 60,
    "time": "2021-02-16T04:17:25.996Z",
    "type": "execution"
   },
   {
    "code": "a0, a1 = 0, 1\na2 = a0 + a1\na3 = a1 + a2\nprint(a0, a1, a2, a3)\n\ndef fib (a0, a1):\n    while a0 < 50:\n        print(a0)\n        a2 = a0 + a1\n        a3 = a2\nfib(a0, a1)    \n    \n    \n#It's tedious typing out these summations; try automating this process using a for loop\n#Your code here",
    "id": "cf4bc1f4aa0745ea8ef12d89eeb5eff7",
    "idx": 60,
    "time": "2021-02-16T04:17:33.211Z",
    "type": "execution"
   },
   {
    "id": "cf4bc1f4aa0745ea8ef12d89eeb5eff7",
    "time": "2021-02-16T04:17:35.994Z",
    "type": "completion"
   },
   {
    "id": "cf4bc1f4aa0745ea8ef12d89eeb5eff7",
    "time": "2021-02-16T04:17:35.994Z",
    "type": "completion"
   },
   {
    "code": "a0, a1 = 0, 1\na2 = a0 + a1\na3 = a1 + a2\nprint(a0, a1, a2, a3)\n\ndef fib (a0, a1):\n    while a0 < 50:\n        print(a0)\n        a2 = a0 + a1\n        a3 = a2\nfib(0, 1)    \n    \n    \n#It's tedious typing out these summations; try automating this process using a for loop\n#Your code here",
    "id": "cf4bc1f4aa0745ea8ef12d89eeb5eff7",
    "idx": 60,
    "time": "2021-02-16T04:18:49.959Z",
    "type": "execution"
   },
   {
    "id": "cf4bc1f4aa0745ea8ef12d89eeb5eff7",
    "time": "2021-02-16T04:18:57.458Z",
    "type": "completion"
   },
   {
    "code": "a0, a1 = 0, 1\na2 = a0 + a1\na3 = a1 + a2\nprint(a0, a1, a2, a3)\n\ndef fib (a0, a1):\n    while a0 < 50:\n        print(a0)\n        a2 = a0 + a1\n        a0 = a1\n        a1 = a2\nfib(0, 1)    \n    \n    \n#It's tedious typing out these summations; try automating this process using a for loop\n#Your code here",
    "id": "cf4bc1f4aa0745ea8ef12d89eeb5eff7",
    "idx": 60,
    "time": "2021-02-16T04:20:43.731Z",
    "type": "execution"
   },
   {
    "id": "cf4bc1f4aa0745ea8ef12d89eeb5eff7",
    "time": "2021-02-16T04:20:43.848Z",
    "type": "completion"
   },
   {
    "code": "m = 3 # number of rows\nn = 4 # number of columns\n\nmy_array = []\n\n#Your code here; try using a for loop over range(n) inside a for loop over range(m)\n\nprint(my_array)",
    "id": "55d8e01b0a81488e9482204256ce0459",
    "idx": 62,
    "time": "2021-02-16T04:21:12.470Z",
    "type": "execution"
   },
   {
    "id": "55d8e01b0a81488e9482204256ce0459",
    "time": "2021-02-16T04:21:12.602Z",
    "type": "completion"
   },
   {
    "code": "m = 3 # number of rows\nn = 4 # number of columns\n\nmy_array = []\n\nfor i in range (0, 7):\n    if i == 0:\n        append.my_array(0)*m\n\nprint(my_array)",
    "id": "55d8e01b0a81488e9482204256ce0459",
    "idx": 62,
    "time": "2021-02-16T04:43:56.868Z",
    "type": "execution"
   },
   {
    "id": "55d8e01b0a81488e9482204256ce0459",
    "time": "2021-02-16T04:43:57.035Z",
    "type": "completion"
   },
   {
    "code": "m = 3 # number of rows\nn = 4 # number of columns\n\nmy_array = []\n\nfor i in range (0, 7):\n    if i == 0:\n        np.append.my_array(0)*m\n\nprint(my_array)",
    "id": "55d8e01b0a81488e9482204256ce0459",
    "idx": 62,
    "time": "2021-02-16T04:44:05.328Z",
    "type": "execution"
   },
   {
    "id": "55d8e01b0a81488e9482204256ce0459",
    "time": "2021-02-16T04:44:05.457Z",
    "type": "completion"
   },
   {
    "code": "m = 3 # number of rows\nn = 4 # number of columns\n\nmy_array = []\n\nfor i in range (0, 7):\n    if i == 0:\n        my_array.append(0)\n\nprint(my_array)",
    "id": "55d8e01b0a81488e9482204256ce0459",
    "idx": 62,
    "time": "2021-02-16T04:44:34.249Z",
    "type": "execution"
   },
   {
    "id": "55d8e01b0a81488e9482204256ce0459",
    "time": "2021-02-16T04:44:34.353Z",
    "type": "completion"
   },
   {
    "code": "m = 3 # number of rows\nn = 4 # number of columns\n\nmy_array = []\n\nfor i in range (0, 7):\n    if i == 0:\n        my_array.append(0)*m\n\nprint(my_array)",
    "id": "55d8e01b0a81488e9482204256ce0459",
    "idx": 62,
    "time": "2021-02-16T04:44:38.597Z",
    "type": "execution"
   },
   {
    "id": "55d8e01b0a81488e9482204256ce0459",
    "time": "2021-02-16T04:44:38.729Z",
    "type": "completion"
   },
   {
    "code": "m = 3 # number of rows\nn = 4 # number of columns\n\nmy_array = []\n\nfor i in range (0, 7):\n    if i == 0:\n        my_array.append(0*m)\n\nprint(my_array)",
    "id": "55d8e01b0a81488e9482204256ce0459",
    "idx": 62,
    "time": "2021-02-16T04:44:52.804Z",
    "type": "execution"
   },
   {
    "id": "55d8e01b0a81488e9482204256ce0459",
    "time": "2021-02-16T04:44:52.929Z",
    "type": "completion"
   },
   {
    "code": "m = 3 # number of rows\nn = 4 # number of columns\n\nmy_array = []\n\nfor i in range (0, 7):\n    for i == 0:\n        my_array.append(0*m)\n\nprint(my_array)",
    "id": "55d8e01b0a81488e9482204256ce0459",
    "idx": 62,
    "time": "2021-02-16T04:45:11.677Z",
    "type": "execution"
   },
   {
    "id": "55d8e01b0a81488e9482204256ce0459",
    "time": "2021-02-16T04:45:11.797Z",
    "type": "completion"
   },
   {
    "code": "m = 3 # number of rows\nn = 4 # number of columns\n\nmy_array = []\n\nfor i in range (0, 7):\n    if i == 0:\n        my_array.append(0*m)\n\nprint(my_array)",
    "id": "55d8e01b0a81488e9482204256ce0459",
    "idx": 62,
    "time": "2021-02-16T04:48:42.980Z",
    "type": "execution"
   },
   {
    "id": "55d8e01b0a81488e9482204256ce0459",
    "time": "2021-02-16T04:48:43.090Z",
    "type": "completion"
   },
   {
    "code": "m = 3 # number of rows\nn = 4 # number of columns\n\nmy_array = []\n\nm=int(input(\"Row:\"))\nn=int(input(\"Column:\"))\nmatrix=[[0 for col in range(n)] for row in range(m)]\nfor row in range(m):\n    for col in range(n):\n        matrix[row][col]=row*col\nprint(matrix)\n\n\nprint(my_array)",
    "id": "55d8e01b0a81488e9482204256ce0459",
    "idx": 62,
    "time": "2021-02-16T05:00:15.136Z",
    "type": "execution"
   },
   {
    "code": "m = 3 # number of rows\nn = 4 # number of columns\n\nmy_array = []\n\n\nmatrix=[[0 for col in m] for row in n]\nfor row in range(m):\n    for col in range(n):\n        matrix[row][col]=row*col\nprint(matrix)\n\n\nprint(my_array)",
    "id": "55d8e01b0a81488e9482204256ce0459",
    "idx": 62,
    "time": "2021-02-16T05:01:06.378Z",
    "type": "execution"
   },
   {
    "id": "55d8e01b0a81488e9482204256ce0459",
    "time": "2021-02-16T05:01:14.706Z",
    "type": "completion"
   },
   {
    "id": "55d8e01b0a81488e9482204256ce0459",
    "time": "2021-02-16T05:01:14.707Z",
    "type": "completion"
   },
   {
    "code": "m = 3 # number of rows\nn = 4 # number of columns\n\nmy_array = []\n\n\nmatrix=[[0 for col in m] for row in n]\nfor row in range(m):\n    for col in range(n):\n        matrix[row][col]=row*col\nprint(matrix)\n\n\nprint(my_array)",
    "id": "55d8e01b0a81488e9482204256ce0459",
    "idx": 62,
    "time": "2021-02-16T05:01:17.660Z",
    "type": "execution"
   },
   {
    "id": "55d8e01b0a81488e9482204256ce0459",
    "time": "2021-02-16T05:01:17.806Z",
    "type": "completion"
   },
   {
    "code": "m = 3 # number of rows\nn = 4 # number of columns\n\nmy_array = []\n\n\nmatrix=[[0 for m] for row in n]\nfor row in range(m):\n    for col in range(n):\n        matrix[row][col]=row*col\nprint(matrix)\n\n\nprint(my_array)",
    "id": "55d8e01b0a81488e9482204256ce0459",
    "idx": 62,
    "time": "2021-02-16T05:02:46.989Z",
    "type": "execution"
   },
   {
    "id": "55d8e01b0a81488e9482204256ce0459",
    "time": "2021-02-16T05:02:47.115Z",
    "type": "completion"
   },
   {
    "code": "m = 3 # number of rows\nn = 4 # number of columns\n\nmy_array = []\n\n\nmatrix=[[0 for m], for row in n]\nfor row in range(m):\n    for col in range(n):\n        matrix[row][col]=row*col\nprint(matrix)\n\n\nprint(my_array)",
    "id": "55d8e01b0a81488e9482204256ce0459",
    "idx": 62,
    "time": "2021-02-16T05:02:58.258Z",
    "type": "execution"
   },
   {
    "id": "55d8e01b0a81488e9482204256ce0459",
    "time": "2021-02-16T05:02:58.371Z",
    "type": "completion"
   },
   {
    "code": "m = 3 # number of rows\nn = 4 # number of columns\n\nmy_array = []\n\n\nmatrix=[[0 for col in m] for row in n]\nfor row in range(m):\n    for col in range(n):\n        matrix[row][col]=row*col\nprint(matrix)\n\n\nprint(my_array)",
    "id": "55d8e01b0a81488e9482204256ce0459",
    "idx": 62,
    "time": "2021-02-16T05:03:07.021Z",
    "type": "execution"
   },
   {
    "id": "55d8e01b0a81488e9482204256ce0459",
    "time": "2021-02-16T05:03:07.140Z",
    "type": "completion"
   },
   {
    "code": "m = 3 # number of rows\nn = 4 # number of columns\n\nmy_array = []\n\n\nmatrix=[[0 for col in m] for row in n]\nfor m:\n    for n:\n        my_array[row][col]=row*col\nprint(matrix)\n\n\nprint(my_array)",
    "id": "55d8e01b0a81488e9482204256ce0459",
    "idx": 62,
    "time": "2021-02-16T05:07:25.040Z",
    "type": "execution"
   },
   {
    "id": "55d8e01b0a81488e9482204256ce0459",
    "time": "2021-02-16T05:07:25.154Z",
    "type": "completion"
   },
   {
    "code": "m = 3 # number of rows\nn = 4 # number of columns\n\nmy_array = []\n\n\nfor m:\n    for n:\n        my_array[row][col]=row*col\nprint(matrix)\n\n\nprint(my_array)",
    "id": "55d8e01b0a81488e9482204256ce0459",
    "idx": 62,
    "time": "2021-02-16T05:07:37.679Z",
    "type": "execution"
   },
   {
    "id": "55d8e01b0a81488e9482204256ce0459",
    "time": "2021-02-16T05:07:37.791Z",
    "type": "completion"
   },
   {
    "code": "m = 3 # number of rows\nn = 4 # number of columns\n\nmy_array = []\n\n\nfor i in range (1, 1+m):\n    for j in range (1, 1+n):\n        print(i*j, end = '')\n\nprint(my_array)",
    "id": "55d8e01b0a81488e9482204256ce0459",
    "idx": 62,
    "time": "2021-02-16T05:10:26.282Z",
    "type": "execution"
   },
   {
    "id": "55d8e01b0a81488e9482204256ce0459",
    "time": "2021-02-16T05:10:26.404Z",
    "type": "completion"
   },
   {
    "code": "m = 3 # number of rows\nn = 4 # number of columns\n\nmy_array = []\n\n\nfor i in range (1, 1+m):\n    for j in range (1, 1+n):\n        print(i*j, end = '')\n        print(/n)\n\nprint(my_array)",
    "id": "55d8e01b0a81488e9482204256ce0459",
    "idx": 62,
    "time": "2021-02-16T05:10:40.294Z",
    "type": "execution"
   },
   {
    "id": "55d8e01b0a81488e9482204256ce0459",
    "time": "2021-02-16T05:10:40.439Z",
    "type": "completion"
   },
   {
    "code": "m = 3 # number of rows\nn = 4 # number of columns\n\nmy_array = []\n\n\nfor i in range (1, 1+m):\n    for j in range (1, 1+n):\n        print(i*j, end = '')\n        print('/n')\n\nprint(my_array)",
    "id": "55d8e01b0a81488e9482204256ce0459",
    "idx": 62,
    "time": "2021-02-16T05:10:50.879Z",
    "type": "execution"
   },
   {
    "id": "55d8e01b0a81488e9482204256ce0459",
    "time": "2021-02-16T05:10:50.994Z",
    "type": "completion"
   },
   {
    "code": "m = 3 # number of rows\nn = 4 # number of columns\n\nmy_array = []\n\n\nfor i in range (1, 1+m):\n    for j in range (1, 1+n):\n        print(i*j, end = '')\n        print(\"/n\")\n\nprint(my_array)",
    "id": "55d8e01b0a81488e9482204256ce0459",
    "idx": 62,
    "time": "2021-02-16T05:11:03.947Z",
    "type": "execution"
   },
   {
    "id": "55d8e01b0a81488e9482204256ce0459",
    "time": "2021-02-16T05:11:04.076Z",
    "type": "completion"
   },
   {
    "code": "m = 3 # number of rows\nn = 4 # number of columns\n\nmy_array = []\n\n\nfor i in range (1, m):\n    for j in range (1, n):\n        print(i*j, end = '')\n        print(\"/n\")\n\nprint(my_array)",
    "id": "55d8e01b0a81488e9482204256ce0459",
    "idx": 62,
    "time": "2021-02-16T05:11:17.071Z",
    "type": "execution"
   },
   {
    "id": "55d8e01b0a81488e9482204256ce0459",
    "time": "2021-02-16T05:11:17.199Z",
    "type": "completion"
   },
   {
    "code": "m = 3 # number of rows\nn = 4 # number of columns\n\nmy_array = []\n\nfor row in range(m):\n    for col in range(n):\n        my_array[m][n]= m*n\n\nprint(my_array)",
    "id": "55d8e01b0a81488e9482204256ce0459",
    "idx": 62,
    "time": "2021-02-16T05:13:25.242Z",
    "type": "execution"
   },
   {
    "id": "55d8e01b0a81488e9482204256ce0459",
    "time": "2021-02-16T05:13:25.382Z",
    "type": "completion"
   },
   {
    "code": "m = 3 # number of rows\nn = 4 # number of columns\n\nmy_array = [[0 for col in range(m)] for row in range(n)]\n\nfor row in range(m):\n    for col in range(n):\n        my_array[m][n]= m*n\n\nprint(my_array)",
    "id": "55d8e01b0a81488e9482204256ce0459",
    "idx": 62,
    "time": "2021-02-16T05:16:04.445Z",
    "type": "execution"
   },
   {
    "id": "55d8e01b0a81488e9482204256ce0459",
    "time": "2021-02-16T05:16:04.597Z",
    "type": "completion"
   },
   {
    "code": "m = range(0,3) # number of rows\nn = range(0,4) # number of columns\n\nmy_array = [[0 for col in range(m)] for row in range(n)]\n\nfor row in range(m):\n    for col in range(n):\n        my_array[m][n]= m*n\n\nprint(my_array)",
    "id": "55d8e01b0a81488e9482204256ce0459",
    "idx": 62,
    "time": "2021-02-16T05:16:31.133Z",
    "type": "execution"
   },
   {
    "id": "55d8e01b0a81488e9482204256ce0459",
    "time": "2021-02-16T05:16:31.251Z",
    "type": "completion"
   },
   {
    "code": "m = (0,3) # number of rows\nn = (0,4) # number of columns\n\nmy_array = [[0 for col in range(m)] for row in range(n)]\n\nfor row in range(m):\n    for col in range(n):\n        my_array[m][n]= m*n\n\nprint(my_array)",
    "id": "55d8e01b0a81488e9482204256ce0459",
    "idx": 62,
    "time": "2021-02-16T05:16:47.900Z",
    "type": "execution"
   },
   {
    "id": "55d8e01b0a81488e9482204256ce0459",
    "time": "2021-02-16T05:16:48.018Z",
    "type": "completion"
   },
   {
    "code": "m = (3) # number of rows\nn = (4) # number of columns\n\nmy_array = [[0 for col in range(m)] for row in range(n)]\n\nfor row in range(m):\n    for col in range(n):\n        my_array[m][n]= m*n\n\nprint(my_array)",
    "id": "55d8e01b0a81488e9482204256ce0459",
    "idx": 62,
    "time": "2021-02-16T05:17:01.089Z",
    "type": "execution"
   },
   {
    "id": "55d8e01b0a81488e9482204256ce0459",
    "time": "2021-02-16T05:17:01.201Z",
    "type": "completion"
   },
   {
    "code": "m = (3) # number of rows\nn = (4) # number of columns\n\nmy_array = [[0 for col in range(m)] for row in range(n)]\n\nfor row in range(m):\n    for col in range(n):\n        my_array[m][n]= m*n\n\nprint(my_array)",
    "id": "55d8e01b0a81488e9482204256ce0459",
    "idx": 62,
    "time": "2021-02-16T05:24:27.866Z",
    "type": "execution"
   },
   {
    "id": "55d8e01b0a81488e9482204256ce0459",
    "time": "2021-02-16T05:24:28.019Z",
    "type": "completion"
   },
   {
    "code": "m = (3) # number of rows\nn = (4) # number of columns\n\nmy_array = [[0 for col in (m)] for row in (n)]\n\nfor row in range(m):\n    for col in range(n):\n        my_array[m][n]= m*n\n\nprint(my_array)",
    "id": "55d8e01b0a81488e9482204256ce0459",
    "idx": 62,
    "time": "2021-02-16T05:24:48.186Z",
    "type": "execution"
   },
   {
    "id": "55d8e01b0a81488e9482204256ce0459",
    "time": "2021-02-16T05:24:48.292Z",
    "type": "completion"
   },
   {
    "code": "m = int(3) # number of rows\nn = int(4) # number of columns\n\nmy_array = [[0 for col in (m)] for row in (n)]\n\nfor row in range(m):\n    for col in range(n):\n        my_array[m][n]= m*n\n\nprint(my_array)",
    "id": "55d8e01b0a81488e9482204256ce0459",
    "idx": 62,
    "time": "2021-02-16T05:24:59.913Z",
    "type": "execution"
   },
   {
    "id": "55d8e01b0a81488e9482204256ce0459",
    "time": "2021-02-16T05:25:00.039Z",
    "type": "completion"
   },
   {
    "code": "m = int(3) # number of rows\nn = int(4) # number of columns\n\nmy_array = [[0 for col in (m)] for row in (n)]\n\nfor row in (m):\n    for col in (n):\n        my_array[m][n]= m*n\n\nprint(my_array)",
    "id": "55d8e01b0a81488e9482204256ce0459",
    "idx": 62,
    "time": "2021-02-16T05:25:16.316Z",
    "type": "execution"
   },
   {
    "id": "55d8e01b0a81488e9482204256ce0459",
    "time": "2021-02-16T05:25:16.464Z",
    "type": "completion"
   },
   {
    "code": "m = int(3) # number of rows\nn = int(4) # number of columns\n\nmy_array = [[0 for col in (m)] for row in (n)]\n\nfor i in range(0, m):\n    for j in (0, n):\n        my_array[m][n]= m*n\n\nprint(my_array)",
    "id": "55d8e01b0a81488e9482204256ce0459",
    "idx": 62,
    "time": "2021-02-16T05:26:50.624Z",
    "type": "execution"
   },
   {
    "id": "55d8e01b0a81488e9482204256ce0459",
    "time": "2021-02-16T05:26:50.766Z",
    "type": "completion"
   },
   {
    "code": "m = int(3) # number of rows\nn = int(4) # number of columns\n\nmy_array = [[0 for col in range(0, m)] for row in range(0, n)]\n\nfor i in range(0, m):\n    for j in (0, n):\n        my_array[m][n]= m*n\n\nprint(my_array)",
    "id": "55d8e01b0a81488e9482204256ce0459",
    "idx": 62,
    "time": "2021-02-16T05:27:10.103Z",
    "type": "execution"
   },
   {
    "id": "55d8e01b0a81488e9482204256ce0459",
    "time": "2021-02-16T05:27:10.246Z",
    "type": "completion"
   },
   {
    "code": "m = 3 # number of rows\nn = 4 # number of columns\n\nmy_array = [[0 for col in range(0, m)] for row in range(0, n)]\n\nfor i in range(0, m):\n    for j in (0, n):\n        my_array[m][n]= m*n\n\nprint(my_array)",
    "id": "55d8e01b0a81488e9482204256ce0459",
    "idx": 62,
    "time": "2021-02-16T05:27:33.483Z",
    "type": "execution"
   },
   {
    "id": "55d8e01b0a81488e9482204256ce0459",
    "time": "2021-02-16T05:27:33.594Z",
    "type": "completion"
   },
   {
    "code": "m = 3 # number of rows\nn = 4 # number of columns\n\nmy_array = [[0 for i in range(0, m)] for j in range(0, n)]\n\nfor i in range(0, m):\n    for j in (0, n):\n        my_array[m][n]= m*n\n\nprint(my_array)",
    "id": "55d8e01b0a81488e9482204256ce0459",
    "idx": 62,
    "time": "2021-02-16T05:39:32.763Z",
    "type": "execution"
   },
   {
    "id": "55d8e01b0a81488e9482204256ce0459",
    "time": "2021-02-16T05:39:32.885Z",
    "type": "completion"
   },
   {
    "code": "m = 3 # number of rows\nn = 4 # number of columns\n\nmy_array = [[0 for i in range(n)] for j in range(0, n)]\n\nfor i in range(0, m):\n    for j in (0, n):\n        my_array[m][n]= m*n\n\nprint(my_array)",
    "id": "55d8e01b0a81488e9482204256ce0459",
    "idx": 62,
    "time": "2021-02-16T05:39:56.268Z",
    "type": "execution"
   },
   {
    "id": "55d8e01b0a81488e9482204256ce0459",
    "time": "2021-02-16T05:39:56.398Z",
    "type": "completion"
   },
   {
    "code": "m = 3 # number of rows\nn = 4 # number of columns\n\nmy_array = [[0 for i in range(n)] for j in range (n)]\n\nfor i in range(0, m):\n    for j in (0, n):\n        my_array[m][n]= m*n\n\nprint(my_array)",
    "id": "55d8e01b0a81488e9482204256ce0459",
    "idx": 62,
    "time": "2021-02-16T05:40:16.997Z",
    "type": "execution"
   },
   {
    "id": "55d8e01b0a81488e9482204256ce0459",
    "time": "2021-02-16T05:40:17.136Z",
    "type": "completion"
   },
   {
    "code": "m = 3 # number of rows\nn = 4 # number of columns\n\nmy_array = [[0 for i in range(n)] for j in range (m)]\n\nfor i in range(0, n):\n    for j in (0, m):\n        my_array[m][n]= m*n\n\nprint(my_array)",
    "id": "55d8e01b0a81488e9482204256ce0459",
    "idx": 62,
    "time": "2021-02-16T05:41:04.904Z",
    "type": "execution"
   },
   {
    "id": "55d8e01b0a81488e9482204256ce0459",
    "time": "2021-02-16T05:41:05.041Z",
    "type": "completion"
   },
   {
    "code": "m = 3 # number of rows\nn = 4 # number of columns\n\nmy_array = [[0 for i in range(n)] for j in range (m)]\n\nfor i in range(0, n):\n    for j in (0, m):\n        my_array[m][n]= m*n\n\nprint(my_array)",
    "id": "55d8e01b0a81488e9482204256ce0459",
    "idx": 62,
    "time": "2021-02-16T05:44:50.964Z",
    "type": "execution"
   },
   {
    "id": "55d8e01b0a81488e9482204256ce0459",
    "time": "2021-02-16T05:44:51.106Z",
    "type": "completion"
   },
   {
    "code": "m = 3 # number of rows\nn = 4 # number of columns\n\nmy_array = [[0 for i in range(n)] for j in range (m)]\n\nfor i in range(0, 3):\n    for j in (0, 4):\n        my_array[4][3]= 4*3\n\nprint(my_array)",
    "id": "55d8e01b0a81488e9482204256ce0459",
    "idx": 62,
    "time": "2021-02-16T05:55:06.867Z",
    "type": "execution"
   },
   {
    "id": "55d8e01b0a81488e9482204256ce0459",
    "time": "2021-02-16T05:55:06.986Z",
    "type": "completion"
   },
   {
    "code": "m = 3 # number of rows\nn = 4 # number of columns\n\nmy_array = [[0 for col in range(n)] for row in range (m)]\n\nfor col in range(n):\n    for row in (m):\n        my_array[n][m]= n*m\n\nprint(my_array)",
    "id": "55d8e01b0a81488e9482204256ce0459",
    "idx": 62,
    "time": "2021-02-16T05:56:03.759Z",
    "type": "execution"
   },
   {
    "id": "55d8e01b0a81488e9482204256ce0459",
    "time": "2021-02-16T05:56:03.899Z",
    "type": "completion"
   },
   {
    "code": "import numpy as np\nimport matplotlib.pyplot as plt\n\ndef sinc(x):\n    \"\"\" Takes a real number x and returns the continuous function\n        sinc(x) = sin(x)/x. \"\"\"\n\n    # Your code here!\n\nx_values = np.linspace(-50, 50, 1001)\n\n'''y_values = sinc(x_values) would give an error; numpy arrays don't play nicely with conditional statements\n   Instead, we have to fill a list of y_values one element at a time.'''\n\ny_values = []\n\nfor x in x_values:\n    y = sinc(x)\n    y_values.append(y)\n    \n# Plotting the sinc function\n\n# Your code here!\n",
    "id": "fb433180e222408bac5ac66f2245ce26",
    "idx": 66,
    "time": "2021-02-16T06:04:54.364Z",
    "type": "execution"
   },
   {
    "id": "fb433180e222408bac5ac66f2245ce26",
    "time": "2021-02-16T06:04:55.100Z",
    "type": "completion"
   },
   {
    "code": "m = 3 # number of rows\nn = 4 # number of columns\n\ndef array (m,n)\n    my_array = []\n    for row in range(m):\n        table = []\n        for col in range(n): \n            b = row*col\n            table.append(b)\n            my_array.append(table)\n        print(my_array)\n\n\n#my_array = [[0 for col in range(n)] for row in range (m)]\n\n#for col in range(n):\n    #for row in (m):\n        #my_array[n][m]= n*m\n\n#print(my_array)",
    "id": "55d8e01b0a81488e9482204256ce0459",
    "idx": 62,
    "time": "2021-02-16T06:18:57.290Z",
    "type": "execution"
   },
   {
    "id": "55d8e01b0a81488e9482204256ce0459",
    "time": "2021-02-16T06:18:57.422Z",
    "type": "completion"
   },
   {
    "code": "m = 3 # number of rows\nn = 4 # number of columns\n\ndef array (m,n):\n    my_array = []\n    for row in range(m):\n        table = []\n        for col in range(n): \n            b = row*col\n            table.append(b)\n            my_array.append(table)\n        print(my_array)\n\n\n#my_array = [[0 for col in range(n)] for row in range (m)]\n\n#for col in range(n):\n    #for row in (m):\n        #my_array[n][m]= n*m\n\n#print(my_array)",
    "id": "55d8e01b0a81488e9482204256ce0459",
    "idx": 62,
    "time": "2021-02-16T06:19:01.092Z",
    "type": "execution"
   },
   {
    "id": "55d8e01b0a81488e9482204256ce0459",
    "time": "2021-02-16T06:19:01.426Z",
    "type": "completion"
   },
   {
    "code": "m = 3 # number of rows\nn = 4 # number of columns\n\ndef array (m,n):\n    my_array = []\n    for row in range(m):\n        table = []\n        for col in range(n): \n            b = row*col\n            table.append(b)\n            my_array.append(table)\n        print(my_array)\n\narray(3, 4)\n        \n#my_array = [[0 for col in range(n)] for row in range (m)]\n\n#for col in range(n):\n    #for row in (m):\n        #my_array[n][m]= n*m\n\n#print(my_array)",
    "id": "55d8e01b0a81488e9482204256ce0459",
    "idx": 62,
    "time": "2021-02-16T06:19:13.905Z",
    "type": "execution"
   },
   {
    "id": "55d8e01b0a81488e9482204256ce0459",
    "time": "2021-02-16T06:19:14.008Z",
    "type": "completion"
   },
   {
    "code": "m = 3 # number of rows\nn = 4 # number of columns\n\ndef array (m,n):\n    my_array = []\n    for row in range(m):\n        table = []\n        for col in range(n): \n            b = row*col\n            table.append(b)\n            my_array.append(table)\n        print(my_array)\n\narray(3, 4)\n        \nmy_array = [[0 for col in range(n)] for row in range (m)]\n\nfor col in range(n):\n    for row in (m):\n        my_array[n][m]= n*m\n    print(my_array)",
    "id": "55d8e01b0a81488e9482204256ce0459",
    "idx": 62,
    "time": "2021-02-16T06:23:33.505Z",
    "type": "execution"
   },
   {
    "id": "55d8e01b0a81488e9482204256ce0459",
    "time": "2021-02-16T06:23:33.657Z",
    "type": "completion"
   },
   {
    "code": "m = 3 # number of rows\nn = 4 # number of columns\n\ndef array (m,n):\n    my_array = []\n    for row in range(m):\n        table = []\n        for col in range(n): \n            b = row*col\n            table.append(b)\n            my_array.append(table)\n        print(my_array)\n\narray(3, 4)\n        \nmy_array = [[0 for col in range(n)] for row in range (m)]\n\nfor col in range(n):\n    for row in range(m):\n        my_array[n][m]= n*m\n    print(my_array)",
    "id": "55d8e01b0a81488e9482204256ce0459",
    "idx": 62,
    "time": "2021-02-16T06:23:44.796Z",
    "type": "execution"
   },
   {
    "id": "55d8e01b0a81488e9482204256ce0459",
    "time": "2021-02-16T06:23:44.918Z",
    "type": "completion"
   },
   {
    "code": "m = 3 # number of rows\nn = 4 # number of columns\n\ndef array (m,n):\n    my_array = []\n    for row in range(m):\n        table = []\n        for col in range(n): \n            b = row*col\n            table.append(b)\n            my_array.append(table)\n        print(my_array)\n\narray(3, 4)\n        \nmy_array = [[0 for col in range(n)] for row in range (m)]\n\nfor col in range(n):\n    for row in range(m):\n        c = n*m\n    print(my_array)",
    "id": "55d8e01b0a81488e9482204256ce0459",
    "idx": 62,
    "time": "2021-02-16T06:24:08.232Z",
    "type": "execution"
   },
   {
    "id": "55d8e01b0a81488e9482204256ce0459",
    "time": "2021-02-16T06:24:08.344Z",
    "type": "completion"
   },
   {
    "code": "import numpy as np\nimport matplotlib.pyplot as plt\n\ndef sinc(x):\n    \"\"\" Takes a real number x and returns the continuous function\n        sinc(x) = sin(x)/x. \"\"\"\n\n    if x != 0:\n        real = (np.sin(x))/x\n    if x == 0: \n        alternate = (np.sin(x))/(.000000000001)  \n\nx_values = np.linspace(-50, 50, 1001)\n\n'''y_values = sinc(x_values) would give an error; numpy arrays don't play nicely with conditional statements\n   Instead, we have to fill a list of y_values one element at a time.'''\n\ny_values = []\n\nfor x in x_values:\n    y = sinc(x)\n    y_values.append(y)\n    \n# Plotting the sinc function\n\n# Your code here!\n",
    "id": "fb433180e222408bac5ac66f2245ce26",
    "idx": 66,
    "time": "2021-02-16T06:27:06.275Z",
    "type": "execution"
   },
   {
    "id": "fb433180e222408bac5ac66f2245ce26",
    "time": "2021-02-16T06:27:06.389Z",
    "type": "completion"
   },
   {
    "code": "import numpy as np\nimport matplotlib.pyplot as plt\n\ndef sinc(x):\n    \"\"\" Takes a real number x and returns the continuous function\n        sinc(x) = sin(x)/x. \"\"\"\n\n    if x != 0:\n        real = (np.sin(x))/x\n    if x == 0: \n        alternate = (np.sin(x))/(.000000000001)  \n\nx_values = np.linspace(-50, 50, 1001)\n\n'''y_values = sinc(x_values) would give an error; numpy arrays don't play nicely with conditional statements\n   Instead, we have to fill a list of y_values one element at a time.'''\n\ny_values = []\n\nfor x in x_values:\n    y = sinc(x)\n    y_values.append(y)\n    \nplt.plot()\n",
    "id": "fb433180e222408bac5ac66f2245ce26",
    "idx": 66,
    "time": "2021-02-16T06:27:22.436Z",
    "type": "execution"
   },
   {
    "id": "fb433180e222408bac5ac66f2245ce26",
    "time": "2021-02-16T06:27:22.861Z",
    "type": "completion"
   },
   {
    "code": "import numpy as np\nimport matplotlib.pyplot as plt\n\ndef sinc(x):\n    \"\"\" Takes a real number x and returns the continuous function\n        sinc(x) = sin(x)/x. \"\"\"\n\n    if x != 0:\n        real = (np.sin(x))/x\n    if x == 0: \n        alternate = (np.sin(x))/(.000000000001)  \n\nx_values = np.linspace(-50, 50, 1001)\n\n'''y_values = sinc(x_values) would give an error; numpy arrays don't play nicely with conditional statements\n   Instead, we have to fill a list of y_values one element at a time.'''\n\ny_values = []\n\nfor x in x_values:\n    y = sinc(x)\n    y_values.append(y)\n    \nplt.plot(x_values, sinc(x), label = 'sinc(x)')",
    "id": "fb433180e222408bac5ac66f2245ce26",
    "idx": 66,
    "time": "2021-02-16T06:29:58.859Z",
    "type": "execution"
   },
   {
    "id": "fb433180e222408bac5ac66f2245ce26",
    "time": "2021-02-16T06:29:59.466Z",
    "type": "completion"
   },
   {
    "code": "import numpy as np\nimport matplotlib.pyplot as plt\n\ndef sinc(x):\n    \"\"\" Takes a real number x and returns the continuous function\n        sinc(x) = sin(x)/x. \"\"\"\n\n    if x != 0:\n        real = (np.sin(x))/x\n    if x == 0: \n        alternate = (np.sin(x))/(.000000000001)  \n\nx_values = np.linspace(-50, 50, 1001)\n\n'''y_values = sinc(x_values) would give an error; numpy arrays don't play nicely with conditional statements\n   Instead, we have to fill a list of y_values one element at a time.'''\n\ny_values = []\n\nfor x in x_values:\n    y = sinc(x)\n    y_values.append(y)\n    \nplt.plot(x_values, sinc(x_values), label = 'sinc(x)')",
    "id": "fb433180e222408bac5ac66f2245ce26",
    "idx": 66,
    "time": "2021-02-16T06:30:23.924Z",
    "type": "execution"
   },
   {
    "id": "fb433180e222408bac5ac66f2245ce26",
    "time": "2021-02-16T06:30:24.064Z",
    "type": "completion"
   },
   {
    "code": "import numpy as np\nimport matplotlib.pyplot as plt\n\ndef sinc(x):\n    \"\"\" Takes a real number x and returns the continuous function\n        sinc(x) = sin(x)/x. \"\"\"\n\n    if x != 0:\n        real = (np.sin(x))/x\n    if x == 0: \n        alternate = (np.sin(x))/(.000000000001)  \n\nx_values = np.linspace(-50, 50, 1001)\n\n'''y_values = sinc(x_values) would give an error; numpy arrays don't play nicely with conditional statements\n   Instead, we have to fill a list of y_values one element at a time.'''\n\ny_values = []\n\nfor x in x_values:\n    y = sinc(x)\n    y_values.append(y)\n    \nplt.plot(x_values, sinc(x), label = 'sinc(x)')",
    "id": "fb433180e222408bac5ac66f2245ce26",
    "idx": 66,
    "time": "2021-02-16T06:30:52.698Z",
    "type": "execution"
   },
   {
    "id": "fb433180e222408bac5ac66f2245ce26",
    "time": "2021-02-16T06:30:53.115Z",
    "type": "completion"
   },
   {
    "code": "import numpy as np\nimport matplotlib.pyplot as plt\n\n#def sinc(x):\n    \"\"\" Takes a real number x and returns the continuous function\n        sinc(x) = sin(x)/x. \"\"\"\n\n    #if x != 0:\n        #real = (np.sin(x))/x\n    #if x == 0: \n        #alternate = (np.sin(x))/(.000000000001)  \n\nx_values = np.linspace(-50, 50, 1001)\n\n'''y_values = sinc(x_values) would give an error; numpy arrays don't play nicely with conditional statements\n   Instead, we have to fill a list of y_values one element at a time.'''\n\ny_values = []\n\nfor x in x_values:\n    y = sinc(x)\n    y_values.append(y)\n    \nplt.plot(x_values, np.sin(x_values), label = 'sinc(x)')",
    "id": "fb433180e222408bac5ac66f2245ce26",
    "idx": 66,
    "time": "2021-02-16T06:33:58.037Z",
    "type": "execution"
   },
   {
    "id": "fb433180e222408bac5ac66f2245ce26",
    "time": "2021-02-16T06:33:58.158Z",
    "type": "completion"
   },
   {
    "code": "import numpy as np\nimport matplotlib.pyplot as plt\n\n#def sinc(x):\n#\"\"\" Takes a real number x and returns the continuous function\n        #sinc(x) = sin(x)/x. \"\"\"\n\n    #if x != 0:\n        #real = (np.sin(x))/x\n    #if x == 0: \n        #alternate = (np.sin(x))/(.000000000001)  \n\nx_values = np.linspace(-50, 50, 1001)\n\n'''y_values = sinc(x_values) would give an error; numpy arrays don't play nicely with conditional statements\n   Instead, we have to fill a list of y_values one element at a time.'''\n\ny_values = []\n\nfor x in x_values:\n    y = sinc(x)\n    y_values.append(y)\n    \nplt.plot(x_values, np.sin(x_values), label = 'sinc(x)')",
    "id": "fb433180e222408bac5ac66f2245ce26",
    "idx": 66,
    "time": "2021-02-16T06:34:24.438Z",
    "type": "execution"
   },
   {
    "id": "fb433180e222408bac5ac66f2245ce26",
    "time": "2021-02-16T06:34:24.969Z",
    "type": "completion"
   },
   {
    "code": "def is_prime(n):\n    \"\"\" Determines if n is prime or not. Takes an integer n.\n    Returns True if n is prime, and False otherwise. \"\"\"\n    def is_prime(n):\n    if n < 2: \n        print (False)\n    elif n==2:\n        print (True)\n    if (n % 2) != 0:\n            print (True) \n    elif (n % 2) == 0: print (False)\nis_prime(6)       \n    \ndef list_primes(n):\n    \"\"\" Takes an integer n. Returns a list of all primes\n    less than n, using a for loop \"\"\"\n    # Your code here! ",
    "id": "8d5fbf2b0e6c4add9b75a8eaa54061f1",
    "idx": 72,
    "time": "2021-02-16T06:38:07.711Z",
    "type": "execution"
   },
   {
    "id": "8d5fbf2b0e6c4add9b75a8eaa54061f1",
    "time": "2021-02-16T06:38:07.824Z",
    "type": "completion"
   },
   {
    "code": "def is_prime(n):\n    \"\"\" Determines if n is prime or not. Takes an integer n.\n    Returns True if n is prime, and False otherwise. \"\"\"\n    def is_prime(n):\n        if n < 2: \n        print (False)\n        elif n==2:\n        print (True)\n        if (n % 2) != 0:\n            print (True) \n        elif (n % 2) == 0: print (False)\nis_prime(6)       \n    \ndef list_primes(n):\n    \"\"\" Takes an integer n. Returns a list of all primes\n    less than n, using a for loop \"\"\"\n    # Your code here! ",
    "id": "8d5fbf2b0e6c4add9b75a8eaa54061f1",
    "idx": 72,
    "time": "2021-02-16T06:38:16.507Z",
    "type": "execution"
   },
   {
    "id": "8d5fbf2b0e6c4add9b75a8eaa54061f1",
    "time": "2021-02-16T06:38:16.619Z",
    "type": "completion"
   },
   {
    "code": "def is_prime(n):\n    \"\"\" Determines if n is prime or not. Takes an integer n.\n    Returns True if n is prime, and False otherwise. \"\"\"\n    def is_prime(n):\n        if n < 2: \n            print (False)\n        elif n==2:\n            print (True)\n        if (n % 2) != 0:\n            print (True) \n        elif (n % 2) == 0: \n            print (False)\nis_prime(6)       \n    \ndef list_primes(n):\n    \"\"\" Takes an integer n. Returns a list of all primes\n    less than n, using a for loop \"\"\"\n    # Your code here! ",
    "id": "8d5fbf2b0e6c4add9b75a8eaa54061f1",
    "idx": 72,
    "time": "2021-02-16T06:38:26.833Z",
    "type": "execution"
   },
   {
    "id": "8d5fbf2b0e6c4add9b75a8eaa54061f1",
    "time": "2021-02-16T06:38:26.940Z",
    "type": "completion"
   },
   {
    "code": "def is_prime(n):\n    \"\"\" Determines if n is prime or not. Takes an integer n.\n    Returns True if n is prime, and False otherwise. \"\"\"\n    def is_prime(n):\n        if n < 2: \n            print (False)\n        elif n==2:\n            print (True)\n        if (n % 2) != 0:\n            print (True) \n        elif (n % 2) == 0: \n            print (False)\nis_prime(6)       \n\n\ndef list_primes(n):\n    \"\"\" Takes an integer n. Returns a list of all primes\n    less than n, using a for loop \"\"\"\n    # Your code here! ",
    "id": "8d5fbf2b0e6c4add9b75a8eaa54061f1",
    "idx": 72,
    "time": "2021-02-16T06:38:35.732Z",
    "type": "execution"
   },
   {
    "id": "8d5fbf2b0e6c4add9b75a8eaa54061f1",
    "time": "2021-02-16T06:38:35.861Z",
    "type": "completion"
   },
   {
    "code": "def is_prime(n):\n    \"\"\" Determines if n is prime or not. Takes an integer n.\n    Returns True if n is prime, and False otherwise. \"\"\"\n    def is_prime(n):\n        if n < 2: \n            print (False)\n        elif n==2:\n            print (True)\n        if (n % 2) != 0:\n            print (True) \n        elif (n % 2) == 0: \n            print (False)\nis_prime(6)       \n\n\n#def list_primes(n):\n    \"\"\" Takes an integer n. Returns a list of all primes\n    less than n, using a for loop \"\"\"\n    # Your code here! ",
    "id": "8d5fbf2b0e6c4add9b75a8eaa54061f1",
    "idx": 72,
    "time": "2021-02-16T06:38:39.341Z",
    "type": "execution"
   },
   {
    "id": "8d5fbf2b0e6c4add9b75a8eaa54061f1",
    "time": "2021-02-16T06:38:39.473Z",
    "type": "completion"
   },
   {
    "code": "def is_prime(n):\n    if n < 2: \n        print (False)\n    elif n==2:\n        print (True)\n    if (n % 2) != 0:\n        print (True) \n    elif (n % 2) == 0: \n        print (False)\nis_prime(6)       \n\n\n#def list_primes(n):\n    \"\"\" Takes an integer n. Returns a list of all primes\n    less than n, using a for loop \"\"\"\n    # Your code here! ",
    "id": "8d5fbf2b0e6c4add9b75a8eaa54061f1",
    "idx": 72,
    "time": "2021-02-16T06:39:06.555Z",
    "type": "execution"
   },
   {
    "id": "8d5fbf2b0e6c4add9b75a8eaa54061f1",
    "time": "2021-02-16T06:39:06.683Z",
    "type": "completion"
   },
   {
    "code": "def is_prime(n):\n    if n < 2: \n        print (False)\n    elif n==2:\n        print (True)\n    if (n % 2) != 0:\n        print (True) \n    elif (n % 2) == 0: \n        print (False)\nis_prime(6)       \n\n\n#def list_primes(n):\n    #\"\"\" Takes an integer n. Returns a list of all primes\n    #less than n, using a for loop \"\"\"\n    # Your code here! ",
    "id": "8d5fbf2b0e6c4add9b75a8eaa54061f1",
    "idx": 72,
    "time": "2021-02-16T06:39:12.328Z",
    "type": "execution"
   },
   {
    "id": "8d5fbf2b0e6c4add9b75a8eaa54061f1",
    "time": "2021-02-16T06:39:12.448Z",
    "type": "completion"
   },
   {
    "code": "def is_prime(n):\n    if n < 2: \n        print (False)\n    elif n==2:\n        print (True)\n    if (n % 2) != 0:\n        print (True) \n    elif (n % 2) == 0: \n        print (False)\nis_prime(6)       \n\n\ndef list_primes(n):\n    #\"\"\" Takes an integer n. Returns a list of all primes\n    #less than n, using a for loop \"\"\"\n    ",
    "id": "8d5fbf2b0e6c4add9b75a8eaa54061f1",
    "idx": 72,
    "time": "2021-02-16T06:40:51.474Z",
    "type": "execution"
   },
   {
    "id": "8d5fbf2b0e6c4add9b75a8eaa54061f1",
    "time": "2021-02-16T06:40:51.596Z",
    "type": "completion"
   }
  ],
  "kernelspec": {
   "display_name": "Python 3",
   "language": "python",
   "name": "python3"
  },
  "language_info": {
   "codemirror_mode": {
    "name": "ipython",
    "version": 3
   },
   "file_extension": ".py",
   "mimetype": "text/x-python",
   "name": "python",
   "nbconvert_exporter": "python",
   "pygments_lexer": "ipython3",
   "version": "3.8.6"
  }
 },
 "nbformat": 4,
 "nbformat_minor": 1
}
