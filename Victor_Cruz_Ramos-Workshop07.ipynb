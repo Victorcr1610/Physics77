{
 "cells": [
  {
   "cell_type": "markdown",
   "metadata": {},
   "source": [
    "Your name here.  \n",
    "Your section number here.  "
   ]
  },
  {
   "cell_type": "markdown",
   "metadata": {},
   "source": [
    "# Workshop 8: Monte Carlo techniques\n",
    "\n",
    "**Submit this notebook to bCourses to receive a grade for this Workshop.**\n",
    "\n",
    "Please complete workshop activities in code cells in this iPython notebook. The activities titled **Practice** are purely for you to explore Python. Some of them may have some code written, and you should try to modify it in different ways to understand how it works. Although no particular output is expected at submission time, it is _highly_ recommended that you read and work through the practice activities before or alongside the exercises. However, the activities titled **Exercise** have specific tasks and specific outputs expected. Include comments in your code when necessary. Enter your name in the cell at the top of the notebook. The workshop should be submitted on bCourses under the Assignments tab."
   ]
  },
  {
   "cell_type": "code",
   "execution_count": 1,
   "metadata": {},
   "outputs": [],
   "source": [
    "# standard preamble\n",
    "import numpy as np\n",
    "import scipy as sp      \n",
    "from scipy import stats\n",
    "import matplotlib.pyplot as plt\n",
    "%matplotlib inline"
   ]
  },
  {
   "cell_type": "markdown",
   "metadata": {},
   "source": [
    "So far, you have seen the following functions for drawing random numbers from various distributions:\n",
    "\n",
    "    np.random.rand()\n",
    "    np.random.randint()\n",
    "    np.random.uniform()\n",
    "    np.random.standard_normal()\n",
    "    np.random.exponential()\n",
    "    np.random.binomial()\n",
    "    np.random.poisson()\n",
    "    \n",
    "See examples in `Lecture06.ipynb` and the material from last two workshops. Now let's see how to sample probability distributions for which a function may not already exist."
   ]
  },
  {
   "cell_type": "markdown",
   "metadata": {},
   "source": [
    "## Exercise 1: Generating an arbitrary distribution\n",
    "\n",
    "A problem that is frequently encountered is one of sampling one distribution but only having direct access to sampling another distribution (often the uniform distribution). As an example, we will try out one way to draw numbers from a Gaussian distribution starting with numbers drawn only from a uniform distribution. As it turns out, there are multiple ways of doing this. This particular method is known as the [\"Box-Muller transform\"](https://en.wikipedia.org/wiki/Box%E2%80%93Muller_transform).\n",
    "\n",
    "1. Starting from a uniform random number distribution (`numpy.random.rand()`), generate 10,000 Gaussian-distributed random numbers using inverse transform method:\n",
    "    1. Generate a pair of uniform-distributed numbers $u_1\\in[0..1]$ and $u_2\\in[0..1]$\n",
    "    1. Compute $z_1=\\sin(2\\pi u_1)\\sqrt{-2\\ln u_2}$ and $z_2=\\cos(2\\pi u_1)\\sqrt{-2\\ln u_2}$\n",
    "1. Make histograms of $z_1$ and $z_2$.\n",
    "1. Make a scatter plot of $z_2$ vs $z_1$. \n",
    "1. Do the random variables $z_2$ and $z_1$ appear to follow a Gaussian distribution?"
   ]
  },
  {
   "cell_type": "code",
   "execution_count": 2,
   "metadata": {},
   "outputs": [
    {
     "data": {
      "image/png": "[encoded data removed]",
      "text/plain": [
       "<Figure size 432x288 with 1 Axes>"
      ]
     },
     "metadata": {
      "needs_background": "light"
     },
     "output_type": "display_data"
    },
    {
     "data": {
      "image/png": "[encoded data removed]",
      "text/plain": [
       "<Figure size 432x288 with 1 Axes>"
      ]
     },
     "metadata": {
      "needs_background": "light"
     },
     "output_type": "display_data"
    },
    {
     "data": {
      "text/plain": [
       "'I think the random variables do follow a gaussian distribution'"
      ]
     },
     "execution_count": 2,
     "metadata": {},
     "output_type": "execute_result"
    },
    {
     "data": {
      "image/png": "[encoded data removed]",
      "text/plain": [
       "<Figure size 432x288 with 1 Axes>"
      ]
     },
     "metadata": {
      "needs_background": "light"
     },
     "output_type": "display_data"
    }
   ],
   "source": [
    "import numpy as np\n",
    "import matplotlib.pyplot as plt\n",
    "\n",
    "u_1 = np.random.rand(100000)\n",
    "u_2 = np.random.rand(100000)\n",
    "\n",
    "\n",
    "z_1 = np.sin(2*np.pi*u_1)*np.sqrt(-2*np.log(u_2))\n",
    "z_2 = np.cos(2*np.pi*u_1)*np.sqrt(-2*np.log(u_2))\n",
    "\n",
    "plt.hist(z_1, 20)\n",
    "plt.show()\n",
    "plt.hist(z_2, 20)\n",
    "plt.show()\n",
    "\n",
    "plt.scatter(z_2, z_1)\n",
    "\n",
    "'''I think the random variables do follow a gaussian distribution'''\n",
    "\n",
    "# Remember numpy has all the math function you need: np.sin, np.cos, np.sqrt, np.log"
   ]
  },
  {
   "cell_type": "markdown",
   "metadata": {},
   "source": [
    "If you want to get ahead for the next homework assignment, try using `scipy.stats.norm.fit()` to fit the $z_1$ and/or $z_2$ distributions.  This function will return the best-fit values for $\\mu$ and $\\sigma$ (which should be about 0 and 1, respectively)."
   ]
  },
  {
   "cell_type": "code",
   "execution_count": 3,
   "metadata": {},
   "outputs": [
    {
     "name": "stdout",
     "output_type": "stream",
     "text": [
      "(0.0003030989541576923, 1.0033824868827013) (-0.000415569209396966, 1.0015763551188344)\n"
     ]
    }
   ],
   "source": [
    "from scipy.stats import norm\n",
    "\n",
    "\n",
    "print(norm.fit(z_2), norm.fit(z_1))\n",
    "\n",
    "# If you'd like, fit the z1 and/or z2 distribution using norm.fit()"
   ]
  },
  {
   "cell_type": "markdown",
   "metadata": {},
   "source": [
    "## Exercise 2: Integration by accept-reject Monte Carlo method\n",
    "\n",
    "The \"accept-reject\" method is another way of simulating drawing from one probability distribution starting from sampling a uniform distribution. Here we explore this technique for finding the area under curves using random numbers. Although in this exercise we will only use it to estimate the value of $\\pi$, you can use it for more sophisticated problems.\n",
    "\n",
    "Before we start coding, let us just look at a quarter circle inscribed inside a square of dimensions 1 by 1.\n",
    "\n",
    "<img src=\"quarter_circle.png\">\n",
    "\n",
    "If we were to throw a dart randomly, with uniform probability, into the square, what is the probability it would land in the shaded region under the curve? It should be the ratio of the shaded area to the area of the entire square.\n",
    "\n",
    "$$P(\\text{dart under curve}) = \\frac{A_\\text{curve}}{A_\\text{square}}$$\n",
    "$$A_\\text{curve} = \\frac{1}{4}\\pi \\times 1^2$$\n",
    "$$A_\\text{square} = 1 \\times 1$$\n",
    "$$P(\\text{dart under curve}) = \\frac{\\pi}{4}$$\n",
    "\n",
    "We also know that if we were to throw a very large number of darts, the fraction of them that land in the shaded region would approach the value of $P(\\text{dart under curve})$ found above. Therefore, if we can simulate throwing these darts and checking whether they landed inside the shaded region or outside the shaded region, we can estimate the area of the shaded region. In this case, the area of the shaded region is proportional to $\\pi$, so we can then use that area to estimate $\\pi$.\n",
    "\n",
    "This technique of randomly generating points and checking whether they are under the curve or above the curve is referred to as $\\textit{Monte Carlo integration}$.\n",
    "Compute the value of $\\pi$ using Monte Carlo method. \n",
    "\n",
    "1. Implement the Monte Carlo accept-reject method for computing $\\pi$\n",
    "1. For a given number of events $N$ you use in the calculation, compute\n",
    "    1. The estimate of $\\pi$\n",
    "    1. The estimated precision of the value $\\pi$\n",
    "1. Plot the difference between estimated and true value of $\\pi$ as a function of the number of events $N$ and compare that difference to the uncertainty you estimated"
   ]
  },
  {
   "cell_type": "code",
   "execution_count": 165,
   "metadata": {},
   "outputs": [
    {
     "name": "stdout",
     "output_type": "stream",
     "text": [
      "3.136\n"
     ]
    },
    {
     "data": {
      "text/plain": [
       "True"
      ]
     },
     "execution_count": 165,
     "metadata": {},
     "output_type": "execute_result"
    }
   ],
   "source": [
    "import numpy as np\n",
    "import matplotlib.pyplot as plt\n",
    "import random\n",
    "\n",
    "x_cor = np.random.rand(1)[0]\n",
    "y_cor = np.random.rand(1)[0]\n",
    "N = 1000\n",
    "\n",
    "def monte_carlo(x, y):\n",
    "    #x**2+y**2=1\n",
    "    circle_points= 0\n",
    "    square_points= 0\n",
    "    \n",
    "    #np.random.rand()\n",
    "    #np.random.rand(y*2)\n",
    "\n",
    "    for i in range(N):\n",
    "        dist = x**2+y**2\n",
    "        \n",
    "        if dist<= 1:\n",
    "            circle_points+= 1\n",
    "        square_points+= 1\n",
    "        x = np.random.rand(1)[0]\n",
    "        y = np.random.rand(1)[0]\n",
    "    \n",
    "    pi =  4*circle_points/square_points\n",
    "    \n",
    "    print(pi)\n",
    "    \n",
    "    if x**2+y**2 >= 1:\n",
    "        #point is not in blue area return false\n",
    "        return False\n",
    "    \n",
    "    else:\n",
    "        #point is in blue area returns true\n",
    "        return True\n",
    "    \n",
    "monte_carlo(x_cor, y_cor)  \n",
    "#YOOOOOOOOOOOOOOO I GOT IT HAHHHAHAHA\n",
    "#for i in range(N):\n",
    "    #print(np.random.rand(1)[0], np.random.rand(1)[0])\n",
    "\n",
    "\n",
    "# Don't use np.pi until you are comparing your estimate to the true value"
   ]
  },
  {
   "cell_type": "code",
   "execution_count": 157,
   "metadata": {},
   "outputs": [
    {
     "data": {
      "text/plain": [
       "1.8252295753189707"
      ]
     },
     "execution_count": 157,
     "metadata": {},
     "output_type": "execute_result"
    }
   ],
   "source": [
    "abs((np.pi-3.136))/(3.136)*100 #error"
   ]
  },
  {
   "cell_type": "code",
   "execution_count": 162,
   "metadata": {},
   "outputs": [
    {
     "name": "stdout",
     "output_type": "stream",
     "text": [
      "3.1\n"
     ]
    },
    {
     "data": {
      "text/plain": [
       "[<matplotlib.lines.Line2D at 0x7f470f5b0df0>]"
      ]
     },
     "execution_count": 162,
     "metadata": {},
     "output_type": "execute_result"
    },
    {
     "data": {
      "image/png": "[encoded data removed]",
      "text/plain": [
       "<Figure size 432x288 with 1 Axes>"
      ]
     },
     "metadata": {
      "needs_background": "light"
     },
     "output_type": "display_data"
    }
   ],
   "source": [
    "x = np.linspace(0, 10)\n",
    "y_1 = np.pi*x\n",
    "y_2 = monte_carlo(x_cor, y_cor)*x\n",
    "plt.plot(y_1,x)\n",
    "plt.plot(y_2,x)"
   ]
  },
  {
   "cell_type": "code",
   "execution_count": null,
   "metadata": {},
   "outputs": [],
   "source": []
  }
 ],
 "metadata": {
  "kernelspec": {
   "display_name": "Python 3",
   "language": "python",
   "name": "python3"
  },
  "language_info": {
   "codemirror_mode": {
    "name": "ipython",
    "version": 3
   },
   "file_extension": ".py",
   "mimetype": "text/x-python",
   "name": "python",
   "nbconvert_exporter": "python",
   "pygments_lexer": "ipython3",
   "version": "3.8.8"
  }
 },
 "nbformat": 4,
 "nbformat_minor": 1
}
