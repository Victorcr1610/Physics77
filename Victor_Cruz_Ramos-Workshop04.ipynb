{
 "cells": [
  {
   "cell_type": "markdown",
   "metadata": {},
   "source": [
    "## Workshop 4\n",
    "### File Input and Output (I/O)\n",
    "\n",
    "**Submit this notebook to bCourses (ipynb and pdf) to receive a grade for this Workshop.**\n",
    "\n",
    "Please complete workshop activities in code cells in this iPython notebook. The activities titled **Practice** are purely for you to explore Python. Some of them may have some code written, and you should try to modify it in different ways to understand how it works. Although no particular output is expected at submission time, it is _highly_ recommended that you read and work through the practice activities before or alongside the exercises. However, the activities titled **Exercise** have specific tasks and specific outputs expected. Include comments in your code when necessary. Enter your name in the cell at the top of the notebook. The workshop should be submitted on bCourses under the Assignments tab.\n",
    "\n",
    "[Exercises start here](#exercises)"
   ]
  },
  {
   "cell_type": "markdown",
   "metadata": {},
   "source": [
    "In this notebook, we're going to explore some ways that we can store data in files, and extract data from files. Let's just get all of the importing out of the way:"
   ]
  },
  {
   "cell_type": "code",
   "execution_count": 39,
   "metadata": {},
   "outputs": [],
   "source": [
    "%matplotlib inline\n",
    "import numpy as np\n",
    "import matplotlib as mpl\n",
    "import matplotlib.pyplot as plt"
   ]
  },
  {
   "cell_type": "markdown",
   "metadata": {},
   "source": [
    "## Practice: Basic Writing and Reading ASCII Files"
   ]
  },
  {
   "cell_type": "markdown",
   "metadata": {},
   "source": [
    "Think of ASCII files as text files. You can open them using a text editor (like vim or emacs in Unix, or Notepad in Windows) and read the information they contain directly. There are a few ways to produce these files, and to read them once they've been produced. In Python, the simplest way is to use file objects. \n",
    "\n",
    "Let's give it a try. We create an abstract file object by calling the function `open( filename, access_mode )` and assigning its return value to a variable (usually `f`). The argument `filename` just specifices the name of the file we're interested in, and `access_mode` tells Python what we plan to do with that file:  \n",
    "\n",
    "    'r': read the file  \n",
    "    'w': write to the file (creates a new file, or clears an existing file)\n",
    "    'a': append the file  \n",
    "     \n",
    "Note that both arguments should be strings.\n",
    "For full syntax and special arguments, see documentation at https://docs.python.org/2/library/functions.html#open"
   ]
  },
  {
   "cell_type": "code",
   "execution_count": 2,
   "metadata": {},
   "outputs": [],
   "source": [
    "f = open( 'welcome.txt', 'w' )"
   ]
  },
  {
   "cell_type": "markdown",
   "metadata": {},
   "source": [
    "**A note of caution**: as soon as you call `open()`, Python creates a new file with the name you pass to it if you open it in write mode (`'w'`). Python will overwrite existing files if you open a file of the same name in write ('`w`') mode."
   ]
  },
  {
   "cell_type": "markdown",
   "metadata": {},
   "source": [
    "Now we can write to the file using `f.write( thing_to_write )`. We can write anything we want, but it must be formatted as a string."
   ]
  },
  {
   "cell_type": "code",
   "execution_count": 3,
   "metadata": {},
   "outputs": [],
   "source": [
    "topics = ['Data types', 'Loops', 'Functions', 'Arrays', 'Plotting', 'Statistics']"
   ]
  },
  {
   "cell_type": "code",
   "execution_count": 4,
   "metadata": {},
   "outputs": [],
   "source": [
    "f.write( 'Welcome to Physics 77, Fall 2019\\n' ) # the newline command \\n tells Python to start a new line\n",
    "f.write( 'Topics we will learn about include:\\n' )\n",
    "for top in topics:\n",
    "    f.write( top + '\\n')\n",
    "f.close()                                         # don't forget this part!"
   ]
  },
  {
   "cell_type": "markdown",
   "metadata": {},
   "source": [
    "**Practice 1:** Use the syntax you have just learned to create an ASCII file titled \"`sine.txt`\" with two columns containing 20 x and 20 y values. The x values should range from $0$ to $2\\pi$ - you can use `np.linspace()` to generate these values (as many as you want). The y values should be $y = sin(x)$ (you can use `np.sin()`) for this. Then, use a `for` loop as above to write a new line for each pair of x and y values. To make sure that each x,y pair is on a new line, remember to add `\\n` to the end of each line like above. To separate the values by a tab so that the columns are nicely aligned, you can use the \"character\" `\\t`.  So `\\n` inserts a new line and `\\t` inserts a tab. You may wish to use some kind of string formatting to decimals from running too far. Here is an example with just one data point:\n",
    "\n",
    "    x = 0.5 * np.pi\n",
    "    y = np.sin(x)\n",
    "    print(\"%.5f \\t %.5f\" % (x,y))\n",
    "\n",
    "Pay close attention to the fact that when you use the `write` function, the argument that you pass to it needs to be a string."
   ]
  },
  {
   "cell_type": "code",
   "execution_count": 5,
   "metadata": {},
   "outputs": [
    {
     "name": "stdout",
     "output_type": "stream",
     "text": [
      "0.00000 \t 0.00000\n",
      "0.33069 \t 0.32470\n",
      "0.66139 \t 0.61421\n",
      "0.99208 \t 0.83717\n",
      "1.32278 \t 0.96940\n",
      "1.65347 \t 0.99658\n",
      "1.98416 \t 0.91577\n",
      "2.31486 \t 0.73572\n",
      "2.64555 \t 0.47595\n",
      "2.97625 \t 0.16459\n",
      "3.30694 \t -0.16459\n",
      "3.63763 \t -0.47595\n",
      "3.96833 \t -0.73572\n",
      "4.29902 \t -0.91577\n",
      "4.62972 \t -0.99658\n",
      "4.96041 \t -0.96940\n",
      "5.29110 \t -0.83717\n",
      "5.62180 \t -0.61421\n",
      "5.95249 \t -0.32470\n",
      "6.28319 \t -0.00000\n"
     ]
    }
   ],
   "source": [
    "f = open('sine.txt', 'w')\n",
    "x = np.linspace(0, 2*np.pi, 20)\n",
    "y = np.sin(x)\n",
    "\n",
    "#for v in x:\n",
    "    #f.write(v +'\\n')\n",
    "    \n",
    "#for j in y:\n",
    "    #f.write(j + '\\n')\n",
    "\n",
    "\n",
    "for i in range(20):\n",
    "    #print(x[i], y[i] )\n",
    "    print(\"%.5f \\t %.5f\" % (x[i],y[i])) \n",
    "    print(\"%.5f \\t %.5f\" % (x[i],y[i]) , file=f)\n",
    "    #s = '%.5f \\t %.5f' % (x[i],y[i])\n",
    "    #f.write(s+'\\n')\n",
    "f.close()"
   ]
  },
  {
   "cell_type": "markdown",
   "metadata": {},
   "source": [
    "Now we will show how to *read* the values from `welcome.txt` back out:"
   ]
  },
  {
   "cell_type": "code",
   "execution_count": 6,
   "metadata": {},
   "outputs": [
    {
     "name": "stdout",
     "output_type": "stream",
     "text": [
      "Welcome to Physics 77, Fall 2019\n",
      "\n",
      "Topics we will learn about include:\n",
      "\n",
      "Data types\n",
      "\n",
      "Loops\n",
      "\n",
      "Functions\n",
      "\n",
      "Arrays\n",
      "\n",
      "Plotting\n",
      "\n",
      "Statistics\n",
      "\n"
     ]
    }
   ],
   "source": [
    "f = open( 'welcome.txt', 'r' )\n",
    "for line in f:\n",
    "    print(line)\n",
    "f.close()\n",
    "\n",
    "# after removing the .strip(), the space between the lines grew"
   ]
  },
  {
   "cell_type": "markdown",
   "metadata": {},
   "source": [
    "**Practice 2:** In the cell immediately above, you see that we print `line.strip()` instead of just printing `line`. Remove the `.strip()` part and see what happens. "
   ]
  },
  {
   "cell_type": "markdown",
   "metadata": {},
   "source": [
    "Suppose we wanted to skip the first two lines of `welcome.txt` and print only the list of topics `('Data types', 'Loops', 'Functions', 'Arrays', 'Plotting', 'Statistics')`. We can use `readline()` to \"read\" the first two lines but not store their value, thereby ignoring them."
   ]
  },
  {
   "cell_type": "code",
   "execution_count": 7,
   "metadata": {},
   "outputs": [
    {
     "name": "stdout",
     "output_type": "stream",
     "text": [
      "['Data types', 'Loops', 'Functions', 'Arrays', 'Plotting', 'Statistics']\n"
     ]
    }
   ],
   "source": [
    "f = open( 'welcome.txt', 'r' )\n",
    "f.readline()\n",
    "f.readline() # skip the first two lines\n",
    "topicList = []\n",
    "for line in f:\n",
    "    topicList.append(line.strip())\n",
    "f.close()\n",
    "print(topicList)"
   ]
  },
  {
   "cell_type": "markdown",
   "metadata": {},
   "source": [
    "Python reads in spacing commands from files as well as strings. The `.strip()` just tells Python to ignore those spacing commands. What happens if you remove it from the code above?"
   ]
  },
  {
   "cell_type": "markdown",
   "metadata": {},
   "source": [
    "**Practice 3:** Use the syntax you have just learned to read back each line of x and y values from the `sine.txt` file that you just wrote in Practice 1. Don't worry about breaking up the lines into individual values quite yet."
   ]
  },
  {
   "cell_type": "code",
   "execution_count": 8,
   "metadata": {
    "scrolled": false
   },
   "outputs": [
    {
     "name": "stdout",
     "output_type": "stream",
     "text": [
      "0.00000 \t 0.00000\n",
      "\n",
      "0.33069 \t 0.32470\n",
      "\n",
      "0.66139 \t 0.61421\n",
      "\n",
      "0.99208 \t 0.83717\n",
      "\n",
      "1.32278 \t 0.96940\n",
      "\n",
      "1.65347 \t 0.99658\n",
      "\n",
      "1.98416 \t 0.91577\n",
      "\n",
      "2.31486 \t 0.73572\n",
      "\n",
      "2.64555 \t 0.47595\n",
      "\n",
      "2.97625 \t 0.16459\n",
      "\n",
      "3.30694 \t -0.16459\n",
      "\n",
      "3.63763 \t -0.47595\n",
      "\n",
      "3.96833 \t -0.73572\n",
      "\n",
      "4.29902 \t -0.91577\n",
      "\n",
      "4.62972 \t -0.99658\n",
      "\n",
      "4.96041 \t -0.96940\n",
      "\n",
      "5.29110 \t -0.83717\n",
      "\n",
      "5.62180 \t -0.61421\n",
      "\n",
      "5.95249 \t -0.32470\n",
      "\n",
      "6.28319 \t -0.00000\n",
      "\n"
     ]
    }
   ],
   "source": [
    "#del x,y \n",
    "f = open('sine.txt', 'r' )\n",
    "x_values = []\n",
    "y_values  = []\n",
    "for i in f:\n",
    "    #x = [line.strip() for i in x]\n",
    "    #x_values.append(x)\n",
    "    print(i)\n",
    "f.close()\n"
   ]
  },
  {
   "cell_type": "markdown",
   "metadata": {},
   "source": [
    "### Practice Reading in Numerical Data as Floats"
   ]
  },
  {
   "cell_type": "markdown",
   "metadata": {},
   "source": [
    "Numerical data can be somewhat trickier to read in than strings. In the practices above, you read in `sine.txt` but each line was a `string` not a pair of `float` values. Let's read in a file I produced in another program, that contains results from a BaBar experiment, where we searched for a \"dark photon\" produced in e+e- collisions. The data are presented in two columns: \n",
    "\n",
    "    mass    charge\n",
    "\n",
    "Every time we read in a new line, it is going to start out being a `string`. To convert a line like\n",
    "\n",
    "    1.57079      1.00000\n",
    "    \n",
    "into a pair of values we need to do two things. The first is we need to split that string into two pieces. Fortunately, there is a function to do that for us. Suppose that we read in a `line` and we want to split it. We can do it as follows:\n",
    "\n",
    "    line.split()\n",
    "\n",
    "For the line above, calling `.split()` would return the following `list`:\n",
    "\n",
    "    ['1.57079','1.00000']\n",
    "    \n",
    "From there, we need to convert each value in the list into a `float` and store those values somewhere. This can be done using the `float()` function:\n",
    "\n",
    "    x_values = []\n",
    "    y_values = []\n",
    "    split_values = ['1.57079','1.00000']\n",
    "    x_values.append(float(split_values[0]))\n",
    "    y_values.append(float(split_values[1]))\n",
    "\n",
    "Now `x_values` is a `list` containing 1 element which is the `float` value `1.57079` and `y_values` is a `list` containing 1 element which is the `float` value `1.00000`."
   ]
  },
  {
   "cell_type": "code",
   "execution_count": 9,
   "metadata": {},
   "outputs": [],
   "source": [
    "# Example using BaBar_2016.dat\n",
    "\n",
    "f = open('BaBar_2016.dat', 'r')\n",
    "# read each line, split the data wherever there's a blank space,\n",
    "# and convert the values to floats\n",
    "\n",
    "# lists where we will store the values we read in\n",
    "mass = []\n",
    "charge = []\n",
    "for line in f:\n",
    "    tokens = line.split()\n",
    "    mass.append(float(tokens[0]))\n",
    "    charge.append(float(tokens[1]))\n",
    "f.close()"
   ]
  },
  {
   "cell_type": "markdown",
   "metadata": {},
   "source": [
    "We got it; let's plot it!"
   ]
  },
  {
   "cell_type": "code",
   "execution_count": 10,
   "metadata": {},
   "outputs": [
    {
     "data": {
      "image/png": "[encoded data removed]",
      "text/plain": [
       "<Figure size 432x288 with 1 Axes>"
      ]
     },
     "metadata": {
      "needs_background": "light"
     },
     "output_type": "display_data"
    }
   ],
   "source": [
    "import matplotlib.pyplot as plt\n",
    "%matplotlib inline\n",
    "\n",
    "plt.plot(mass, charge, 'r-' )\n",
    "plt.xlim(0, 8)\n",
    "plt.ylim(0, 2e-3)\n",
    "plt.xlabel('mass (GeV)')\n",
    "plt.ylabel('charge, 90% C.L. limit')\n",
    "plt.show()"
   ]
  },
  {
   "cell_type": "markdown",
   "metadata": {},
   "source": [
    "**Practice 4:** Use the syntax you have just learned to read back each line of x and y values from the sine.txt file that you wrote in Practice 1, and split each line into `float` values and store them. Then, plot your stored x and y values to make sure you have done everything correctly"
   ]
  },
  {
   "cell_type": "code",
   "execution_count": 11,
   "metadata": {
    "scrolled": false
   },
   "outputs": [
    {
     "data": {
      "text/plain": [
       "[<matplotlib.lines.Line2D at 0x7f1216c8c220>]"
      ]
     },
     "execution_count": 11,
     "metadata": {},
     "output_type": "execute_result"
    },
    {
     "data": {
      "image/png": "[encoded data removed]",
      "text/plain": [
       "<Figure size 432x288 with 1 Axes>"
      ]
     },
     "metadata": {
      "needs_background": "light"
     },
     "output_type": "display_data"
    }
   ],
   "source": [
    "f = open('sine.txt', 'r')\n",
    "\n",
    "X_values = []\n",
    "Y_values = []\n",
    "\n",
    "for line in f:\n",
    "    tokens = line.split()\n",
    "    X_values.append(float(tokens[0]))\n",
    "    Y_values.append(float(tokens[1]))\n",
    "    #print(line)\n",
    "    #print(tokens)\n",
    "f.close()\n",
    "#print(x_values)\n",
    "#print(y_values)\n",
    "\n",
    "\n",
    "plt.plot(X_values, Y_values, 'r')\n"
   ]
  },
  {
   "cell_type": "markdown",
   "metadata": {},
   "source": [
    "Of course, you already know of another way to read in values like this: `numpy.loadtxt()` and `numpy.genfromtxt()`. If you have already been using those, feel free to move on. Otherwise, take a moment to make yourself aware of these functions as they will massively simplify your life."
   ]
  },
  {
   "cell_type": "markdown",
   "metadata": {},
   "source": [
    "Fortunately, Python's `numpy` library has functions for converting file information into numpy arrays, which can be easily analyzed and plotted. The above can be accomplished with a lot less code (and a lot less head scratching!)"
   ]
  },
  {
   "cell_type": "markdown",
   "metadata": {},
   "source": [
    "The `genfromtxt` function takes as it's argument the name of the file you want to load, and any optional arguments you want to add to help with the loading and formatting process. Some of the most useful optional arguments are:  \n",
    "\n",
    "  **dtype**: data type of the resulting array  \n",
    "  **comments**: the character that indicates the start of a comment (e.g. '#')  \n",
    "              lines following  these characters will be ignored, and not read into the array  \n",
    "  **delimiter**: the character used to separate values. Often, it's whitespace,   \n",
    "   but it could also be ',', '|', or others  \n",
    "  **skip_header**: how many lines to skip at the beginning of the file  \n",
    "  **skip_footer**: how many lines to skip at the end of the file  \n",
    "  **use_cols**: which columns to load and which to ignore  \n",
    "  **unpack**: If True (the default is False), the array is transposed \n",
    "    (i.e., you can a set of columns, not a set of rows.) You can accomplish the same thing with `genfromtxt( file, opt_args,...).T`"
   ]
  },
  {
   "cell_type": "markdown",
   "metadata": {},
   "source": [
    "Reload the spectral data and reproduce the plot above using `loadtxt` or `genfromtxt`.   \n",
    "**Hint:** You may find it helpful to use `numpy.split( array, N )`, which splits `array` into\n",
    "`N` equal-length parts, and returns them as a list."
   ]
  },
  {
   "cell_type": "code",
   "execution_count": 12,
   "metadata": {},
   "outputs": [
    {
     "data": {
      "image/png": "[encoded data removed]",
      "text/plain": [
       "<Figure size 432x288 with 1 Axes>"
      ]
     },
     "metadata": {
      "needs_background": "light"
     },
     "output_type": "display_data"
    }
   ],
   "source": [
    "# Same plot as before but now using numpy functions to load the data\n",
    "\n",
    "import numpy as np\n",
    "mass, charge = np.loadtxt('BaBar_2016.dat', unpack = True)\n",
    "plt.plot(mass, charge,'r-')\n",
    "plt.xlim(0, 8)\n",
    "plt.ylim(0, 2e-3)\n",
    "plt.xlabel('mass (GeV)')\n",
    "plt.ylabel('charge, 90% C.L. limit')\n",
    "plt.show()"
   ]
  },
  {
   "cell_type": "markdown",
   "metadata": {},
   "source": [
    "## Practice: Writing and Reading CSV files"
   ]
  },
  {
   "cell_type": "markdown",
   "metadata": {},
   "source": [
    "CSV stands for Comma Separated Values. Python's `csv` module allows easy reading and writing of sequences. CSV is especially useful for loading data from spreadsheets and databases."
   ]
  },
  {
   "cell_type": "markdown",
   "metadata": {},
   "source": [
    "Let's make a list and write a file!  \n",
    "First, we need to load a new module that you have not used yet in this course: `csv`"
   ]
  },
  {
   "cell_type": "code",
   "execution_count": 13,
   "metadata": {},
   "outputs": [],
   "source": [
    "import csv"
   ]
  },
  {
   "cell_type": "markdown",
   "metadata": {},
   "source": [
    "Next, just as before we need to create an abstract file object that opens the file we want to write to.  \n",
    "Then, we create another programming abstraction called a *csv writer*, a special object that is built specifically to write sequences to our csv file. In this example, we have called the abstract file object `f_csv` and we have called the abstract csv writer object `SA_writer`"
   ]
  },
  {
   "cell_type": "code",
   "execution_count": 14,
   "metadata": {},
   "outputs": [],
   "source": [
    "f_csv = open( 'nationData.csv', 'w' )\n",
    "SA_writer = csv.writer( f_csv,                 # write to this file object\n",
    "                           delimiter = '|',          # place vertical bar between items we write\n",
    "                           quotechar = '',           # Don't place quotes around strings\n",
    "                           quoting = csv.QUOTE_NONE )# made up of multiple words "
   ]
  },
  {
   "cell_type": "markdown",
   "metadata": {},
   "source": [
    "Make sure that you understand at this point that all we have done is create a writer. It has not written anything to the file yet. So let's try to write the following lists of data:"
   ]
  },
  {
   "cell_type": "code",
   "execution_count": 15,
   "metadata": {},
   "outputs": [],
   "source": [
    "countries = ['Argentina', 'Bolivia', 'Brazil', 'Chile', 'Colombia', 'Ecuador', 'Guyana',\\\n",
    "             'Paraguay', 'Peru', 'Suriname', 'Uruguay', 'Venezuela']\n",
    "capitals = ['Buenos Aires', 'Sucre', 'Brasília', 'Santiago', 'Bogotá', 'Quito', 'Georgetown',\\\n",
    "             'Asunción', 'Lima', 'Paramaribo', 'Montevideo', 'Caracas']\n",
    "population_mils = [ 42.8, 10.1, 203.4, 16.9, 46.4, 15.0, 0.7, 6.5, 29.2, 0.5,\\\n",
    "                      3.3, 27.6]"
   ]
  },
  {
   "cell_type": "markdown",
   "metadata": {},
   "source": [
    "Now let's figure out how to add a line to our CSV file. For a regular ASCII file, we added lines by calling the `write` function. For a CSV file, we use a function called `writerow` which is attributed to our abstract csv writer `SA_writer`:"
   ]
  },
  {
   "cell_type": "code",
   "execution_count": 16,
   "metadata": {},
   "outputs": [],
   "source": [
    "SA_writer.writerow(['Data on South American Nations'])\n",
    "SA_writer.writerow(['Country', 'Capital', 'Populaton (millions)'])\n",
    "for i in range(len(countries)):\n",
    "    SA_writer.writerow( [countries[i], capitals[i], population_mils[i]] )\n",
    "f_csv.close()"
   ]
  },
  {
   "cell_type": "markdown",
   "metadata": {},
   "source": [
    "Now let's see if we can open your file using a SpreadSheet program. If you don't have access to one, find someone who does!   \n",
    "\n",
    "* Download nationData.csv\n",
    "* Open Microsoft Excel (or equivalent), and select \"Import Data.\"  \n",
    "* Locate nationData.csv in the list of files that pops up.  \n",
    "* Select the \"Delimited\" Option in the next dialog box, and hit \"Next\"\n",
    "* Enter the appropriate delimiter in the next pop-up box, and hit finish.\n",
    "\n",
    "How did we do?"
   ]
  },
  {
   "cell_type": "markdown",
   "metadata": {},
   "source": [
    "**Practice 5:** Use syntax learned above to generate a csv file called `sine.csv` with pairs of x and y values separated by a comma. It should end up looking sort of like\n",
    "\n",
    "    0.0,0.0\n",
    "    1.57079632679,1.00000000\n",
    "Notice a few things: we don't need to use any formatting of the numbers. It doesn't matter how many decimal places each value has on each line. Python will just use the comma to figure out where one number ends and another begins"
   ]
  },
  {
   "cell_type": "code",
   "execution_count": 66,
   "metadata": {},
   "outputs": [
    {
     "name": "stdout",
     "output_type": "stream",
     "text": [
      "0.0 0.0\n",
      "0.3306939635357677 0.32469946920468346\n",
      "0.6613879270715354 0.6142127126896678\n",
      "0.992081890607303 0.8371664782625285\n",
      "1.3227758541430708 0.9694002659393304\n",
      "1.6534698176788385 0.9965844930066698\n",
      "1.984163781214606 0.9157733266550575\n",
      "2.3148577447503738 0.7357239106731318\n",
      "2.6455517082861415 0.4759473930370737\n",
      "2.9762456718219092 0.16459459028073403\n",
      "3.306939635357677 -0.16459459028073378\n",
      "3.6376335988934447 -0.4759473930370735\n",
      "3.968327562429212 -0.7357239106731313\n",
      "4.29902152596498 -0.9157733266550573\n",
      "4.6297154895007475 -0.9965844930066698\n",
      "4.960409453036515 -0.9694002659393305\n",
      "5.291103416572283 -0.8371664782625288\n",
      "5.621797380108051 -0.614212712689668\n",
      "5.9524913436438185 -0.32469946920468373\n",
      "6.283185307179586 -2.4492935982947064e-16\n"
     ]
    }
   ],
   "source": [
    "f_csv = open( 'sine.csv', 'w' )\n",
    "SA_writer = csv.writer( f_csv,                 # write to this file object\n",
    "                           delimiter = '|',          # place vertical bar between items we write\n",
    "                           quotechar = '',\n",
    "                           quoting = csv.QUOTE_NONE )# made up of multiple words \n",
    "x = np.linspace(0, 2*np.pi, 20)\n",
    "y = np.sin(x)\n",
    "\n",
    "for i in range(20):\n",
    "    print(x[i], y[i])\n",
    "    #print(\"%.5f \\t %.5f\" % (x[i],y[i])) \n",
    "    print(\"%.5f \\t %.5f\" % (x[i],y[i]) , file=f_csv)\n",
    "    #print(y) \n",
    "f_csv.close()"
   ]
  },
  {
   "cell_type": "markdown",
   "metadata": {},
   "source": [
    "We can use a similar process to *read* data from a csv file back into Python. Let's read in a list of the most populous cities from `cities.csv` and store them for analysis."
   ]
  },
  {
   "cell_type": "code",
   "execution_count": 17,
   "metadata": {},
   "outputs": [],
   "source": [
    "cities = []\n",
    "cityPops = []\n",
    "metroPops = []"
   ]
  },
  {
   "cell_type": "code",
   "execution_count": 18,
   "metadata": {},
   "outputs": [
    {
     "name": "stdout",
     "output_type": "stream",
     "text": [
      "['Shanghai', 'China', '24.3', '24.8']\n",
      "['Lagos', 'Nigeria', '21.3', '21']\n",
      "['Delhi', 'India', '16.8', '21.8']\n",
      "['Istanbul', 'Turkey', '14.4', '14.4']\n",
      "['Tokyo', 'Japan', '13.3', '36.9']\n",
      "['Mumbai', 'India', '12.5', '20.7']\n",
      "['Sao Paulo', 'Brazil', '11.9', '20.9']\n",
      "['Beijing', 'China', '21.5', '21.1']\n",
      "['Shenzhen', 'China', '10.8', '10.6']\n",
      "['Seoul', 'South Korea', '10.3', '25.6']\n",
      "['Jakarta', 'Indonesia', '10', '10.1']\n",
      "['Guangzhou', 'China', '9.9', '23.9']\n",
      "['Mexico City', 'Mexico', '8.9', '21.2']\n",
      "['Lima', 'Peru', '8.7', '9.9']\n",
      "['London', 'United Kingdom', '8.5', '14']\n",
      "['New York City', 'United States', '8.5', '20.1']\n",
      "['Bengaluru', 'India', '8.4', '8.7']\n",
      "['Bangkok', 'Thailand', '8.3', '8.3']\n"
     ]
    }
   ],
   "source": [
    "f_csv = open( 'cities.csv', 'r')\n",
    "readCity = csv.reader( f_csv, delimiter = ',' )\n",
    "\n",
    "# The following line is how we skip a line in a csv. It is the equivalent of readline from before.\n",
    "next(readCity) # skip the header row\n",
    "\n",
    "\n",
    "for row in readCity:\n",
    "    print(row)\n",
    "f_csv.close()    "
   ]
  },
  {
   "cell_type": "markdown",
   "metadata": {},
   "source": [
    "Look at the output of the code above. Every `row` that is read in is a `list` of `strings` by default again. So in order to use the numbers *as numbers* we need to convert them using the `float()` operation. Below, we use this to figure out which city has the largest city population:"
   ]
  },
  {
   "cell_type": "code",
   "execution_count": 19,
   "metadata": {},
   "outputs": [
    {
     "name": "stdout",
     "output_type": "stream",
     "text": [
      "The city with the largest population is: Shanghai, China with a population of 24.3 million people\n"
     ]
    }
   ],
   "source": [
    "f_csv = open( 'cities.csv', 'r')\n",
    "readCity = csv.reader( f_csv, delimiter = ',' )\n",
    "\n",
    "largest_city_pop = 0.0\n",
    "city_w_largest_pop = None\n",
    "\n",
    "# The following line is how we skip a line in a csv. It is the equivalent of readline from before.\n",
    "next(readCity) # skip the header row\n",
    "\n",
    "\n",
    "for row in readCity:\n",
    "    city_country = ', '.join(row[0:2]) # joins the city and country strings using a comma, like \"Shanghai, China\"\n",
    "    cityPop =  float(row[2])\n",
    "    metroPop = float(row[3])\n",
    "    \n",
    "    # if the population of this city is the largest seen so far, update\n",
    "    if cityPop > largest_city_pop:\n",
    "        largest_city_pop = cityPop\n",
    "        city_w_largest_pop = city_country\n",
    "f_csv.close()\n",
    "\n",
    "print(\"The city with the largest population is: %s with a population of %.1f million people\" % (city_w_largest_pop, largest_city_pop))"
   ]
  },
  {
   "cell_type": "markdown",
   "metadata": {},
   "source": [
    "**Practice 6:** Use the syntax learned above to read in the x and y values from your `sine.csv` file. Plot your data to be sure you did everything correctly."
   ]
  },
  {
   "cell_type": "code",
   "execution_count": 67,
   "metadata": {},
   "outputs": [
    {
     "data": {
      "text/plain": [
       "[<matplotlib.lines.Line2D at 0x7f1216afc5b0>]"
      ]
     },
     "execution_count": 67,
     "metadata": {},
     "output_type": "execute_result"
    },
    {
     "data": {
      "image/png": "[encoded data removed]",
      "text/plain": [
       "<Figure size 432x288 with 1 Axes>"
      ]
     },
     "metadata": {
      "needs_background": "light"
     },
     "output_type": "display_data"
    }
   ],
   "source": [
    "f_csv = open('sine.csv', 'r')\n",
    "\n",
    "X_values = []\n",
    "Y_values = []\n",
    "\n",
    "for line in f_csv:\n",
    "    tokens = line.split()\n",
    "    X_values.append(float(tokens[0]))\n",
    "    Y_values.append(float(tokens[1]))\n",
    "    #print(line)\n",
    "    #print(tokens)\n",
    "f.close()\n",
    "#print(x_values)\n",
    "#print(y_values)\n",
    "\n",
    "\n",
    "plt.plot(X_values, Y_values, 'r')"
   ]
  },
  {
   "cell_type": "markdown",
   "metadata": {},
   "source": [
    "<a id='exercises'></a>"
   ]
  },
  {
   "cell_type": "markdown",
   "metadata": {},
   "source": [
    "## Exercises\n",
    "\n"
   ]
  },
  {
   "cell_type": "markdown",
   "metadata": {},
   "source": [
    "**Exercise 1:** This exercise is meant to put many of the skills you have practiced thus far together. In this exercise, we are going to use I/O methods to see if we can find some correlations in some fake housing data. You will need the following files which should be in your directory:\n",
    "\n",
    "    house_locs_rent.txt\n",
    "    bus_stops.txt\n",
    "    grocery_stores.txt\n",
    "\n",
    "The file `house_locs_rent.txt` is a list of the locations of 500 houses and ther respective rents, and it has 3 columns:\n",
    "    \n",
    "    x-coordinate y-coordinate rent (in USD)\n",
    "\n",
    "The file `bus_stops.txt` is a list of the locations of bus stops and it has 2 columns:\n",
    "\n",
    "    x-coordinate y-coordinate\n",
    "\n",
    "The file `grocery_stores.txt` is a list of the locaitons of grocery stores and it has 2 columns: \n",
    "\n",
    "    x-coordinate y-coordinate\n",
    "\n",
    "All 3 files have one-line headers that you will want to ignore when loading the data. The goal of the exercise is to determine how much of the variation in the rent is predicted by variation in the distance between a house and its closest bus stop or by the distance between a house and its closest grocery store.\n",
    "\n",
    "To determine this, for each of the 500 houses, you will need to first calculate its distance to its nearest bus stop and its distance to its nearest grocery store.\n",
    "\n",
    "Then, we will use a measure called the Pearson correlation coefficient (which you will use in Homework04) to give an estimate of how much of the variation in the rent is predicted by variation in these distances. The Pearson correlation coefficient is defined as follows:\n",
    "\n",
    "### Correlation Coefficient\n",
    "\n",
    "Suppose I have $N$ data points each with two variables $X_i$ and $Y_i$, where $i = 1\\dots N$. Suppose I want to know how much of the variation in $Y$ is predicted by the variation in $X$. The correlation coefficient $R$ is a value between -1 and 1 with the following meaning: when $R=0$, $X$ and $Y$ are independent of each other. When $R>0$, we say they are positively correlated because if $X$ increases we can expect that $Y$ will increase as well. When $R<0$ we say they are negatively or oppositely correlated because if $X$ increases we can expect that $Y$ will decrease. $R$ is defined as follows:\n",
    "\n",
    "$$R = \\frac{\\mathbb{E}[(X_i - \\mu_X)(Y_i - \\mu_Y)]}{\\sigma_X \\sigma_Y} = \\frac{1}{N \\sigma_X \\sigma_Y} \\sum_{i=1}^N \n",
    "(X_i - \\mu_X)(Y_i - \\mu_Y)$$\n",
    "\n",
    "where $\\mu_X$ is the average of $X_i$ over the dataset, $\\mu_Y$ is the average of $Y_i$ over the dataset, $\\sigma_X$ is the standard deviation of $X_i$ over the dataset, and $\\sigma_Y$ is the standard deviation of $Y_i$ over the dataset. For calculating those quantities, you may find `np.mean()` and `np.std()` helpful.\n",
    "\n",
    "**However**, you must write your *own* correlation coefficient function. It can use `np.mean()` and `np.std()` but it should not call `np.cov` or `np.corrcoef` . \n",
    "\n",
    "**Output:** Your code should contain a function to calculate correlation coefficients as well as any other functions that you want to write (for example, a distance function, a minimum distance function...). The output should be the correlation coefficients between the pairs of variables (minimum distances to bus stops, minimum distances to grocery stores, rents) appropriately labeled. Also, create a CSV file titled `distances_rents.csv` and write the values of the minimum distances to the bus_stop and grocery store for each house along with its rent. For example, if the closest bus stop to the first house is 0.5 away and the closest grocery store to the first house is 1.5 away and the rent of the first house is 1250, then the first line of the CSV should read:\n",
    "\n",
    "    0.5,1.5,1250\n",
    "\n",
    "**Optional:** See if you can guess how I generated this fake data. To help sharpen your guess, try transforming the variables before computing the correlation coefficients. If the magnitude of the correlation coefficients goes up, that can be an indicator that you have found the correct form of the function. "
   ]
  },
  {
   "cell_type": "code",
   "execution_count": 23,
   "metadata": {},
   "outputs": [
    {
     "data": {
      "text/plain": [
       "-0.1954939604279999"
      ]
     },
     "execution_count": 23,
     "metadata": {},
     "output_type": "execute_result"
    }
   ],
   "source": [
    "from numpy import mean\n",
    "from numpy import std\n",
    "from numpy.random import randn\n",
    "from numpy.random import seed\n",
    "#seed(1)\n",
    "x = 10 * randn(40)\n",
    "y = randn(40) + 10\n",
    "#correlation_coefficient = (1/(std(x) * std(y))) * (sum((x - mean(y))*(y - mean(y))))\n",
    "#print(correlation_coefficient)\n",
    "\n",
    "\"\"\"One of the issues that I came upon was that the data sets had to be the same size which I did not understanwhy that was\"\"\"\n",
    "\n",
    "\n",
    "def cor_eff (m, n):\n",
    "    #correlation = 1/(std(m) * std(n)) * sum((m - mean(m))*(n - mean(n)))\n",
    "    correlation = (sum((m-mean(m))*(n-mean(n))))/(sum((x-mean(x))**2)*sum((y-mean(y))**2))**(1/2)\n",
    "    return correlation\n",
    "\n",
    "cor_eff(x, y)\n",
    "\n"
   ]
  },
  {
   "cell_type": "code",
   "execution_count": 28,
   "metadata": {
    "scrolled": true
   },
   "outputs": [
    {
     "name": "stdout",
     "output_type": "stream",
     "text": [
      "['y', '7.50000', '7.50000', '0.00000', '0.00000', '0.00000', '-5.00000', '-5.00000', '-7.50000', '-7.50000', '-7.50000', '0.00000', '5.00000', '5.00000', '5.00000', '5.00000']\n"
     ]
    },
    {
     "ename": "TypeError",
     "evalue": "must be real number, not str",
     "output_type": "error",
     "traceback": [
      "\u001b[0;31m---------------------------------------------------------------------------\u001b[0m",
      "\u001b[0;31mTypeError\u001b[0m                                 Traceback (most recent call last)",
      "\u001b[0;32m<ipython-input-28-2abc4208da6a>\u001b[0m in \u001b[0;36m<module>\u001b[0;34m\u001b[0m\n\u001b[1;32m     35\u001b[0m \u001b[0;34m\u001b[0m\u001b[0m\n\u001b[1;32m     36\u001b[0m \u001b[0;32mfor\u001b[0m \u001b[0mj\u001b[0m \u001b[0;32min\u001b[0m \u001b[0mrange\u001b[0m\u001b[0;34m(\u001b[0m\u001b[0;36m10\u001b[0m\u001b[0;34m)\u001b[0m\u001b[0;34m:\u001b[0m\u001b[0;34m\u001b[0m\u001b[0;34m\u001b[0m\u001b[0m\n\u001b[0;32m---> 37\u001b[0;31m     \u001b[0mprint\u001b[0m\u001b[0;34m(\u001b[0m\u001b[0;34m\"%.5f \\t %.5f\"\u001b[0m \u001b[0;34m%\u001b[0m \u001b[0;34m(\u001b[0m\u001b[0mu\u001b[0m\u001b[0;34m[\u001b[0m\u001b[0mi\u001b[0m\u001b[0;34m]\u001b[0m\u001b[0;34m,\u001b[0m\u001b[0mw\u001b[0m\u001b[0;34m[\u001b[0m\u001b[0mi\u001b[0m\u001b[0;34m]\u001b[0m\u001b[0;34m)\u001b[0m \u001b[0;34m,\u001b[0m \u001b[0mfile\u001b[0m\u001b[0;34m=\u001b[0m\u001b[0mf_csv\u001b[0m\u001b[0;34m)\u001b[0m \u001b[0;31m#this is how I tried to store the values of u and w in the csv file\u001b[0m\u001b[0;34m\u001b[0m\u001b[0;34m\u001b[0m\u001b[0m\n\u001b[0m\u001b[1;32m     38\u001b[0m     \u001b[0mprint\u001b[0m\u001b[0;34m(\u001b[0m\u001b[0;34m(\u001b[0m\u001b[0mu\u001b[0m\u001b[0;34m[\u001b[0m\u001b[0mi\u001b[0m\u001b[0;34m]\u001b[0m\u001b[0;34m,\u001b[0m\u001b[0mw\u001b[0m\u001b[0;34m[\u001b[0m\u001b[0mi\u001b[0m\u001b[0;34m]\u001b[0m\u001b[0;34m)\u001b[0m \u001b[0;34m)\u001b[0m\u001b[0;34m\u001b[0m\u001b[0;34m\u001b[0m\u001b[0m\n\u001b[1;32m     39\u001b[0m \u001b[0;34m\u001b[0m\u001b[0m\n",
      "\u001b[0;31mTypeError\u001b[0m: must be real number, not str"
     ]
    }
   ],
   "source": [
    "f = open('house_locs_rent.txt', 'r')\n",
    "x = []\n",
    "\n",
    "for line in f:\n",
    "    tokens = line.split()\n",
    "    x.append((tokens[-1]))\n",
    "    #Y_values.append(float(tokens[1]))\n",
    "f.close()\n",
    "\n",
    "\n",
    "n = open('bus_stops.txt', 'r')\n",
    "u = []\n",
    "for line in n:\n",
    "    tokens = line.split()\n",
    "    u.append((tokens[-1]))\n",
    "    #Y_values.append(float(tokens[1]))\n",
    "f.close()\n",
    "\n",
    "g = open('grocery_stores.txt', 'r')\n",
    "w = []\n",
    "for line in g:\n",
    "    tokens = line.split()\n",
    "    w.append((tokens[1]))\n",
    "    #Y_values.append(float(tokens[1]))\n",
    "f.close()\n",
    "\n",
    "\n",
    "f_csv = open( 'distances_rents.csv', 'w' )\n",
    "house = []\n",
    "bus = []\n",
    "stores = []\n",
    "    \n",
    "#cor_eff(u, w)\n",
    "print(u)\n",
    "\n",
    "for j in range(10):\n",
    "    print(\"%.5f \\t %.5f\" % (u[i],w[i]) , file=f_csv) #this is how I tried to store the values of u and w in the csv file\n",
    "    print((u[i],w[i]))\n",
    "    \n",
    "\"\"\"I meant to ask today during workshop but i got busy doing today's workshop; \n",
    "I shall explain what i tried to do. I treid to open the three respective files and puul out the data\n",
    "but this was more complex than I thought (or maybe I just did it wrong), nonetheless when it came \n",
    "to putting that data into the csv file and calculating the correlation coefficient I was unable to do \n",
    "since I assume I messed up the process. \"\"\""
   ]
  },
  {
   "cell_type": "markdown",
   "metadata": {},
   "source": [
    "## OPTIONAL: Practice With HDF5 Files"
   ]
  },
  {
   "cell_type": "markdown",
   "metadata": {},
   "source": [
    "So far you have encountered a standard ASCII text file and a CSV file. The next file format is called an HDF5 file. HDF5 files are ideally suited for managing large amounts of complex data. Python can read them using the module `h5py.`"
   ]
  },
  {
   "cell_type": "code",
   "execution_count": 30,
   "metadata": {},
   "outputs": [],
   "source": [
    "import h5py"
   ]
  },
  {
   "cell_type": "markdown",
   "metadata": {},
   "source": [
    "Let's load our first hdf5 file into an abstract file object. We call ours `fh5` in the example below:"
   ]
  },
  {
   "cell_type": "code",
   "execution_count": 31,
   "metadata": {},
   "outputs": [],
   "source": [
    "fh5 = h5py.File( 'solar.h5py', 'r' )"
   ]
  },
  {
   "cell_type": "markdown",
   "metadata": {},
   "source": [
    "Here is how data is stored in an HDF5 file:\n",
    "    hdf5 files are made up of data sets\n",
    "    Each data set has a name. The correct Python terminology for this is \"key\". Let's take a look at what data sets are in `solar.h5py`. You can access the names (keys) of these data sets using the `.keys()` function:"
   ]
  },
  {
   "cell_type": "code",
   "execution_count": 32,
   "metadata": {},
   "outputs": [
    {
     "name": "stdout",
     "output_type": "stream",
     "text": [
      "TOrbit_yr\n",
      "density\n",
      "mass_earthM\n",
      "names\n",
      "solar_AU\n",
      "surfT_K\n"
     ]
    }
   ],
   "source": [
    "for k in fh5.keys(): # loop through the keys\n",
    "    print(k)"
   ]
  },
  {
   "cell_type": "markdown",
   "metadata": {},
   "source": [
    "To access one of the 6 data sets above, we need to use its name from above. Here we access the data set called `\"names\"`:"
   ]
  },
  {
   "cell_type": "code",
   "execution_count": 33,
   "metadata": {},
   "outputs": [
    {
     "name": "stdout",
     "output_type": "stream",
     "text": [
      "b'Mercury'\n",
      "b'Venus'\n",
      "b'Earth'\n",
      "b'Mars'\n",
      "b'Jupiter'\n",
      "b'Saturn'\n",
      "b'Uranus'\n",
      "b'Neptune'\n"
     ]
    }
   ],
   "source": [
    "for nm in fh5[\"names\"]: # make sure to include the quotation marks!\n",
    "    print(nm)"
   ]
  },
  {
   "cell_type": "markdown",
   "metadata": {},
   "source": [
    "So the dataset called `\"names\"` contains 8 elements (poor Pluto) which are strings. In this HDF5 file, the other data sets contain `float` values, and can be treated like numpy arrays:"
   ]
  },
  {
   "cell_type": "code",
   "execution_count": 34,
   "metadata": {},
   "outputs": [
    {
     "name": "stdout",
     "output_type": "stream",
     "text": [
      "[ 0.38709894  1.0000001   5.203363   19.191263  ]\n",
      "440.0\n"
     ]
    }
   ],
   "source": [
    "print(fh5[\"solar_AU\"][::2])\n",
    "print(fh5[\"surfT_K\"][fh5[\"names\"]=='Earth'])"
   ]
  },
  {
   "cell_type": "markdown",
   "metadata": {},
   "source": [
    "Let's make a plot of the solar system that shows each planet's:  \n",
    "* distance from the sun (position on the x-axis)\n",
    "* orbital period (position on the y-axis\n",
    "* mass (size of scatter plot marker)\n",
    "* surface temperature (color of marker)\n",
    "* density (transparency (or alpha, in matplotlib language))"
   ]
  },
  {
   "cell_type": "code",
   "execution_count": 35,
   "metadata": {},
   "outputs": [],
   "source": [
    "distAU = fh5[\"solar_AU\"][:]\n",
    "mass = fh5[\"mass_earthM\"][:]\n",
    "torb = fh5[\"TOrbit_yr\"][:]\n",
    "temp = fh5[\"surfT_K\"][:]\n",
    "rho = fh5[\"density\"][:]\n",
    "names = fh5[\"names\"][:]"
   ]
  },
  {
   "cell_type": "code",
   "execution_count": 36,
   "metadata": {},
   "outputs": [],
   "source": [
    "def get_size( ms ):\n",
    "    m = 400.0/(np.max(mass) - np.min(mass))\n",
    "    return 100.0 + (ms - np.min(mass))*m \n",
    "def get_alpha( p ):\n",
    "    m = .9/(np.max(rho)-np.min(rho))\n",
    "    return .1+(p - np.min(rho))*m"
   ]
  },
  {
   "cell_type": "code",
   "execution_count": 40,
   "metadata": {},
   "outputs": [],
   "source": [
    "alfs = get_alpha(rho)"
   ]
  },
  {
   "cell_type": "code",
   "execution_count": 41,
   "metadata": {},
   "outputs": [
    {
     "name": "stderr",
     "output_type": "stream",
     "text": [
      "<ipython-input-41-69754d13b7da>:13: UserWarning: Attempted to set non-positive bottom ylim on a log-scaled axis.\n",
      "Invalid limit will be ignored.\n",
      "  ax.set_ylim(-5,200)\n"
     ]
    },
    {
     "data": {
      "text/plain": [
       "Text(0.5, 1.0, 'Our solar system')"
      ]
     },
     "execution_count": 41,
     "metadata": {},
     "output_type": "execute_result"
    },
    {
     "data": {
      "image/png": "[encoded data removed]",
      "text/plain": [
       "<Figure size 432x288 with 1 Axes>"
      ]
     },
     "metadata": {
      "needs_background": "light"
     },
     "output_type": "display_data"
    }
   ],
   "source": [
    "import matplotlib as mpl\n",
    "import matplotlib.pyplot as plt\n",
    "\n",
    "norm = mpl.colors.Normalize(vmin=np.min(temp), vmax=np.max(temp))\n",
    "cmap = plt.cm.cool\n",
    "m = plt.cm.ScalarMappable(norm=norm, cmap=cmap)\n",
    "\n",
    "fig, ax = plt.subplots(1)\n",
    "for i in range(8):\n",
    "    ax.scatter( distAU[i], torb[i], s = get_size(mass[i]), color = m.to_rgba(temp[i]), alpha=alfs[i] ) \n",
    "ax.set_xscale('log')\n",
    "ax.set_yscale('log')\n",
    "ax.set_ylim(-5,200)\n",
    "ax.set_ylabel( 'orbital period (y)' )\n",
    "ax.set_xlabel( 'average dist. from sun (AU)' )\n",
    "ax.set_title( 'Our solar system' )"
   ]
  },
  {
   "cell_type": "markdown",
   "metadata": {},
   "source": [
    "Play around with the data and see what interesting relationships you can find!"
   ]
  },
  {
   "cell_type": "markdown",
   "metadata": {},
   "source": [
    "If you ever want to write your own HDF5 file, you can open an h5py file object by calling:  \n",
    "\n",
    "    fh5 = h5py.File('filename.h5py', 'w')  \n",
    "    \n",
    "Data sets are created with\n",
    "\n",
    "    dset = fh5.create_dataset( \"dset_name\", (shape,))\n",
    "    \n",
    "The default data type is float.  \n",
    "The values for the data set are then set with:  \n",
    "\n",
    "    dset[...] = (  )  \n",
    "    \n",
    "where the parenthesis contain an array or similar data of the correct shape. After you've added all your data sets, close the file with  \n",
    "\n",
    "    fh5.close()  \n",
    "If you have extra time, try creating your own data set and read it back in to verify that you've done it correctly!"
   ]
  },
  {
   "cell_type": "markdown",
   "metadata": {
    "collapsed": true
   },
   "source": [
    "## OPTIONAL: Practice With Binary Files"
   ]
  },
  {
   "cell_type": "markdown",
   "metadata": {},
   "source": [
    "So far, we've been dealing with text files. If you opened these files up with a text editor, you could see what was written in them. Binary files are different. They're written in a form that Python (and other languages) understand how to read, but we can't access them directly.  The most common binary file you'll encounter in python is a *.npy* file, which stores numpy arrays. You can create these files using the command `np.save( filename, arr )`. That command will store the array `arr` as a file called filename, which should have the extension .npy. We can then reload the data with the command `np.load(filename)`"
   ]
  },
  {
   "cell_type": "code",
   "execution_count": 31,
   "metadata": {},
   "outputs": [],
   "source": [
    "x = np.linspace(-1, 1.0, 100)\n",
    "y = np.sin(10*x)*np.exp(-x) - x\n",
    "xy = np.hstack((x,y))"
   ]
  },
  {
   "cell_type": "code",
   "execution_count": 32,
   "metadata": {},
   "outputs": [],
   "source": [
    "# save the array\n",
    "np.save('y_of_x.npy', xy )"
   ]
  },
  {
   "cell_type": "code",
   "execution_count": 33,
   "metadata": {},
   "outputs": [],
   "source": [
    "del x, y, xy # erase these variables from Python's memory"
   ]
  },
  {
   "cell_type": "markdown",
   "metadata": {},
   "source": [
    "Now reload the data and check that you can use it just as before."
   ]
  },
  {
   "cell_type": "code",
   "execution_count": null,
   "metadata": {},
   "outputs": [],
   "source": []
  },
  {
   "cell_type": "markdown",
   "metadata": {},
   "source": [
    "Bonus challenge! Load the file `mysteryArray.npy`, and figure out the best way to plot it.  \n",
    "**Hint:** look at the shape of the file, and the dimensions. "
   ]
  },
  {
   "cell_type": "code",
   "execution_count": 34,
   "metadata": {},
   "outputs": [],
   "source": [
    "data = np.load('mysteryArray.npy')"
   ]
  },
  {
   "cell_type": "code",
   "execution_count": null,
   "metadata": {},
   "outputs": [],
   "source": []
  }
 ],
 "metadata": {
  "kernelspec": {
   "display_name": "Python 3",
   "language": "python",
   "name": "python3"
  },
  "language_info": {
   "codemirror_mode": {
    "name": "ipython",
    "version": 3
   },
   "file_extension": ".py",
   "mimetype": "text/x-python",
   "name": "python",
   "nbconvert_exporter": "python",
   "pygments_lexer": "ipython3",
   "version": "3.8.6"
  }
 },
 "nbformat": 4,
 "nbformat_minor": 1
}
